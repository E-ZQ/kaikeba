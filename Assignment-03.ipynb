{
 "cells": [
  {
   "cell_type": "markdown",
   "metadata": {},
   "source": [
    "## Assignment-03 First Step of Machine Learning: Model and Evaluation"
   ]
  },
  {
   "cell_type": "markdown",
   "metadata": {},
   "source": [
    "同学们，今天我们的学习了基本的机器学习概念，相比你已经对机器学习的这些方法有一个基本的认识了。值得说明的是，机器学习不仅仅是一系列方法，更重要的是一种思维体系，即：依据以往的、现有的数据，构建某种方法来解决未见过的问题。而且决策树，贝叶斯只是实现这个目标的一个方法，包括之后的神经网络。很有可能有一天，神经网络也会被淘汰，但是重要的是我们要理解机器学习的目标，就是尽可能的自动化解决未知的问题。"
   ]
  },
  {
   "cell_type": "markdown",
   "metadata": {},
   "source": [
    "![](https://timgsa.baidu.com/timg?image&quality=80&size=b9999_10000&sec=1571556399207&di=4a97dc15ad08dd49d3748d1edf6109b3&imgtype=0&src=http%3A%2F%2Fc.hiphotos.baidu.com%2Fzhidao%2Fwh%3D450%2C600%2Fsign%3Dae742c6aedcd7b89e93932873a146e91%2F5d6034a85edf8db1b16050c40223dd54574e74c7.jpg)"
   ]
  },
  {
   "cell_type": "markdown",
   "metadata": {},
   "source": [
    "## Part-1 Programming Review 编程回顾"
   ]
  },
  {
   "cell_type": "markdown",
   "metadata": {},
   "source": [
    "#### 1. Re-code the Linear-Regression Model using scikit-learning(10 points)"
   ]
  },
  {
   "cell_type": "markdown",
   "metadata": {},
   "source": [
    "<评阅点>： \n",
    "> + 是否完成线性回归模型 (4')\n",
    "+ 能够进行预测新数据(3')\n",
    "+ 能够进行可视化操作(3')"
   ]
  },
  {
   "cell_type": "code",
   "execution_count": 1,
   "metadata": {},
   "outputs": [],
   "source": [
    "import pandas as pd\n",
    "import numpy as np\n",
    "import matplotlib.pyplot as plt\n",
    "\n",
    "from sklearn.linear_model import LinearRegression\n",
    "from sklearn.datasets import load_iris\n",
    "from sklearn.cluster import KMeans\n",
    "\n",
    "from collections import Counter\n",
    "from collections import defaultdict\n",
    "\n",
    "from icecream import ic"
   ]
  },
  {
   "cell_type": "code",
   "execution_count": 2,
   "metadata": {},
   "outputs": [],
   "source": [
    "y = np.array( [291, 440, 571, 830, 1287, 1975, 2744, 4529, 6078, 7700,9720,11889,14490,17335,20522])\n",
    "X = np.arange(y.shape[0])\n",
    "\n",
    "reg = LinearRegression().fit(X.reshape(-1, 1), y)\n",
    "k = reg.coef_\n",
    "b = reg.intercept_"
   ]
  },
  {
   "cell_type": "code",
   "execution_count": 3,
   "metadata": {},
   "outputs": [
    {
     "data": {
      "text/plain": [
       "0.8979595063642943"
      ]
     },
     "execution_count": 3,
     "metadata": {},
     "output_type": "execute_result"
    }
   ],
   "source": [
    "reg.score(X.reshape(-1, 1), y)"
   ]
  },
  {
   "cell_type": "code",
   "execution_count": 4,
   "metadata": {},
   "outputs": [],
   "source": [
    "def f(x):\n",
    "    return k * x + b"
   ]
  },
  {
   "cell_type": "code",
   "execution_count": 5,
   "metadata": {},
   "outputs": [
    {
     "data": {
      "text/plain": [
       "18033"
      ]
     },
     "execution_count": 5,
     "metadata": {},
     "output_type": "execute_result"
    }
   ],
   "source": [
    "int(reg.predict([[15]]))"
   ]
  },
  {
   "cell_type": "code",
   "execution_count": 6,
   "metadata": {},
   "outputs": [
    {
     "data": {
      "text/plain": [
       "Text(0.5, 0, '天数')"
      ]
     },
     "execution_count": 6,
     "metadata": {},
     "output_type": "execute_result"
    },
    {
     "data": {
      "image/png": "[encoded data removed]",
      "text/plain": [
       "<Figure size 432x288 with 1 Axes>"
      ]
     },
     "metadata": {
      "needs_background": "light"
     },
     "output_type": "display_data"
    }
   ],
   "source": [
    "X_=np.arange(20)\n",
    "plt.scatter(X, y)\n",
    "plt.plot(X_, f(X_), color = 'red')\n",
    "plt.ylabel('确诊人数')\n",
    "plt.xlabel('天数')"
   ]
  },
  {
   "cell_type": "markdown",
   "metadata": {},
   "source": [
    "#### 2. Complete the unfinished KNN Model using pure python to solve the previous Line-Regression problem. (8 points)"
   ]
  },
  {
   "cell_type": "markdown",
   "metadata": {},
   "source": [
    "<评阅点>:\n",
    "> + 是否完成了KNN模型 (4')\n",
    "+ 是否能够预测新的数据 (4')"
   ]
  },
  {
   "cell_type": "code",
   "execution_count": 7,
   "metadata": {},
   "outputs": [],
   "source": [
    "def model(X, y):\n",
    "    return [(Xi, yi) for Xi, yi in zip(X, y)]"
   ]
  },
  {
   "cell_type": "code",
   "execution_count": 8,
   "metadata": {},
   "outputs": [],
   "source": [
    "def predict(x, k=3):\n",
    "    # 单一维度上使用曼哈顿距离，\n",
    "    most_similars = sorted(model(X,y), key=lambda xi: np.abs(xi[0]-x))[:k]\n",
    "    print(most_similars)\n",
    "    y_hats = [_y for x, _y in most_similars]\n",
    "    # 取均值\n",
    "    return np.mean(y_hats)"
   ]
  },
  {
   "cell_type": "code",
   "execution_count": 9,
   "metadata": {},
   "outputs": [
    {
     "name": "stdout",
     "output_type": "stream",
     "text": [
      "[(10, 9720), (9, 7700), (11, 11889)]\n",
      "9769.666666666666\n"
     ]
    }
   ],
   "source": [
    "print(predict(10))"
   ]
  },
  {
   "cell_type": "markdown",
   "metadata": {},
   "source": [
    "#### 3. Re-code the Decision Tree, which could sort the features by salience. (12 points)"
   ]
  },
  {
   "cell_type": "markdown",
   "metadata": {},
   "source": [
    "<评阅点>\n",
    "> + 是否实现了信息熵 (1' )\n",
    "+ 是否实现了最优先特征点的选择(5')\n",
    "+ 是否实现了持续的特征选则(6')"
   ]
  },
  {
   "cell_type": "code",
   "execution_count": 10,
   "metadata": {},
   "outputs": [],
   "source": [
    "def entropy(elements):\n",
    "    '''群体的混乱程度'''\n",
    "    counter = Counter(elements)\n",
    "    probs = [counter[c] / len(elements) for c in set(elements)]\n",
    "    # ic(probs)\n",
    "    return - sum(p * np.log(p) for p in probs)"
   ]
  },
  {
   "cell_type": "code",
   "execution_count": 11,
   "metadata": {},
   "outputs": [
    {
     "data": {
      "text/plain": [
       "-0.0"
      ]
     },
     "execution_count": 11,
     "metadata": {},
     "output_type": "execute_result"
    }
   ],
   "source": [
    "entropy([1, 1, 1, 1])"
   ]
  },
  {
   "cell_type": "code",
   "execution_count": 12,
   "metadata": {},
   "outputs": [
    {
     "data": {
      "text/plain": [
       "-0.0"
      ]
     },
     "execution_count": 12,
     "metadata": {},
     "output_type": "execute_result"
    }
   ],
   "source": [
    "entropy([0, 0, 0, 0])"
   ]
  },
  {
   "cell_type": "code",
   "execution_count": 13,
   "metadata": {},
   "outputs": [],
   "source": [
    "# 加载鸢尾花数据\n",
    "data, target= load_iris(return_X_y = True)\n",
    "data = np.c_[data, target]\n",
    "dataset = pd.DataFrame.from_dict(data)\n",
    "dataset.columns = ['sepal_len', 'sepal_width', 'petal_len', 'petal_width', 'class']"
   ]
  },
  {
   "cell_type": "code",
   "execution_count": 14,
   "metadata": {},
   "outputs": [],
   "source": [
    "sample = dataset.sample(50)\n",
    "sample1 = sample.astype(int)"
   ]
  },
  {
   "cell_type": "code",
   "execution_count": 15,
   "metadata": {},
   "outputs": [
    {
     "data": {
      "text/html": [
       "<div>\n",
       "<style scoped>\n",
       "    .dataframe tbody tr th:only-of-type {\n",
       "        vertical-align: middle;\n",
       "    }\n",
       "\n",
       "    .dataframe tbody tr th {\n",
       "        vertical-align: top;\n",
       "    }\n",
       "\n",
       "    .dataframe thead th {\n",
       "        text-align: right;\n",
       "    }\n",
       "</style>\n",
       "<table border=\"1\" class=\"dataframe\">\n",
       "  <thead>\n",
       "    <tr style=\"text-align: right;\">\n",
       "      <th></th>\n",
       "      <th>sepal_len</th>\n",
       "      <th>sepal_width</th>\n",
       "      <th>petal_len</th>\n",
       "      <th>petal_width</th>\n",
       "      <th>class</th>\n",
       "    </tr>\n",
       "  </thead>\n",
       "  <tbody>\n",
       "    <tr>\n",
       "      <th>62</th>\n",
       "      <td>6</td>\n",
       "      <td>2</td>\n",
       "      <td>4</td>\n",
       "      <td>1</td>\n",
       "      <td>1</td>\n",
       "    </tr>\n",
       "    <tr>\n",
       "      <th>6</th>\n",
       "      <td>4</td>\n",
       "      <td>3</td>\n",
       "      <td>1</td>\n",
       "      <td>0</td>\n",
       "      <td>0</td>\n",
       "    </tr>\n",
       "    <tr>\n",
       "      <th>28</th>\n",
       "      <td>5</td>\n",
       "      <td>3</td>\n",
       "      <td>1</td>\n",
       "      <td>0</td>\n",
       "      <td>0</td>\n",
       "    </tr>\n",
       "    <tr>\n",
       "      <th>146</th>\n",
       "      <td>6</td>\n",
       "      <td>2</td>\n",
       "      <td>5</td>\n",
       "      <td>1</td>\n",
       "      <td>2</td>\n",
       "    </tr>\n",
       "    <tr>\n",
       "      <th>75</th>\n",
       "      <td>6</td>\n",
       "      <td>3</td>\n",
       "      <td>4</td>\n",
       "      <td>1</td>\n",
       "      <td>1</td>\n",
       "    </tr>\n",
       "    <tr>\n",
       "      <th>79</th>\n",
       "      <td>5</td>\n",
       "      <td>2</td>\n",
       "      <td>3</td>\n",
       "      <td>1</td>\n",
       "      <td>1</td>\n",
       "    </tr>\n",
       "    <tr>\n",
       "      <th>46</th>\n",
       "      <td>5</td>\n",
       "      <td>3</td>\n",
       "      <td>1</td>\n",
       "      <td>0</td>\n",
       "      <td>0</td>\n",
       "    </tr>\n",
       "    <tr>\n",
       "      <th>31</th>\n",
       "      <td>5</td>\n",
       "      <td>3</td>\n",
       "      <td>1</td>\n",
       "      <td>0</td>\n",
       "      <td>0</td>\n",
       "    </tr>\n",
       "    <tr>\n",
       "      <th>120</th>\n",
       "      <td>6</td>\n",
       "      <td>3</td>\n",
       "      <td>5</td>\n",
       "      <td>2</td>\n",
       "      <td>2</td>\n",
       "    </tr>\n",
       "    <tr>\n",
       "      <th>67</th>\n",
       "      <td>5</td>\n",
       "      <td>2</td>\n",
       "      <td>4</td>\n",
       "      <td>1</td>\n",
       "      <td>1</td>\n",
       "    </tr>\n",
       "  </tbody>\n",
       "</table>\n",
       "</div>"
      ],
      "text/plain": [
       "     sepal_len  sepal_width  petal_len  petal_width  class\n",
       "62           6            2          4            1      1\n",
       "6            4            3          1            0      0\n",
       "28           5            3          1            0      0\n",
       "146          6            2          5            1      2\n",
       "75           6            3          4            1      1\n",
       "79           5            2          3            1      1\n",
       "46           5            3          1            0      0\n",
       "31           5            3          1            0      0\n",
       "120          6            3          5            2      2\n",
       "67           5            2          4            1      1"
      ]
     },
     "execution_count": 15,
     "metadata": {},
     "output_type": "execute_result"
    }
   ],
   "source": [
    "sample1[:10]"
   ]
  },
  {
   "cell_type": "code",
   "execution_count": 16,
   "metadata": {},
   "outputs": [],
   "source": [
    "final_spliter = []\n",
    "def find_the_optimal_spilter(training_data: pd.DataFrame, target: str, thre = 0) -> str:\n",
    "    # 集合中的自变量部分\n",
    "    x_fields = set(training_data.columns.tolist()) - {target}\n",
    "    \n",
    "    # 赋初始值\n",
    "    spliter = None\n",
    "    min_entropy = float('inf')\n",
    "    \n",
    "    print(training_data)\n",
    "    \n",
    "    for f in x_fields:\n",
    "        # 打印自变量名称\n",
    "        # ic(f)\n",
    "        # 打印自变量的值\n",
    "        values = set(training_data[f])\n",
    "        # ic(values)\n",
    "        \n",
    "        for v in values:\n",
    "            # ic(v)\n",
    "            sub_spliter_1 = training_data[training_data[f] >= v][target].tolist()\n",
    "            # 打印自变量对应的因变量取值\n",
    "            #ic(sub_spliter_1)\n",
    "            # split by the current feature and one value\n",
    "            \n",
    "            # 打印因变量的熵1\n",
    "            entropy_1 = entropy(sub_spliter_1)\n",
    "            #ic(entropy_1)\n",
    "            \n",
    "            # 打印非该自变量时因变量的取值\n",
    "            sub_spliter_2 = training_data[training_data[f] < v][target].tolist()\n",
    "            # ic(sub_spliter_2)\n",
    "            \n",
    "            # 打印因变量的熵2\n",
    "            entropy_2 = entropy(sub_spliter_2)\n",
    "            #ic(entropy_2)\n",
    "            \n",
    "            # 熵1与熵2之和越小，该特征分离效果越显著\n",
    "            entropy_v = entropy_1 + entropy_2\n",
    "            # ic(entropy_v)\n",
    "            \n",
    "            if entropy_v <= min_entropy:\n",
    "                min_entropy = entropy_v\n",
    "                # spliter = （特征，分界值，大于分界时的标签，小于分界时的标签/无则返回-1）\n",
    "                if sub_spliter_2:\n",
    "                    spliter = (f, v, Counter(sub_spliter_1).most_common(2)[0][0], Counter(sub_spliter_2).most_common(2)[0][0])    \n",
    "                else:\n",
    "                    spliter = (f, v, Counter(sub_spliter_1).most_common(2)[0][0], -1)\n",
    "    \n",
    "    print('spliter is: {}'.format(spliter))\n",
    "    print('the min entropy is: {}'.format(min_entropy))\n",
    "    print('\\n')\n",
    "    final_spliter.append(spliter)\n",
    "    \n",
    "    # 对小于分界值部分继续选择特征\n",
    "    new_training_data = training_data.loc[training_data[spliter[0]] < spliter[1]]\n",
    "    if min_entropy > thre and spliter[3] > -1:\n",
    "        find_the_optimal_spilter(new_training_data, target)\n",
    "    \n",
    "    return final_spliter"
   ]
  },
  {
   "cell_type": "code",
   "execution_count": 17,
   "metadata": {},
   "outputs": [
    {
     "name": "stdout",
     "output_type": "stream",
     "text": [
      "     sepal_len  sepal_width  petal_len  petal_width  class\n",
      "62           6            2          4            1      1\n",
      "6            4            3          1            0      0\n",
      "28           5            3          1            0      0\n",
      "146          6            2          5            1      2\n",
      "75           6            3          4            1      1\n",
      "79           5            2          3            1      1\n",
      "46           5            3          1            0      0\n",
      "31           5            3          1            0      0\n",
      "120          6            3          5            2      2\n",
      "67           5            2          4            1      1\n",
      "44           5            3          1            0      0\n",
      "51           6            3          4            1      1\n",
      "111          6            2          5            1      2\n",
      "33           5            4          1            0      0\n",
      "145          6            3          5            2      2\n",
      "80           5            2          3            1      1\n",
      "0            5            3          1            0      0\n",
      "83           6            2          5            1      1\n",
      "126          6            2          4            1      2\n",
      "29           4            3          1            0      0\n",
      "10           5            3          1            0      0\n",
      "85           6            3          4            1      1\n",
      "131          7            3          6            2      2\n",
      "123          6            2          4            1      2\n",
      "60           5            2          3            1      1\n",
      "142          5            2          5            1      2\n",
      "96           5            2          4            1      1\n",
      "3            4            3          1            0      0\n",
      "59           5            2          3            1      1\n",
      "34           4            3          1            0      0\n",
      "141          6            3          5            2      2\n",
      "56           6            3          4            1      1\n",
      "22           4            3          1            0      0\n",
      "138          6            3          4            1      2\n",
      "82           5            2          3            1      1\n",
      "49           5            3          1            0      0\n",
      "45           4            3          1            0      0\n",
      "57           4            2          3            1      1\n",
      "20           5            3          1            0      0\n",
      "110          6            3          5            2      2\n",
      "147          6            3          5            2      2\n",
      "91           6            3          4            1      1\n",
      "64           5            2          3            1      1\n",
      "37           4            3          1            0      0\n",
      "103          6            2          5            1      2\n",
      "108          6            2          5            1      2\n",
      "4            5            3          1            0      0\n",
      "25           5            3          1            0      0\n",
      "135          7            3          6            2      2\n",
      "71           6            2          4            1      1\n",
      "spliter is: ('petal_len', 3, 1, 0)\n",
      "the min entropy is: 0.6911927820032008\n",
      "\n",
      "\n",
      "    sepal_len  sepal_width  petal_len  petal_width  class\n",
      "6           4            3          1            0      0\n",
      "28          5            3          1            0      0\n",
      "46          5            3          1            0      0\n",
      "31          5            3          1            0      0\n",
      "44          5            3          1            0      0\n",
      "33          5            4          1            0      0\n",
      "0           5            3          1            0      0\n",
      "29          4            3          1            0      0\n",
      "10          5            3          1            0      0\n",
      "3           4            3          1            0      0\n",
      "34          4            3          1            0      0\n",
      "22          4            3          1            0      0\n",
      "49          5            3          1            0      0\n",
      "45          4            3          1            0      0\n",
      "20          5            3          1            0      0\n",
      "37          4            3          1            0      0\n",
      "4           5            3          1            0      0\n",
      "25          5            3          1            0      0\n",
      "spliter is: ('sepal_width', 4, 0, 0)\n",
      "the min entropy is: -0.0\n",
      "\n",
      "\n"
     ]
    }
   ],
   "source": [
    "model=find_the_optimal_spilter(training_data=sample1, target='class')"
   ]
  },
  {
   "cell_type": "code",
   "execution_count": 18,
   "metadata": {},
   "outputs": [
    {
     "data": {
      "text/plain": [
       "[('petal_len', 3, 1, 0), ('sepal_width', 4, 0, 0)]"
      ]
     },
     "execution_count": 18,
     "metadata": {},
     "output_type": "execute_result"
    }
   ],
   "source": [
    "model"
   ]
  },
  {
   "cell_type": "code",
   "execution_count": 19,
   "metadata": {},
   "outputs": [],
   "source": [
    "def predict(sample, model):\n",
    "    for rule in model:\n",
    "        if sample.loc[rule[0]] >= rule[1]:\n",
    "            return rule[2]\n",
    "        else:\n",
    "            return rule[3]"
   ]
  },
  {
   "cell_type": "code",
   "execution_count": 20,
   "metadata": {},
   "outputs": [],
   "source": [
    "tags = []\n",
    "for i in range(dataset.shape[0]):\n",
    "    tag = predict(dataset.iloc[i], model)\n",
    "    tags.append(tag)"
   ]
  },
  {
   "cell_type": "code",
   "execution_count": 21,
   "metadata": {},
   "outputs": [],
   "source": [
    "test = [x == y for x, y in zip(dataset['class'].tolist(), tags)]\n",
    "test0 = [x == y for x, y in zip(dataset['class'].tolist(), tags) if y == 0]\n",
    "test1 = [x == y for x, y in zip(dataset['class'].tolist(), tags) if x == 0]"
   ]
  },
  {
   "cell_type": "code",
   "execution_count": 22,
   "metadata": {},
   "outputs": [
    {
     "data": {
      "text/plain": [
       "(150, 50, 50)"
      ]
     },
     "execution_count": 22,
     "metadata": {},
     "output_type": "execute_result"
    }
   ],
   "source": [
    "(len(test), len(test0), len(test1))"
   ]
  },
  {
   "cell_type": "code",
   "execution_count": 23,
   "metadata": {},
   "outputs": [
    {
     "name": "stdout",
     "output_type": "stream",
     "text": [
      "Accuracy = 0.6666666666666666\n",
      "Precision(Class = 0) = 1.0\n",
      "Recall(Class = 0) = 1.0\n"
     ]
    }
   ],
   "source": [
    "print('Accuracy = {}'.format(Counter(test)[1]/len(test)))\n",
    "print('Precision(Class = 0) = {}'.format(Counter(test0)[1]/len(test0)))\n",
    "print('Recall(Class = 0) = {}'.format(Counter(test1)[1]/len(test1)))"
   ]
  },
  {
   "cell_type": "markdown",
   "metadata": {},
   "source": [
    "#### 4. Finish the K-Means using 2-D matplotlib (8 points)"
   ]
  },
  {
   "cell_type": "markdown",
   "metadata": {},
   "source": [
    "<评阅点>\n",
    "> + 是否完成了KMeans模型，基于scikit-learning (3')\n",
    "+ 是否完成了可视化任务（5'）"
   ]
  },
  {
   "cell_type": "code",
   "execution_count": 24,
   "metadata": {},
   "outputs": [],
   "source": [
    "training_data = dataset.iloc[:,[0, 1, 4]]"
   ]
  },
  {
   "cell_type": "code",
   "execution_count": 25,
   "metadata": {},
   "outputs": [
    {
     "data": {
      "text/plain": [
       "KMeans(algorithm='auto', copy_x=True, init='k-means++', max_iter=500,\n",
       "    n_clusters=3, n_init=10, n_jobs=None, precompute_distances='auto',\n",
       "    random_state=None, tol=0.0001, verbose=0)"
      ]
     },
     "execution_count": 25,
     "metadata": {},
     "output_type": "execute_result"
    }
   ],
   "source": [
    "cluster = KMeans(n_clusters=3, max_iter=500)\n",
    "cluster.fit(training_data)"
   ]
  },
  {
   "cell_type": "code",
   "execution_count": 26,
   "metadata": {},
   "outputs": [
    {
     "data": {
      "text/plain": [
       "array([[5.006     , 3.428     , 0.        ],\n",
       "       [6.74693878, 3.03673469, 1.87755102],\n",
       "       [5.79607843, 2.71372549, 1.1372549 ]])"
      ]
     },
     "execution_count": 26,
     "metadata": {},
     "output_type": "execute_result"
    }
   ],
   "source": [
    "cluster.cluster_centers_"
   ]
  },
  {
   "cell_type": "code",
   "execution_count": 27,
   "metadata": {},
   "outputs": [
    {
     "data": {
      "text/plain": [
       "array([0, 0, 0, 0, 0, 0, 0, 0, 0, 0, 0, 0, 0, 0, 0, 0, 0, 0, 0, 0, 0, 0,\n",
       "       0, 0, 0, 0, 0, 0, 0, 0, 0, 0, 0, 0, 0, 0, 0, 0, 0, 0, 0, 0, 0, 0,\n",
       "       0, 0, 0, 0, 0, 0, 1, 2, 1, 2, 2, 2, 2, 2, 2, 2, 2, 2, 2, 2, 2, 1,\n",
       "       2, 2, 2, 2, 2, 2, 2, 2, 2, 2, 1, 1, 2, 2, 2, 2, 2, 2, 2, 2, 1, 2,\n",
       "       2, 2, 2, 2, 2, 2, 2, 2, 2, 2, 2, 2, 1, 2, 1, 1, 1, 1, 2, 1, 1, 1,\n",
       "       1, 1, 1, 2, 2, 1, 1, 1, 1, 2, 1, 2, 1, 1, 1, 1, 1, 1, 1, 1, 1, 1,\n",
       "       1, 1, 1, 1, 1, 1, 1, 1, 1, 1, 2, 1, 1, 1, 1, 1, 1, 1], dtype=int32)"
      ]
     },
     "execution_count": 27,
     "metadata": {},
     "output_type": "execute_result"
    }
   ],
   "source": [
    "cluster.labels_"
   ]
  },
  {
   "cell_type": "code",
   "execution_count": 28,
   "metadata": {},
   "outputs": [],
   "source": [
    "result = np.c_[training_data, cluster.labels_]"
   ]
  },
  {
   "cell_type": "code",
   "execution_count": 29,
   "metadata": {},
   "outputs": [],
   "source": [
    "result = pd.DataFrame.from_dict(result)\n",
    "result.columns = ['sepal_len', 'sepal_width', 'class', 'label']"
   ]
  },
  {
   "cell_type": "code",
   "execution_count": 30,
   "metadata": {},
   "outputs": [
    {
     "data": {
      "text/plain": [
       "<matplotlib.axes._subplots.AxesSubplot at 0x1a2070a128>"
      ]
     },
     "execution_count": 30,
     "metadata": {},
     "output_type": "execute_result"
    },
    {
     "data": {
      "image/png": "[encoded data removed]",
      "text/plain": [
       "<Figure size 432x288 with 1 Axes>"
      ]
     },
     "metadata": {
      "needs_background": "light"
     },
     "output_type": "display_data"
    }
   ],
   "source": [
    "# 根据训练结果的分类绘图\n",
    "ax=result.loc[result['label']==0].plot(kind = 'scatter', x='sepal_len', y = 'sepal_width', color = 'r', label = 0)\n",
    "result.loc[result['label']==1].plot(kind = 'scatter', x='sepal_len', y = 'sepal_width',  color = 'g', label =1, ax = ax)\n",
    "result.loc[result['label']==2].plot(kind = 'scatter', x='sepal_len', y = 'sepal_width',  color = 'b', label =2, ax = ax)"
   ]
  },
  {
   "cell_type": "code",
   "execution_count": 31,
   "metadata": {},
   "outputs": [
    {
     "data": {
      "text/plain": [
       "<matplotlib.axes._subplots.AxesSubplot at 0x1a20c0a048>"
      ]
     },
     "execution_count": 31,
     "metadata": {},
     "output_type": "execute_result"
    },
    {
     "data": {
      "image/png": "[encoded data removed]",
      "text/plain": [
       "<Figure size 432x288 with 1 Axes>"
      ]
     },
     "metadata": {
      "needs_background": "light"
     },
     "output_type": "display_data"
    }
   ],
   "source": [
    "# 根据实际分类绘图\n",
    "ax=result.loc[result['class']==0].plot(kind = 'scatter', x='sepal_len', y = 'sepal_width', color = 'r', label = 0)\n",
    "result.loc[result['class']==1].plot(kind = 'scatter', x='sepal_len', y = 'sepal_width',  color = 'g', label =1, ax = ax)\n",
    "result.loc[result['class']==2].plot(kind = 'scatter', x='sepal_len', y = 'sepal_width',  color = 'b', label =2, ax = ax)"
   ]
  },
  {
   "cell_type": "markdown",
   "metadata": {},
   "source": [
    "## Part-2 Question and Answer 问答"
   ]
  },
  {
   "cell_type": "markdown",
   "metadata": {},
   "source": [
    "#### 1. What's the *model*? why  all the models are wrong, but some are useful? (5 points) "
   ]
  },
  {
   "cell_type": "markdown",
   "metadata": {},
   "source": [
    "Ans: A model is a simplified version of something complex, which preserves the main characters so that it can be used to analyze and solve certain kind of problems. While models are not completely perfect, there are situations where super high accuracy is not a must."
   ]
  },
  {
   "cell_type": "markdown",
   "metadata": {},
   "source": [
    "<评阅点>\n",
    "> + 对模型的理解是否正确,对模型的抽象性是否正确(5')"
   ]
  },
  {
   "cell_type": "markdown",
   "metadata": {},
   "source": [
    "#### 2. What's the underfitting and overfitting? List the reasons that could make model overfitting or underfitting. (10 points)"
   ]
  },
  {
   "cell_type": "raw",
   "metadata": {},
   "source": [
    "Ans: Bias occurs when a model has enough data but is not complex enough to capture the underlying relationships. As a result, the model consistently and systematically misrepresents the data, leading to low accuracy in prediction. This is known as underfitting. \n",
    "In conttrast, variance is a measure of how much the predictions vary for any given test sample. Limited trainning data and too complicated models can lead to high variance. Models with high variance are unable to generalize the predictions to the larger population, namely overfitting. "
   ]
  },
  {
   "cell_type": "markdown",
   "metadata": {},
   "source": [
    "<评阅点>\n",
    "> + 对过拟合和欠拟合的理解是否正确 (3')\n",
    "+ 对欠拟合产生的原因是否理解正确(2')\n",
    "+ 对过拟合产生的原因是否理解正确(5')"
   ]
  },
  {
   "cell_type": "markdown",
   "metadata": {},
   "source": [
    "#### 3. What's the precision, recall, AUC, F1, F2score. What are they mainly target on? (12')"
   ]
  },
  {
   "cell_type": "markdown",
   "metadata": {},
   "source": [
    "Ans:Precision(TP/TP+FP) describes how effective the model was at applying a label only when appropriate for a given category. Given a dataset with few negatives, making positive predictions all the time guarantees a high precision. \n",
    "Recall(TP/TP+FN) describes how effective the model was at finding all the relevant examples of a category. One has to look at racall if he/she doesn't want to miss any positive samples.\n",
    "The F-score considers both the precision and the recall. F1-score is the harmonic mean of the precision and recall, where an F1-score reaches its best value at 1 (perfect precision and recall) and worst at 0. In F2-score, recall weighs more than precision.\n",
    "ROC shows the relationship between TP rate and FP rate. A classifier tends to perform better when the ROC is closer to the top left corner, where TP rate is high and FP rate is low. AUC is the area under ROC, values from 0 through 1 (the best circumstance)."
   ]
  },
  {
   "cell_type": "markdown",
   "metadata": {},
   "source": [
    "<评阅点>\n",
    "> + 对precision, recall, AUC, F1, F2 理解是否正确(6‘)\n",
    "+ 对precision, recall, AUC, F1, F2的使用侧重点是否理解正确 (6’)"
   ]
  },
  {
   "cell_type": "markdown",
   "metadata": {},
   "source": [
    "#### 4. Based on our course and yourself mind, what's the machine learning?  (8')"
   ]
  },
  {
   "cell_type": "markdown",
   "metadata": {},
   "source": [
    "Ans: In my view, machine learning focuses on the results instead of the procedures. In a traditianal way, one should first find out how things work and then make programmes that go with that. While in machine learning, one makes algorithms first and let computers dig out the rules."
   ]
  },
  {
   "cell_type": "markdown",
   "metadata": {},
   "source": [
    "<评阅点> 开放式问题，是否能说出来机器学习这种思维方式和传统的分析式编程的区别（8'）"
   ]
  },
  {
   "cell_type": "markdown",
   "metadata": {},
   "source": [
    "#### 5. \"正确定义了机器学习模型的评价标准(evaluation)， 问题基本上就已经解决一半\". 这句话是否正确？你是怎么看待的？ (8‘)"
   ]
  },
  {
   "cell_type": "raw",
   "metadata": {},
   "source": [
    "Agree. Standards that sounds practical in the real world might not be easy for machines to understand. The evaluations have to be measurable for the sake of improvement."
   ]
  },
  {
   "cell_type": "markdown",
   "metadata": {},
   "source": [
    "<评阅点> 开放式问题，主要看能理解评价指标对机器学习模型的重要性."
   ]
  },
  {
   "cell_type": "markdown",
   "metadata": {},
   "source": [
    "## Part-03 Programming Practice 编程练习"
   ]
  },
  {
   "cell_type": "markdown",
   "metadata": {},
   "source": [
    "1. In our course and previous practice, we complete some importance components of Decision Tree. In this problem, you need to build a **completed** Decision Tree Model. You show finish a `predicate()` function, which accepts three parameters **<gender, income, family_number>**, and outputs the predicated 'bought': 1 or 0.  (20 points)"
   ]
  },
  {
   "cell_type": "markdown",
   "metadata": {},
   "source": [
    "<评阅点>\n",
    "> + 是否将之前的决策树模型的部分进行合并组装， predicate函数能够顺利运行(8')\n",
    "+ 是够能够输入未曾见过的X变量，例如gender, income, family_number 分别是： <M, -10, 1>, 模型能够预测出结果 (12')"
   ]
  },
  {
   "cell_type": "code",
   "execution_count": 32,
   "metadata": {},
   "outputs": [],
   "source": [
    "mock_data = {\n",
    "    'gender':['F', 'F', 'F', 'F', 'M', 'M', 'M'],\n",
    "    'income': ['+10', '-10', '+10', '+10', '+10', '+10', '-10'],\n",
    "    'family_number': [1, 1, 2, 1, 1, 1, 2],\n",
    "   # 'pet': [1, 1, 1, 0, 0, 0, 1],\n",
    "    'bought': [1, 1, 1, 0, 0, 0, 1],\n",
    "}"
   ]
  },
  {
   "cell_type": "code",
   "execution_count": 33,
   "metadata": {},
   "outputs": [],
   "source": [
    "dataset2 = pd.DataFrame.from_dict(mock_data)"
   ]
  },
  {
   "cell_type": "code",
   "execution_count": 34,
   "metadata": {},
   "outputs": [
    {
     "data": {
      "text/html": [
       "<div>\n",
       "<style scoped>\n",
       "    .dataframe tbody tr th:only-of-type {\n",
       "        vertical-align: middle;\n",
       "    }\n",
       "\n",
       "    .dataframe tbody tr th {\n",
       "        vertical-align: top;\n",
       "    }\n",
       "\n",
       "    .dataframe thead th {\n",
       "        text-align: right;\n",
       "    }\n",
       "</style>\n",
       "<table border=\"1\" class=\"dataframe\">\n",
       "  <thead>\n",
       "    <tr style=\"text-align: right;\">\n",
       "      <th></th>\n",
       "      <th>gender</th>\n",
       "      <th>income</th>\n",
       "      <th>family_number</th>\n",
       "      <th>bought</th>\n",
       "    </tr>\n",
       "  </thead>\n",
       "  <tbody>\n",
       "    <tr>\n",
       "      <th>0</th>\n",
       "      <td>F</td>\n",
       "      <td>+10</td>\n",
       "      <td>1</td>\n",
       "      <td>1</td>\n",
       "    </tr>\n",
       "    <tr>\n",
       "      <th>1</th>\n",
       "      <td>F</td>\n",
       "      <td>-10</td>\n",
       "      <td>1</td>\n",
       "      <td>1</td>\n",
       "    </tr>\n",
       "    <tr>\n",
       "      <th>2</th>\n",
       "      <td>F</td>\n",
       "      <td>+10</td>\n",
       "      <td>2</td>\n",
       "      <td>1</td>\n",
       "    </tr>\n",
       "    <tr>\n",
       "      <th>3</th>\n",
       "      <td>F</td>\n",
       "      <td>+10</td>\n",
       "      <td>1</td>\n",
       "      <td>0</td>\n",
       "    </tr>\n",
       "    <tr>\n",
       "      <th>4</th>\n",
       "      <td>M</td>\n",
       "      <td>+10</td>\n",
       "      <td>1</td>\n",
       "      <td>0</td>\n",
       "    </tr>\n",
       "    <tr>\n",
       "      <th>5</th>\n",
       "      <td>M</td>\n",
       "      <td>+10</td>\n",
       "      <td>1</td>\n",
       "      <td>0</td>\n",
       "    </tr>\n",
       "    <tr>\n",
       "      <th>6</th>\n",
       "      <td>M</td>\n",
       "      <td>-10</td>\n",
       "      <td>2</td>\n",
       "      <td>1</td>\n",
       "    </tr>\n",
       "  </tbody>\n",
       "</table>\n",
       "</div>"
      ],
      "text/plain": [
       "  gender income  family_number  bought\n",
       "0      F    +10              1       1\n",
       "1      F    -10              1       1\n",
       "2      F    +10              2       1\n",
       "3      F    +10              1       0\n",
       "4      M    +10              1       0\n",
       "5      M    +10              1       0\n",
       "6      M    -10              2       1"
      ]
     },
     "execution_count": 34,
     "metadata": {},
     "output_type": "execute_result"
    }
   ],
   "source": [
    "dataset2"
   ]
  },
  {
   "cell_type": "code",
   "execution_count": 49,
   "metadata": {},
   "outputs": [
    {
     "name": "stdout",
     "output_type": "stream",
     "text": [
      "  gender income  family_number  bought\n",
      "0      F    +10              1       1\n",
      "1      F    -10              1       1\n",
      "2      F    +10              2       1\n",
      "3      F    +10              1       0\n",
      "4      M    +10              1       0\n",
      "5      M    +10              1       0\n",
      "6      M    -10              2       1\n",
      "spliter is: ('family_number', 2, 1, 0)\n",
      "the min entropy is: 0.6730116670092565\n",
      "\n",
      "\n",
      "  gender income  family_number  bought\n",
      "0      F    +10              1       1\n",
      "1      F    -10              1       1\n",
      "3      F    +10              1       0\n",
      "4      M    +10              1       0\n",
      "5      M    +10              1       0\n",
      "spliter is: ('income', '-10', 1, 0)\n",
      "the min entropy is: 0.5623351446188083\n",
      "\n",
      "\n",
      "  gender income  family_number  bought\n",
      "0      F    +10              1       1\n",
      "3      F    +10              1       0\n",
      "4      M    +10              1       0\n",
      "5      M    +10              1       0\n",
      "spliter is: ('family_number', 1, 0, -1)\n",
      "the min entropy is: 0.5623351446188083\n",
      "\n",
      "\n"
     ]
    }
   ],
   "source": [
    "final_spliter = []\n",
    "model2 = find_the_optimal_spilter(dataset2, 'bought')"
   ]
  },
  {
   "cell_type": "code",
   "execution_count": 50,
   "metadata": {},
   "outputs": [
    {
     "data": {
      "text/plain": [
       "[('family_number', 2, 1, 0),\n",
       " ('income', '-10', 1, 0),\n",
       " ('family_number', 1, 0, -1)]"
      ]
     },
     "execution_count": 50,
     "metadata": {},
     "output_type": "execute_result"
    }
   ],
   "source": [
    "model2"
   ]
  },
  {
   "cell_type": "code",
   "execution_count": 51,
   "metadata": {},
   "outputs": [],
   "source": [
    "case = {\n",
    "    'gender':['F'],\n",
    "    'income': ['-10'],\n",
    "    'family_number': [2],\n",
    "    # 'pet': [11],\n",
    "    # 'bought': [1, 1, 1, 0, 0, 0, 1],\n",
    "}"
   ]
  },
  {
   "cell_type": "code",
   "execution_count": 52,
   "metadata": {},
   "outputs": [],
   "source": [
    "case = pd.DataFrame(case)"
   ]
  },
  {
   "cell_type": "code",
   "execution_count": 53,
   "metadata": {},
   "outputs": [
    {
     "data": {
      "text/html": [
       "<div>\n",
       "<style scoped>\n",
       "    .dataframe tbody tr th:only-of-type {\n",
       "        vertical-align: middle;\n",
       "    }\n",
       "\n",
       "    .dataframe tbody tr th {\n",
       "        vertical-align: top;\n",
       "    }\n",
       "\n",
       "    .dataframe thead th {\n",
       "        text-align: right;\n",
       "    }\n",
       "</style>\n",
       "<table border=\"1\" class=\"dataframe\">\n",
       "  <thead>\n",
       "    <tr style=\"text-align: right;\">\n",
       "      <th></th>\n",
       "      <th>gender</th>\n",
       "      <th>income</th>\n",
       "      <th>family_number</th>\n",
       "    </tr>\n",
       "  </thead>\n",
       "  <tbody>\n",
       "    <tr>\n",
       "      <th>0</th>\n",
       "      <td>F</td>\n",
       "      <td>-10</td>\n",
       "      <td>2</td>\n",
       "    </tr>\n",
       "  </tbody>\n",
       "</table>\n",
       "</div>"
      ],
      "text/plain": [
       "  gender income  family_number\n",
       "0      F    -10              2"
      ]
     },
     "execution_count": 53,
     "metadata": {},
     "output_type": "execute_result"
    }
   ],
   "source": [
    "case"
   ]
  },
  {
   "cell_type": "code",
   "execution_count": 54,
   "metadata": {},
   "outputs": [
    {
     "data": {
      "text/plain": [
       "1"
      ]
     },
     "execution_count": 54,
     "metadata": {},
     "output_type": "execute_result"
    }
   ],
   "source": [
    "predict(case.iloc[0], model2)"
   ]
  },
  {
   "cell_type": "markdown",
   "metadata": {},
   "source": [
    "2. 将上一节课(第二节课)的线性回归问题中的Loss函数改成\"绝对值\"，并且改变其偏导的求值方式，观察其结果的变化。(19 point)"
   ]
  },
  {
   "cell_type": "markdown",
   "metadata": {},
   "source": [
    "# <评阅点>\n",
    "+ 是否将Loss改成了“绝对值”(3')\n",
    "+ 是否完成了偏导的重新定义(5')\n",
    "+ 新的模型Loss是否能够收敛 (11’)"
   ]
  },
  {
   "cell_type": "markdown",
   "metadata": {},
   "source": [
    "# Define mean absolute loss"
   ]
  },
  {
   "cell_type": "markdown",
   "metadata": {},
   "source": [
    "$$ loss = \\frac{1}{n} \\sum{|y_i - \\hat{y_i}|}$$"
   ]
  },
  {
   "cell_type": "markdown",
   "metadata": {},
   "source": [
    "$$ loss = \\frac{1}{n} \\sum{|y_i - kx_i - b_i|} $$"
   ]
  },
  {
   "cell_type": "markdown",
   "metadata": {},
   "source": [
    "# Define partial derivatives"
   ]
  },
  {
   "cell_type": "markdown",
   "metadata": {},
   "source": [
    "$$\n",
    "\\frac{\\partial{loss}}{\\partial{k}} = \\frac{1}{n}{\\sum{sign{(\\hat{y_i} - y_i)*x_i}}}\n",
    "$$"
   ]
  },
  {
   "cell_type": "markdown",
   "metadata": {},
   "source": [
    "$$\n",
    "\\frac{\\partial{loss}}{\\partial{b}} = \\frac{1}{n}{\\sum{sign{(\\hat{y_i} - y_i)}}}\n",
    "$$"
   ]
  },
  {
   "cell_type": "code",
   "execution_count": 55,
   "metadata": {},
   "outputs": [],
   "source": [
    "#define target function\n",
    "def price(rm, k, b):\n",
    "    return k * rm + b"
   ]
  },
  {
   "cell_type": "code",
   "execution_count": 56,
   "metadata": {},
   "outputs": [],
   "source": [
    "# define loss function \n",
    "def loss(y,y_hat):\n",
    "    return sum(abs(y_i - y_hat_i) for y_i, y_hat_i in zip(list(y),list(y_hat)))/len(list(y))"
   ]
  },
  {
   "cell_type": "code",
   "execution_count": 57,
   "metadata": {},
   "outputs": [],
   "source": [
    "# define partial derivative \n",
    "def partial_derivative_k(x, y, y_hat): \n",
    "    return sum(np.sign(y_hat_i - y_i) * x_i for x_i, y_i, y_hat_i in zip(list(x), list(y),list(y_hat))) / len(y)\n",
    "\n",
    "def partial_derivative_b(y, y_hat):\n",
    "    return sum(np.sign(y_hat_i - y_i)  for y_i, y_hat_i in zip(list(y),list(y_hat))) / len(y)"
   ]
  },
  {
   "cell_type": "code",
   "execution_count": 58,
   "metadata": {},
   "outputs": [],
   "source": [
    "from sklearn.datasets import load_boston\n",
    "import random\n",
    "dataset = load_boston()\n",
    "x,y=dataset['data'],dataset['target']\n",
    "X_rm = x[:,5]"
   ]
  },
  {
   "cell_type": "code",
   "execution_count": 59,
   "metadata": {},
   "outputs": [
    {
     "data": {
      "text/plain": [
       "<matplotlib.collections.PathCollection at 0x1a210157b8>"
      ]
     },
     "execution_count": 59,
     "metadata": {},
     "output_type": "execute_result"
    },
    {
     "data": {
      "image/png": "[encoded data removed]",
      "text/plain": [
       "<Figure size 432x288 with 1 Axes>"
      ]
     },
     "metadata": {
      "needs_background": "light"
     },
     "output_type": "display_data"
    }
   ],
   "source": [
    "plt.scatter(X_rm,y)"
   ]
  },
  {
   "cell_type": "code",
   "execution_count": 60,
   "metadata": {},
   "outputs": [
    {
     "name": "stdout",
     "output_type": "stream",
     "text": [
      "Iteration 0, the loss is 35.44216173600135, parameters k is 24.82650627877787 and b is -98.48403136239274\n",
      "Iteration 1, the loss is 35.40325319834633, parameters k is 24.820344857829255 and b is -98.48500369440855\n",
      "Iteration 2, the loss is 35.36434466069135, parameters k is 24.81418343688064 and b is -98.48597602642435\n",
      "Iteration 3, the loss is 35.32543612303631, parameters k is 24.808022015932025 and b is -98.48694835844016\n",
      "Iteration 4, the loss is 35.28652758538133, parameters k is 24.80186059498341 and b is -98.48792069045597\n",
      "Iteration 5, the loss is 35.247619047726296, parameters k is 24.795699174034795 and b is -98.48889302247177\n",
      "Iteration 6, the loss is 35.208710510071334, parameters k is 24.78953775308618 and b is -98.48986535448758\n",
      "Iteration 7, the loss is 35.1698019724163, parameters k is 24.783376332137564 and b is -98.49083768650338\n",
      "Iteration 8, the loss is 35.130893434761255, parameters k is 24.77721491118895 and b is -98.49181001851919\n",
      "Iteration 9, the loss is 35.09198489710628, parameters k is 24.771053490240334 and b is -98.492782350535\n",
      "Iteration 10, the loss is 35.05307635945129, parameters k is 24.76489206929172 and b is -98.4937546825508\n",
      "Iteration 11, the loss is 35.014167821796235, parameters k is 24.758730648343104 and b is -98.4947270145666\n",
      "Iteration 12, the loss is 34.97525928414127, parameters k is 24.75256922739449 and b is -98.49569934658241\n",
      "Iteration 13, the loss is 34.93635074648625, parameters k is 24.746407806445873 and b is -98.49667167859822\n",
      "Iteration 14, the loss is 34.897442208831244, parameters k is 24.740246385497258 and b is -98.49764401061402\n",
      "Iteration 15, the loss is 34.85853367117624, parameters k is 24.734084964548643 and b is -98.49861634262983\n",
      "Iteration 16, the loss is 34.81962513352124, parameters k is 24.727923543600028 and b is -98.49958867464564\n",
      "Iteration 17, the loss is 34.780716595866224, parameters k is 24.721762122651413 and b is -98.50056100666144\n",
      "Iteration 18, the loss is 34.741808058211255, parameters k is 24.715600701702797 and b is -98.50153333867725\n",
      "Iteration 19, the loss is 34.70289952055618, parameters k is 24.709439280754182 and b is -98.50250567069305\n",
      "Iteration 20, the loss is 34.66399098290118, parameters k is 24.703277859805567 and b is -98.50347800270886\n",
      "Iteration 21, the loss is 34.62508244524617, parameters k is 24.697116438856952 and b is -98.50445033472467\n",
      "Iteration 22, the loss is 34.58617390759118, parameters k is 24.690955017908337 and b is -98.50542266674047\n",
      "Iteration 23, the loss is 34.547265369936156, parameters k is 24.68479359695972 and b is -98.50639499875628\n",
      "Iteration 24, the loss is 34.50835683228118, parameters k is 24.678632176011106 and b is -98.50736733077208\n",
      "Iteration 25, the loss is 34.469448294626154, parameters k is 24.67247075506249 and b is -98.50833966278789\n",
      "Iteration 26, the loss is 34.43053975697114, parameters k is 24.666309334113876 and b is -98.5093119948037\n",
      "Iteration 27, the loss is 34.39163121931612, parameters k is 24.66014791316526 and b is -98.5102843268195\n",
      "Iteration 28, the loss is 34.352722681661106, parameters k is 24.653986492216646 and b is -98.51125665883531\n",
      "Iteration 29, the loss is 34.31381414400612, parameters k is 24.64782507126803 and b is -98.51222899085111\n",
      "Iteration 30, the loss is 34.27490560635106, parameters k is 24.641663650319416 and b is -98.51320132286692\n",
      "Iteration 31, the loss is 34.23599706869613, parameters k is 24.6355022293708 and b is -98.51417365488273\n",
      "Iteration 32, the loss is 34.19708853104107, parameters k is 24.629340808422185 and b is -98.51514598689853\n",
      "Iteration 33, the loss is 34.15817999338609, parameters k is 24.62317938747357 and b is -98.51611831891434\n",
      "Iteration 34, the loss is 34.11927145573109, parameters k is 24.617017966524955 and b is -98.51709065093014\n",
      "Iteration 35, the loss is 34.08036291807608, parameters k is 24.61085654557634 and b is -98.51806298294595\n",
      "Iteration 36, the loss is 34.04145438042108, parameters k is 24.604695124627725 and b is -98.51903531496176\n",
      "Iteration 37, the loss is 34.002545842766075, parameters k is 24.59853370367911 and b is -98.52000764697756\n",
      "Iteration 38, the loss is 33.96363730511108, parameters k is 24.592372282730494 and b is -98.52097997899337\n",
      "Iteration 39, the loss is 33.92472876745603, parameters k is 24.58621086178188 and b is -98.52195231100917\n",
      "Iteration 40, the loss is 33.885820229801, parameters k is 24.580049440833264 and b is -98.52292464302498\n",
      "Iteration 41, the loss is 33.84691169214601, parameters k is 24.57388801988465 and b is -98.52389697504078\n",
      "Iteration 42, the loss is 33.808054694107256, parameters k is 24.567726598936034 and b is -98.52486930705659\n",
      "Iteration 43, the loss is 33.76936628084797, parameters k is 24.561582442809552 and b is -98.52583768650324\n",
      "Iteration 44, the loss is 33.730677867588696, parameters k is 24.55543828668307 and b is -98.52680606594988\n",
      "Iteration 45, the loss is 33.691989454329445, parameters k is 24.54929413055659 and b is -98.52777444539653\n",
      "Iteration 46, the loss is 33.653301041070165, parameters k is 24.543149974430108 and b is -98.52874282484318\n",
      "Iteration 47, the loss is 33.614612627810935, parameters k is 24.537005818303626 and b is -98.52971120428982\n",
      "Iteration 48, the loss is 33.57592421455166, parameters k is 24.530861662177145 and b is -98.53067958373647\n",
      "Iteration 49, the loss is 33.537235801292375, parameters k is 24.524717506050663 and b is -98.53164796318312\n",
      "Iteration 50, the loss is 33.49854738803309, parameters k is 24.518573349924182 and b is -98.53261634262977\n",
      "Iteration 51, the loss is 33.459858974773844, parameters k is 24.5124291937977 and b is -98.53358472207641\n",
      "Iteration 52, the loss is 33.421170561514565, parameters k is 24.50628503767122 and b is -98.53455310152306\n",
      "Iteration 53, the loss is 33.3824821482553, parameters k is 24.500140881544738 and b is -98.5355214809697\n",
      "Iteration 54, the loss is 33.34379373499609, parameters k is 24.493996725418256 and b is -98.53648986041635\n",
      "Iteration 55, the loss is 33.305105321736775, parameters k is 24.487852569291775 and b is -98.537458239863\n",
      "Iteration 56, the loss is 33.266416908477495, parameters k is 24.481708413165293 and b is -98.53842661930965\n",
      "Iteration 57, the loss is 33.227728495218244, parameters k is 24.475564257038812 and b is -98.5393949987563\n",
      "Iteration 58, the loss is 33.18904008195895, parameters k is 24.46942010091233 and b is -98.54036337820294\n",
      "Iteration 59, the loss is 33.150351668699734, parameters k is 24.46327594478585 and b is -98.54133175764959\n",
      "Iteration 60, the loss is 33.111663255440455, parameters k is 24.457131788659368 and b is -98.54230013709623\n",
      "Iteration 61, the loss is 33.07297484218118, parameters k is 24.450987632532886 and b is -98.54326851654288\n",
      "Iteration 62, the loss is 33.03428642892192, parameters k is 24.444843476406405 and b is -98.54423689598953\n",
      "Iteration 63, the loss is 32.995598015662665, parameters k is 24.438699320279923 and b is -98.54520527543617\n",
      "Iteration 64, the loss is 32.95690960240338, parameters k is 24.43255516415344 and b is -98.54617365488282\n",
      "Iteration 65, the loss is 32.91822118914412, parameters k is 24.42641100802696 and b is -98.54714203432947\n",
      "Iteration 66, the loss is 32.87953277588485, parameters k is 24.42026685190048 and b is -98.54811041377612\n",
      "Iteration 67, the loss is 32.84084436262559, parameters k is 24.414122695773997 and b is -98.54907879322276\n",
      "Iteration 68, the loss is 32.80215594936633, parameters k is 24.407978539647516 and b is -98.55004717266941\n",
      "Iteration 69, the loss is 32.76346753610708, parameters k is 24.401834383521035 and b is -98.55101555211606\n",
      "Iteration 70, the loss is 32.72477912284778, parameters k is 24.395690227394553 and b is -98.5519839315627\n",
      "Iteration 71, the loss is 32.68609070958846, parameters k is 24.38954607126807 and b is -98.55295231100935\n",
      "Iteration 72, the loss is 32.647402296329254, parameters k is 24.38340191514159 and b is -98.553920690456\n",
      "Iteration 73, the loss is 32.60871388306999, parameters k is 24.37725775901511 and b is -98.55488906990264\n",
      "Iteration 74, the loss is 32.570025469810716, parameters k is 24.371113602888627 and b is -98.55585744934929\n",
      "Iteration 75, the loss is 32.53133705655143, parameters k is 24.364969446762146 and b is -98.55682582879594\n",
      "Iteration 76, the loss is 32.49264864329214, parameters k is 24.358825290635664 and b is -98.55779420824258\n",
      "Iteration 77, the loss is 32.453960230032926, parameters k is 24.352681134509183 and b is -98.55876258768923\n",
      "Iteration 78, the loss is 32.41527181677365, parameters k is 24.3465369783827 and b is -98.55973096713588\n",
      "Iteration 79, the loss is 32.37658340351441, parameters k is 24.34039282225622 and b is -98.56069934658252\n",
      "Iteration 80, the loss is 32.33789499025514, parameters k is 24.33424866612974 and b is -98.56166772602917\n",
      "Iteration 81, the loss is 32.29920657699585, parameters k is 24.328104510003257 and b is -98.56263610547582\n",
      "Iteration 82, the loss is 32.26051816373658, parameters k is 24.321960353876776 and b is -98.56360448492246\n",
      "Iteration 83, the loss is 32.22182975047735, parameters k is 24.315816197750294 and b is -98.56457286436911\n",
      "Iteration 84, the loss is 32.18314133721802, parameters k is 24.309672041623813 and b is -98.56554124381576\n",
      "Iteration 85, the loss is 32.14445292395878, parameters k is 24.30352788549733 and b is -98.5665096232624\n",
      "Iteration 86, the loss is 32.1057645106995, parameters k is 24.29738372937085 and b is -98.56747800270905\n",
      "Iteration 87, the loss is 32.06707609744027, parameters k is 24.29123957324437 and b is -98.5684463821557\n",
      "Iteration 88, the loss is 32.02838768418097, parameters k is 24.285095417117887 and b is -98.56941476160235\n",
      "Iteration 89, the loss is 31.98969927092174, parameters k is 24.278951260991406 and b is -98.57038314104899\n",
      "Iteration 90, the loss is 31.951032240504585, parameters k is 24.272807104864924 and b is -98.57135152049564\n",
      "Iteration 91, the loss is 31.91259213690084, parameters k is 24.26668256533923 and b is -98.57231594737311\n",
      "Iteration 92, the loss is 31.874152033297026, parameters k is 24.260558025813538 and b is -98.57328037425059\n",
      "Iteration 93, the loss is 31.83571192969326, parameters k is 24.254433486287844 and b is -98.57424480112806\n",
      "Iteration 94, the loss is 31.797271826089514, parameters k is 24.24830894676215 and b is -98.57520922800553\n",
      "Iteration 95, the loss is 31.758831722485755, parameters k is 24.242184407236458 and b is -98.57617365488301\n",
      "Iteration 96, the loss is 31.72039161888204, parameters k is 24.236059867710765 and b is -98.57713808176048\n",
      "Iteration 97, the loss is 31.681951515278296, parameters k is 24.22993532818507 and b is -98.57810250863795\n",
      "Iteration 98, the loss is 31.643511411674496, parameters k is 24.223810788659378 and b is -98.57906693551543\n",
      "Iteration 99, the loss is 31.605071308070745, parameters k is 24.217686249133685 and b is -98.5800313623929\n",
      "Iteration 100, the loss is 31.56663120446695, parameters k is 24.21156170960799 and b is -98.58099578927037\n",
      "Iteration 101, the loss is 31.5281911008632, parameters k is 24.2054371700823 and b is -98.58196021614785\n",
      "Iteration 102, the loss is 31.48975099725946, parameters k is 24.199312630556605 and b is -98.58292464302532\n",
      "Iteration 103, the loss is 31.451310893655695, parameters k is 24.193188091030912 and b is -98.5838890699028\n",
      "Iteration 104, the loss is 31.412870790051944, parameters k is 24.18706355150522 and b is -98.58485349678027\n",
      "Iteration 105, the loss is 31.374430686448196, parameters k is 24.180939011979525 and b is -98.58581792365774\n",
      "Iteration 106, the loss is 31.335990582844392, parameters k is 24.174814472453832 and b is -98.58678235053522\n",
      "Iteration 107, the loss is 31.29755047924068, parameters k is 24.16868993292814 and b is -98.58774677741269\n",
      "Iteration 108, the loss is 31.259110375636922, parameters k is 24.162565393402446 and b is -98.58871120429016\n",
      "Iteration 109, the loss is 31.220670272033097, parameters k is 24.156440853876752 and b is -98.58967563116764\n",
      "Iteration 110, the loss is 31.182230168429363, parameters k is 24.15031631435106 and b is -98.59064005804511\n",
      "Iteration 111, the loss is 31.1437900648256, parameters k is 24.144191774825366 and b is -98.59160448492258\n",
      "Iteration 112, the loss is 31.105349961221858, parameters k is 24.138067235299673 and b is -98.59256891180006\n",
      "Iteration 113, the loss is 31.06690985761807, parameters k is 24.13194269577398 and b is -98.59353333867753\n",
      "Iteration 114, the loss is 31.028469754014335, parameters k is 24.125818156248286 and b is -98.594497765555\n",
      "Iteration 115, the loss is 30.99002965041056, parameters k is 24.119693616722593 and b is -98.59546219243248\n",
      "Iteration 116, the loss is 30.951589546806815, parameters k is 24.1135690771969 and b is -98.59642661930995\n",
      "Iteration 117, the loss is 30.91314944320305, parameters k is 24.107444537671206 and b is -98.59739104618743\n",
      "Iteration 118, the loss is 30.874709339599303, parameters k is 24.101319998145513 and b is -98.5983554730649\n",
      "Iteration 119, the loss is 30.836269235995548, parameters k is 24.09519545861982 and b is -98.59931989994237\n",
      "Iteration 120, the loss is 30.797829132391776, parameters k is 24.089070919094127 and b is -98.60028432681985\n",
      "Iteration 121, the loss is 30.759389028788032, parameters k is 24.082946379568433 and b is -98.60124875369732\n",
      "Iteration 122, the loss is 30.72094892518428, parameters k is 24.07682184004274 and b is -98.6022131805748\n",
      "Iteration 123, the loss is 30.682508821580498, parameters k is 24.070697300517047 and b is -98.60317760745227\n",
      "Iteration 124, the loss is 30.644068717976765, parameters k is 24.064572760991354 and b is -98.60414203432974\n",
      "Iteration 125, the loss is 30.605628614372947, parameters k is 24.05844822146566 and b is -98.60510646120721\n",
      "Iteration 126, the loss is 30.567188510769196, parameters k is 24.052323681939967 and b is -98.60607088808469\n",
      "Iteration 127, the loss is 30.528748407165462, parameters k is 24.046199142414274 and b is -98.60703531496216\n",
      "Iteration 128, the loss is 30.49030830356173, parameters k is 24.04007460288858 and b is -98.60799974183963\n",
      "Iteration 129, the loss is 30.451868199957932, parameters k is 24.033950063362887 and b is -98.60896416871711\n",
      "Iteration 130, the loss is 30.41342809635418, parameters k is 24.027825523837194 and b is -98.60992859559458\n",
      "Iteration 131, the loss is 30.374987992750388, parameters k is 24.0217009843115 and b is -98.61089302247206\n",
      "Iteration 132, the loss is 30.336547889146626, parameters k is 24.015576444785808 and b is -98.61185744934953\n",
      "Iteration 133, the loss is 30.2981077855429, parameters k is 24.009451905260114 and b is -98.612821876227\n",
      "Iteration 134, the loss is 30.25966768193914, parameters k is 24.00332736573442 and b is -98.61378630310448\n",
      "Iteration 135, the loss is 30.221227578335416, parameters k is 23.997202826208728 and b is -98.61475072998195\n",
      "Iteration 136, the loss is 30.182787474731626, parameters k is 23.991078286683035 and b is -98.61571515685942\n",
      "Iteration 137, the loss is 30.14434737112788, parameters k is 23.98495374715734 and b is -98.6166795837369\n",
      "Iteration 138, the loss is 30.105907267524127, parameters k is 23.978829207631648 and b is -98.61764401061437\n",
      "Iteration 139, the loss is 30.067467163920337, parameters k is 23.972704668105955 and b is -98.61860843749184\n",
      "Iteration 140, the loss is 30.029027060316572, parameters k is 23.96658012858026 and b is -98.61957286436932\n",
      "Iteration 141, the loss is 29.990586956712807, parameters k is 23.96045558905457 and b is -98.62053729124679\n"
     ]
    },
    {
     "name": "stdout",
     "output_type": "stream",
     "text": [
      "Iteration 142, the loss is 29.952146853109063, parameters k is 23.954331049528875 and b is -98.62150171812426\n",
      "Iteration 143, the loss is 29.913706749505327, parameters k is 23.948206510003182 and b is -98.62246614500174\n",
      "Iteration 144, the loss is 29.87526664590155, parameters k is 23.94208197047749 and b is -98.62343057187921\n",
      "Iteration 145, the loss is 29.83682654229778, parameters k is 23.935957430951795 and b is -98.62439499875669\n",
      "Iteration 146, the loss is 29.798386438694035, parameters k is 23.929832891426102 and b is -98.62535942563416\n",
      "Iteration 147, the loss is 29.759946335090277, parameters k is 23.92370835190041 and b is -98.62632385251163\n",
      "Iteration 148, the loss is 29.721506231486504, parameters k is 23.917583812374716 and b is -98.6272882793891\n",
      "Iteration 149, the loss is 29.68306612788273, parameters k is 23.911459272849022 and b is -98.62825270626658\n",
      "Iteration 150, the loss is 29.644759053649757, parameters k is 23.90533473332333 and b is -98.62921713314405\n",
      "Iteration 151, the loss is 29.606626904412057, parameters k is 23.8992347629676 and b is -98.63017760745235\n",
      "Iteration 152, the loss is 29.56849475517435, parameters k is 23.893134792611868 and b is -98.63113808176065\n",
      "Iteration 153, the loss is 29.530362605936656, parameters k is 23.887034822256137 and b is -98.63209855606895\n",
      "Iteration 154, the loss is 29.492230456698948, parameters k is 23.880934851900406 and b is -98.63305903037725\n",
      "Iteration 155, the loss is 29.45409830746123, parameters k is 23.874834881544675 and b is -98.63401950468555\n",
      "Iteration 156, the loss is 29.41596615822358, parameters k is 23.868734911188945 and b is -98.63497997899385\n",
      "Iteration 157, the loss is 29.377834008985825, parameters k is 23.862634940833214 and b is -98.63594045330215\n",
      "Iteration 158, the loss is 29.33970185974815, parameters k is 23.856534970477483 and b is -98.63690092761045\n",
      "Iteration 159, the loss is 29.301569710510424, parameters k is 23.850435000121752 and b is -98.63786140191876\n",
      "Iteration 160, the loss is 29.26343756127273, parameters k is 23.84433502976602 and b is -98.63882187622706\n",
      "Iteration 161, the loss is 29.225305412035052, parameters k is 23.83823505941029 and b is -98.63978235053536\n",
      "Iteration 162, the loss is 29.187173262797334, parameters k is 23.83213508905456 and b is -98.64074282484366\n",
      "Iteration 163, the loss is 29.14904111355964, parameters k is 23.82603511869883 and b is -98.64170329915196\n",
      "Iteration 164, the loss is 29.110908964321915, parameters k is 23.8199351483431 and b is -98.64266377346026\n",
      "Iteration 165, the loss is 29.072776815084236, parameters k is 23.813835177987368 and b is -98.64362424776856\n",
      "Iteration 166, the loss is 29.034644665846542, parameters k is 23.807735207631637 and b is -98.64458472207686\n",
      "Iteration 167, the loss is 28.996512516608828, parameters k is 23.801635237275907 and b is -98.64554519638516\n",
      "Iteration 168, the loss is 28.958380367371124, parameters k is 23.795535266920176 and b is -98.64650567069346\n",
      "Iteration 169, the loss is 28.920248218133445, parameters k is 23.789435296564445 and b is -98.64746614500176\n",
      "Iteration 170, the loss is 28.882116068895744, parameters k is 23.783335326208714 and b is -98.64842661931006\n",
      "Iteration 171, the loss is 28.843983919658022, parameters k is 23.777235355852984 and b is -98.64938709361836\n",
      "Iteration 172, the loss is 28.80585177042033, parameters k is 23.771135385497253 and b is -98.65034756792666\n",
      "Iteration 173, the loss is 28.76771962118261, parameters k is 23.765035415141522 and b is -98.65130804223496\n",
      "Iteration 174, the loss is 28.729587471944928, parameters k is 23.75893544478579 and b is -98.65226851654326\n",
      "Iteration 175, the loss is 28.69145532270723, parameters k is 23.75283547443006 and b is -98.65322899085156\n",
      "Iteration 176, the loss is 28.653323173469506, parameters k is 23.74673550407433 and b is -98.65418946515986\n",
      "Iteration 177, the loss is 28.615191024231788, parameters k is 23.7406355337186 and b is -98.65514993946816\n",
      "Iteration 178, the loss is 28.577058874994123, parameters k is 23.73453556336287 and b is -98.65611041377646\n",
      "Iteration 179, the loss is 28.53892672575639, parameters k is 23.728435593007138 and b is -98.65707088808476\n",
      "Iteration 180, the loss is 28.500794576518718, parameters k is 23.722335622651407 and b is -98.65803136239306\n",
      "Iteration 181, the loss is 28.462662427281, parameters k is 23.716235652295676 and b is -98.65899183670136\n",
      "Iteration 182, the loss is 28.424530278043303, parameters k is 23.710135681939946 and b is -98.65995231100966\n",
      "Iteration 183, the loss is 28.386398128805588, parameters k is 23.704035711584215 and b is -98.66091278531796\n",
      "Iteration 184, the loss is 28.34826597956792, parameters k is 23.697935741228484 and b is -98.66187325962626\n",
      "Iteration 185, the loss is 28.31013383033017, parameters k is 23.691835770872753 and b is -98.66283373393456\n",
      "Iteration 186, the loss is 28.27200168109251, parameters k is 23.685735800517023 and b is -98.66379420824286\n",
      "Iteration 187, the loss is 28.233869531854836, parameters k is 23.679635830161292 and b is -98.66475468255116\n",
      "Iteration 188, the loss is 28.195737382617065, parameters k is 23.67353585980556 and b is -98.66571515685946\n",
      "Iteration 189, the loss is 28.157605233379392, parameters k is 23.66743588944983 and b is -98.66667563116776\n",
      "Iteration 190, the loss is 28.119473084141706, parameters k is 23.6613359190941 and b is -98.66763610547606\n",
      "Iteration 191, the loss is 28.081340934903977, parameters k is 23.65523594873837 and b is -98.66859657978436\n",
      "Iteration 192, the loss is 28.043208785666256, parameters k is 23.64913597838264 and b is -98.66955705409266\n",
      "Iteration 193, the loss is 28.005076636428594, parameters k is 23.643036008026908 and b is -98.67051752840096\n",
      "Iteration 194, the loss is 27.966944487190904, parameters k is 23.636936037671177 and b is -98.67147800270926\n",
      "Iteration 195, the loss is 27.928812337953207, parameters k is 23.630836067315446 and b is -98.67243847701756\n",
      "Iteration 196, the loss is 27.890680188715468, parameters k is 23.624736096959715 and b is -98.67339895132586\n",
      "Iteration 197, the loss is 27.852548039477774, parameters k is 23.618636126603985 and b is -98.67435942563417\n",
      "Iteration 198, the loss is 27.81441589024009, parameters k is 23.612536156248254 and b is -98.67531989994247\n",
      "Iteration 199, the loss is 27.776283741002366, parameters k is 23.606436185892523 and b is -98.67628037425077\n"
     ]
    }
   ],
   "source": [
    "#initialized parameters\n",
    "\n",
    "k = random.random() * 200 - 100  # -100 100\n",
    "b = random.random() * 200 - 100  # -100 100\n",
    "\n",
    "learning_rate = 1e-3\n",
    "\n",
    "iteration_num = 200 \n",
    "losses = []\n",
    "for i in range(iteration_num):\n",
    "    \n",
    "    price_use_current_parameters = [price(r, k, b) for r in X_rm]  # \\hat{y}\n",
    "    \n",
    "    current_loss = loss(y, price_use_current_parameters)\n",
    "    losses.append(current_loss)\n",
    "    print(\"Iteration {}, the loss is {}, parameters k is {} and b is {}\".format(i,current_loss,k,b))\n",
    "    \n",
    "    k_gradient = partial_derivative_k(X_rm, y, price_use_current_parameters)\n",
    "    b_gradient = partial_derivative_b(y, price_use_current_parameters)\n",
    "    \n",
    "    k = k + (-1 * k_gradient) * learning_rate\n",
    "    b = b + (-1 * b_gradient) * learning_rate\n",
    "best_k = k\n",
    "best_b = b"
   ]
  },
  {
   "cell_type": "code",
   "execution_count": 61,
   "metadata": {},
   "outputs": [
    {
     "data": {
      "text/plain": [
       "[<matplotlib.lines.Line2D at 0x1a21070ba8>]"
      ]
     },
     "execution_count": 61,
     "metadata": {},
     "output_type": "execute_result"
    },
    {
     "data": {
      "image/png": "[encoded data removed]",
      "text/plain": [
       "<Figure size 432x288 with 1 Axes>"
      ]
     },
     "metadata": {
      "needs_background": "light"
     },
     "output_type": "display_data"
    }
   ],
   "source": [
    "plt.plot(list(range(iteration_num)),losses)"
   ]
  },
  {
   "cell_type": "code",
   "execution_count": 62,
   "metadata": {},
   "outputs": [
    {
     "data": {
      "text/plain": [
       "<matplotlib.collections.PathCollection at 0x1a20399b00>"
      ]
     },
     "execution_count": 62,
     "metadata": {},
     "output_type": "execute_result"
    },
    {
     "data": {
      "image/png": "[encoded data removed]",
      "text/plain": [
       "<Figure size 432x288 with 1 Axes>"
      ]
     },
     "metadata": {
      "needs_background": "light"
     },
     "output_type": "display_data"
    }
   ],
   "source": [
    "price_use_best_parameters = [price(r, best_k, best_b) for r in X_rm]\n",
    "\n",
    "plt.scatter(X_rm,y)\n",
    "plt.scatter(X_rm,price_use_current_parameters)"
   ]
  },
  {
   "cell_type": "markdown",
   "metadata": {},
   "source": []
  }
 ],
 "metadata": {
  "kernelspec": {
   "display_name": "Python 3",
   "language": "python",
   "name": "python3"
  },
  "language_info": {
   "codemirror_mode": {
    "name": "ipython",
    "version": 3
   },
   "file_extension": ".py",
   "mimetype": "text/x-python",
   "name": "python",
   "nbconvert_exporter": "python",
   "pygments_lexer": "ipython3",
   "version": "3.7.3"
  }
 },
 "nbformat": 4,
 "nbformat_minor": 2
}
