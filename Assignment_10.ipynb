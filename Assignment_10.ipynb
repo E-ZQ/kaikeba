{
 "cells": [
  {
   "cell_type": "markdown",
   "metadata": {},
   "source": [
    "# Assignment 10"
   ]
  },
  {
   "cell_type": "markdown",
   "metadata": {},
   "source": [
    "### 1.复习上课内容"
   ]
  },
  {
   "cell_type": "code",
   "execution_count": 1,
   "metadata": {},
   "outputs": [
    {
     "name": "stderr",
     "output_type": "stream",
     "text": [
      "/Applications/anaconda3/lib/python3.7/site-packages/sklearn/svm/base.py:193: FutureWarning: The default value of gamma will change from 'auto' to 'scale' in version 0.22 to account better for unscaled features. Set gamma explicitly to 'auto' or 'scale' to avoid this warning.\n",
      "  \"avoid this warning.\", FutureWarning)\n"
     ]
    },
    {
     "data": {
      "text/plain": [
       "array([False])"
      ]
     },
     "execution_count": 1,
     "metadata": {},
     "output_type": "execute_result"
    }
   ],
   "source": [
    "# 1.SVM\n",
    "import numpy as np\n",
    "from sklearn import datasets\n",
    "from sklearn.svm import SVC\n",
    "\n",
    "iris = datasets.load_iris()\n",
    "X = iris['data'][:,(2,3)] # patal length , petal width\n",
    "Y = iris['target']==0\n",
    "cls = SVC()\n",
    "cls.fit(X,Y)\n",
    "cls.predict([[-0.8,-1]])"
   ]
  },
  {
   "cell_type": "code",
   "execution_count": 2,
   "metadata": {},
   "outputs": [
    {
     "data": {
      "text/plain": [
       "array([0])"
      ]
     },
     "execution_count": 2,
     "metadata": {},
     "output_type": "execute_result"
    }
   ],
   "source": [
    "# 2.Random Forest\n",
    "from sklearn.ensemble import RandomForestClassifier\n",
    "rnd_clf = RandomForestClassifier(n_estimators=500)\n",
    "rnd_clf.fit(iris['data'],iris['target'])\n",
    "# iris\n",
    "rnd_clf.predict([[5.1, 3.5, 1.4, 0.2]])"
   ]
  },
  {
   "cell_type": "code",
   "execution_count": 3,
   "metadata": {},
   "outputs": [
    {
     "data": {
      "text/plain": [
       "array([0])"
      ]
     },
     "execution_count": 3,
     "metadata": {},
     "output_type": "execute_result"
    }
   ],
   "source": [
    "# 3.XGboost\n",
    "from xgboost import XGBClassifier\n",
    "xg = XGBClassifier()\n",
    "xg.fit(iris['data'],iris['target'])\n",
    "xg.predict( [[5.5, 3.5, 1.3, 0.2]])"
   ]
  },
  {
   "cell_type": "markdown",
   "metadata": {},
   "source": [
    "### 2. 回答一下理论题目"
   ]
  },
  {
   "cell_type": "markdown",
   "metadata": {},
   "source": [
    "#### 1. What is independent assumption in Naive bayes ?什么是朴素贝叶斯算法中的独立性假设？"
   ]
  },
  {
   "cell_type": "markdown",
   "metadata": {},
   "source": [
    "贝叶斯算法中假设样本X中的n个维度之间相互独立。贝叶斯公式中的𝑃(𝑋1=𝑥1,𝑋2=𝑥2,...𝑋𝑛=𝑥𝑛|𝑌=𝐶𝑘)是一个有n个维度的条件分布，很难求出；通过假设这n个维度间相互独立，可以将式子简化为𝑃(𝑋1=𝑥1|𝑌=𝐶𝑘)𝑃(𝑋2=𝑥2|𝑌=𝐶𝑘)...𝑃(𝑋𝑛=𝑥𝑛|𝑌=𝐶𝑘)，一定程度上是牺牲了准确度来降低计算的难度。"
   ]
  },
  {
   "cell_type": "markdown",
   "metadata": {},
   "source": [
    "#### 2. What is MAP(maximum a posterior) and ML(maximum likelihood) ?最大后验和最大似然是什么？"
   ]
  },
  {
   "cell_type": "markdown",
   "metadata": {},
   "source": [
    "假如我们知道一组观测数据是从某一种分布中随机取出来的，但不知道这个分布具体的参数，MLE的目标就是找出一组参数，使得模型产生出观测数据的概率最大；在先验分布的基础上增加样本进行修正后会得到后验分布MAP。"
   ]
  },
  {
   "cell_type": "markdown",
   "metadata": {},
   "source": [
    "#### 3. What is support vector in SVM?SVM中的支持向量是什么？"
   ]
  },
  {
   "cell_type": "markdown",
   "metadata": {},
   "source": [
    "距离超平面最近的且满足一定条件的几个训练样本点决定了超平面的位置。对硬间隔，支持向量是位于间隔边界上的样本点(𝑦(𝑤𝑇𝑥+𝑏) = 1);对软间隔，支持向量是位于间隔边界上及间隔边界之内的样本点。"
   ]
  },
  {
   "cell_type": "markdown",
   "metadata": {},
   "source": [
    "#### 4. What is the intuition behind SVM ?引入SVM的动机是什么？"
   ]
  },
  {
   "cell_type": "markdown",
   "metadata": {},
   "source": [
    "假定在一个数据集中所有的数据都已被标记为两类，能找到一个超平面将其完美分类。SVM中假设拥有最大间隔的超平面效果最好，因此要找到一个最优的决策边界。"
   ]
  },
  {
   "cell_type": "markdown",
   "metadata": {},
   "source": [
    "#### 5. Shortly describ what 'random' means in random forest ?简要描述随机森林中的“随机”是指什么？"
   ]
  },
  {
   "cell_type": "markdown",
   "metadata": {},
   "source": [
    "1）如果训练集大小为N，对于每棵树而言，随机且有放回地从训练集中的抽取N个训练样本（这种采样方式称为bootstrap sample方法），作为该树的训练集；\n",
    "\n",
    "2）如果每个样本的特征维度为M，指定一个常数m<<M，随机地从M个特征中选取m个特征子集，每次树进行分裂时，从这m个特征中选择最优的。\n",
    "\n",
    "由于它们的引入，使得随机森林不容易陷入过拟合，并且具有很好得抗噪能力（比如：对缺省值不敏感）。"
   ]
  },
  {
   "cell_type": "markdown",
   "metadata": {},
   "source": [
    "#### 6. What criterion does XGBoost use to find the best split point in a tree ?XGBoost中用什么标准来寻找最佳分裂点？"
   ]
  },
  {
   "cell_type": "markdown",
   "metadata": {},
   "source": [
    "决策树的学习最耗时的一个步骤就是对特征的值进行排序（因为要确定最佳分割点）。XGBoost在训练之前，预先对数据进行了排序，然后保存为block结构，后面的迭代中重复地使用这个结构，大大减小计算量。在进行节点的分裂时，需要计算每个特征的增益，最终选增益最大的那个特征去做分裂，那么各个特征的增益计算就可以开多线程进行。\n",
    "\n",
    "XGBoost提供了一种直方图近似算法，对特征排序后仅选择常数个候选分裂位置作为候选分裂点，提升了结点分裂时的计算效率。"
   ]
  },
  {
   "cell_type": "markdown",
   "metadata": {},
   "source": [
    "### 3. Practial part"
   ]
  },
  {
   "cell_type": "markdown",
   "metadata": {},
   "source": [
    "##### Problem description: In this part you are going to build a classifier to detect if a piece of news is published by the Xinhua news agency (新华社）."
   ]
  },
  {
   "cell_type": "markdown",
   "metadata": {},
   "source": [
    "#### Hints:"
   ]
  },
  {
   "cell_type": "markdown",
   "metadata": {},
   "source": [
    "###### 1. Firstly, you have to come up with a way to represent the news. (Vectorize the sentence, you can find different ways to do so online)  "
   ]
  },
  {
   "cell_type": "markdown",
   "metadata": {},
   "source": [
    "尝试用 TF-IDF 和 LDA 表示文本"
   ]
  },
  {
   "cell_type": "markdown",
   "metadata": {},
   "source": [
    "###### 2. Secondly,  pick a machine learning algorithm that you think is suitable for this task"
   ]
  },
  {
   "cell_type": "markdown",
   "metadata": {},
   "source": [
    "使用Random Forest"
   ]
  },
  {
   "cell_type": "markdown",
   "metadata": {},
   "source": [
    "#### 预处理"
   ]
  },
  {
   "cell_type": "code",
   "execution_count": 4,
   "metadata": {},
   "outputs": [],
   "source": [
    "import pandas as pd\n",
    "import numpy as np\n",
    "import re\n",
    "import time\n",
    "import pickle\n",
    "\n",
    "pd.set_option('display.max_colwidth', 200)"
   ]
  },
  {
   "cell_type": "code",
   "execution_count": 7,
   "metadata": {},
   "outputs": [
    {
     "name": "stdout",
     "output_type": "stream",
     "text": [
      "(89611, 7)\n"
     ]
    },
    {
     "data": {
      "text/html": [
       "<div>\n",
       "<style scoped>\n",
       "    .dataframe tbody tr th:only-of-type {\n",
       "        vertical-align: middle;\n",
       "    }\n",
       "\n",
       "    .dataframe tbody tr th {\n",
       "        vertical-align: top;\n",
       "    }\n",
       "\n",
       "    .dataframe thead th {\n",
       "        text-align: right;\n",
       "    }\n",
       "</style>\n",
       "<table border=\"1\" class=\"dataframe\">\n",
       "  <thead>\n",
       "    <tr style=\"text-align: right;\">\n",
       "      <th></th>\n",
       "      <th>author</th>\n",
       "      <th>source</th>\n",
       "      <th>content</th>\n",
       "      <th>feature</th>\n",
       "      <th>title</th>\n",
       "      <th>url</th>\n",
       "    </tr>\n",
       "  </thead>\n",
       "  <tbody>\n",
       "    <tr>\n",
       "      <td>count</td>\n",
       "      <td>79396</td>\n",
       "      <td>89609</td>\n",
       "      <td>87054</td>\n",
       "      <td>89611</td>\n",
       "      <td>89577</td>\n",
       "      <td>87144</td>\n",
       "    </tr>\n",
       "    <tr>\n",
       "      <td>unique</td>\n",
       "      <td>5601</td>\n",
       "      <td>974</td>\n",
       "      <td>74917</td>\n",
       "      <td>89184</td>\n",
       "      <td>85253</td>\n",
       "      <td>87124</td>\n",
       "    </tr>\n",
       "    <tr>\n",
       "      <td>top</td>\n",
       "      <td>薛之谦的小意外</td>\n",
       "      <td>新华社</td>\n",
       "      <td>\\n\\n</td>\n",
       "      <td>{\"commentNum\":\"0\",\"forwardNum\":\"23\",\"playNum\":\"0\",\"mid\":\"4115003466933405\",\"type\":\"图文\",\"favoriteNum\":\"0\",\"likeNum\":\"13\"}</td>\n",
       "      <td>国际重要稿件预告</td>\n",
       "      <td>http://www.paigu.com/a/424619/49449882.html</td>\n",
       "    </tr>\n",
       "    <tr>\n",
       "      <td>freq</td>\n",
       "      <td>871</td>\n",
       "      <td>78661</td>\n",
       "      <td>177</td>\n",
       "      <td>3</td>\n",
       "      <td>219</td>\n",
       "      <td>2</td>\n",
       "    </tr>\n",
       "  </tbody>\n",
       "</table>\n",
       "</div>"
      ],
      "text/plain": [
       "         author source content  \\\n",
       "count     79396  89609   87054   \n",
       "unique     5601    974   74917   \n",
       "top     薛之谦的小意外    新华社    \\n\\n   \n",
       "freq        871  78661     177   \n",
       "\n",
       "                                                                                                                         feature  \\\n",
       "count                                                                                                                      89611   \n",
       "unique                                                                                                                     89184   \n",
       "top     {\"commentNum\":\"0\",\"forwardNum\":\"23\",\"playNum\":\"0\",\"mid\":\"4115003466933405\",\"type\":\"图文\",\"favoriteNum\":\"0\",\"likeNum\":\"13\"}   \n",
       "freq                                                                                                                           3   \n",
       "\n",
       "           title                                          url  \n",
       "count      89577                                        87144  \n",
       "unique     85253                                        87124  \n",
       "top     国际重要稿件预告  http://www.paigu.com/a/424619/49449882.html  \n",
       "freq         219                                            2  "
      ]
     },
     "execution_count": 7,
     "metadata": {},
     "output_type": "execute_result"
    }
   ],
   "source": [
    "# 1.导入和检查数据\n",
    "data = pd.read_csv('新华社数据.csv', encoding='gb18030')\n",
    "print(data.shape)\n",
    "data.describe(include=[np.object])"
   ]
  },
  {
   "cell_type": "code",
   "execution_count": 8,
   "metadata": {
    "scrolled": true
   },
   "outputs": [
    {
     "name": "stderr",
     "output_type": "stream",
     "text": [
      "Building prefix dict from the default dictionary ...\n",
      "Loading model from cache /var/folders/ng/1yxn2hp94vb65hy2rqh73__c0000gp/T/jieba.cache\n",
      "Loading model cost 0.958 seconds.\n",
      "Prefix dict has been built successfully.\n"
     ]
    }
   ],
   "source": [
    "# 2.分词并增加文本长度和标签\n",
    "import jieba\n",
    "\n",
    "def cut(article): \n",
    "    segments = []\n",
    "    for sentence in article.split('\\n'):\n",
    "        sentence = ''.join(re.findall(r'\\w', sentence))\n",
    "        for x in jieba.cut(sentence):\n",
    "            segments.append(x)\n",
    "    \n",
    "    return ' '.join(segments)\n",
    "\n",
    "data['content_after_jieba'] = data['content'].astype(str).apply(cut)\n",
    "data['article_length'] = data['content'].astype(str).apply(lambda x : len(x))\n",
    "data['label'] = np.where(data['source'].str.find('新华社'), 0, 1)"
   ]
  },
  {
   "cell_type": "code",
   "execution_count": 11,
   "metadata": {},
   "outputs": [
    {
     "data": {
      "text/html": [
       "<div>\n",
       "<style scoped>\n",
       "    .dataframe tbody tr th:only-of-type {\n",
       "        vertical-align: middle;\n",
       "    }\n",
       "\n",
       "    .dataframe tbody tr th {\n",
       "        vertical-align: top;\n",
       "    }\n",
       "\n",
       "    .dataframe thead th {\n",
       "        text-align: right;\n",
       "    }\n",
       "</style>\n",
       "<table border=\"1\" class=\"dataframe\">\n",
       "  <thead>\n",
       "    <tr style=\"text-align: right;\">\n",
       "      <th></th>\n",
       "      <th>id</th>\n",
       "      <th>author</th>\n",
       "      <th>source</th>\n",
       "      <th>content</th>\n",
       "      <th>feature</th>\n",
       "      <th>title</th>\n",
       "      <th>url</th>\n",
       "      <th>content_after_jieba</th>\n",
       "      <th>article_length</th>\n",
       "      <th>label</th>\n",
       "    </tr>\n",
       "  </thead>\n",
       "  <tbody>\n",
       "    <tr>\n",
       "      <td>0</td>\n",
       "      <td>89617</td>\n",
       "      <td>NaN</td>\n",
       "      <td>快科技@http://www.kkj.cn/</td>\n",
       "      <td>此外，自本周（6月12日）起，除小米手机6等15款机型外，其余机型已暂停更新发布（含开发版/体验版内测，稳定版暂不受影响），以确保工程师可以集中全部精力进行系统优化工作。有人猜测这也是将精力主要用到MIUI 9的研发之中。\\r\\nMIUI 8去年5月发布，距今已有一年有余，也是时候更新换代了。\\r\\n当然，关于MIUI 9的确切信息，我们还是等待官方消息。\\r\\n</td>\n",
       "      <td>{\"type\":\"科技\",\"site\":\"cnbeta\",\"commentNum\":\"37\",\"joinNum\":\"20007\",\"clickNum\":\"19920\",\"shareNum\":\"0\",\"url\":\"http://www.cnbeta.com/articles/tech/623597.htm\",\"site_sign\":\"cnbeta\",\"label\":\"\",\"summary\":...</td>\n",
       "      <td>小米MIUI 9首批机型曝光：共计15款</td>\n",
       "      <td>http://www.cnbeta.com/articles/tech/623597.htm</td>\n",
       "      <td>此外 自 本周 6 月 12 日起 除 小米 手机 6 等 15 款 机型 外 其余 机型 已 暂停 更新 发布 含 开发 版 体验版 内测 稳定版 暂不受 影响 以 确保 工程师 可以 集中 全部 精力 进行 系统优化 工作 有人 猜测 这 也 是 将 精力 主要 用到 MIUI9 的 研发 之中 MIUI8 去年 5 月 发布 距今已有 一年 有余 也 是 时候 更新换代 了 当然 关...</td>\n",
       "      <td>177</td>\n",
       "      <td>0</td>\n",
       "    </tr>\n",
       "    <tr>\n",
       "      <td>1</td>\n",
       "      <td>89616</td>\n",
       "      <td>NaN</td>\n",
       "      <td>快科技@http://www.kkj.cn/</td>\n",
       "      <td>骁龙835作为唯一通过Windows 10桌面平台认证的ARM处理器，高通强调，不会因为只考虑性能而去屏蔽掉小核心。相反，他们正联手微软，找到一种适合桌面平台的、兼顾性能和功耗的完美方案。\\r\\n报道称，微软已经拿到了一些新的源码，以便Windows 10更好地理解big.little架构。\\r\\n资料显示，骁龙835作为一款集成了CPU、GPU、基带、蓝牙/Wi-Fi的SoC，比传统的W...</td>\n",
       "      <td>{\"type\":\"科技\",\"site\":\"cnbeta\",\"commentNum\":\"15\",\"joinNum\":\"5522\",\"clickNum\":\"5493\",\"shareNum\":\"0\",\"url\":\"http://www.cnbeta.com/articles/tech/623599.htm\",\"site_sign\":\"cnbeta\",\"label\":\"\",\"summary\":\"尽...</td>\n",
       "      <td>骁龙835在Windows 10上的性能表现有望改善</td>\n",
       "      <td>http://www.cnbeta.com/articles/tech/623599.htm</td>\n",
       "      <td>骁龙 835 作为 唯一 通过 Windows10 桌面 平台 认证 的 ARM 处理器 高通 强调 不会 因为 只 考虑 性能 而 去 屏蔽掉 小 核心 相反 他们 正 联手 微软 找到 一种 适合 桌面 平台 的 兼顾 性能 和 功耗 的 完美 方案 报道 称 微软 已经 拿到 了 一些 新 的 源码 以便 Windows10 更好 地 理解 biglittle 架构 资料 显示 骁龙...</td>\n",
       "      <td>329</td>\n",
       "      <td>0</td>\n",
       "    </tr>\n",
       "    <tr>\n",
       "      <td>2</td>\n",
       "      <td>89615</td>\n",
       "      <td>NaN</td>\n",
       "      <td>快科技@http://www.kkj.cn/</td>\n",
       "      <td>此前的一加3T搭载的是3400mAh电池，DashCharge快充规格为5V/4A。\\r\\n至于电池缩水，可能与刘作虎所说，一加手机5要做市面最轻薄大屏旗舰的设定有关。\\r\\n按照目前掌握的资料，一加手机5拥有5.5寸1080P三星AMOLED显示屏、6G/8GB RAM，64GB/128GB ROM，双1600万摄像头，备货量“惊喜”。\\r\\n根据京东泄露的信息，一加5起售价是xx99元...</td>\n",
       "      <td>{\"type\":\"科技\",\"site\":\"cnbeta\",\"commentNum\":\"18\",\"joinNum\":\"9445\",\"clickNum\":\"9425\",\"shareNum\":\"0\",\"url\":\"http://www.cnbeta.com/articles/tech/623601.htm\",\"site_sign\":\"cnbeta\",\"label\":\"\",\"summary\":\"本...</td>\n",
       "      <td>一加手机5细节曝光：3300mAh、充半小时用1天</td>\n",
       "      <td>http://www.cnbeta.com/articles/tech/623601.htm</td>\n",
       "      <td>此前 的 一加 3T 搭载 的 是 3400mAh 电池 DashCharge 快充 规格 为 5V4A 至于 电池 缩水 可能 与 刘作 虎 所说 一加 手机 5 要 做 市面 最 轻薄 大屏 旗舰 的 设定 有关 按照 目前 掌握 的 资料 一加 手机 5 拥有 55 寸 1080P 三星 AMOLED 显示屏 6G8GBRAM64GB128GBROM 双 1600 万 摄像头 备货 ...</td>\n",
       "      <td>216</td>\n",
       "      <td>0</td>\n",
       "    </tr>\n",
       "    <tr>\n",
       "      <td>3</td>\n",
       "      <td>89614</td>\n",
       "      <td>NaN</td>\n",
       "      <td>新华社</td>\n",
       "      <td>这是6月18日在葡萄牙中部大佩德罗冈地区拍摄的被森林大火烧毁的汽车。新华社记者张立云摄\\r\\n</td>\n",
       "      <td>{\"type\":\"国际新闻\",\"site\":\"环球\",\"commentNum\":\"0\",\"joinNum\":\"0\",\"clickNum\":\"0\",\"shareNum\":\"0\",\"url\":\"http://world.huanqiu.com/hot/2017-06/10866126.html\",\"site_sign\":\"huanqiu\",\"label\":\"\",\"summary\":\"这是6月1...</td>\n",
       "      <td>葡森林火灾造成至少62人死亡 政府宣布进入紧急状态（组图）</td>\n",
       "      <td>http://world.huanqiu.com/hot/2017-06/10866126.html</td>\n",
       "      <td>这是 6 月 18 日 在 葡萄牙 中部 大 佩德罗 冈 地区 拍摄 的 被 森林 大火 烧毁 的 汽车 新华社 记者 张立 云摄</td>\n",
       "      <td>45</td>\n",
       "      <td>1</td>\n",
       "    </tr>\n",
       "    <tr>\n",
       "      <td>4</td>\n",
       "      <td>89613</td>\n",
       "      <td>胡淑丽_MN7479</td>\n",
       "      <td>深圳大件事</td>\n",
       "      <td>（原标题：44岁女子跑深圳约会网友被拒，暴雨中裸身奔走……）\\r\\n@深圳交警微博称：昨日清晨交警发现有一女子赤裸上身，行走在南坪快速上，期间还起了轻生年头，一辅警发现后赶紧为其披上黄衣，并一路劝说她。\\r\\n那么事发时\\r\\n到底都发生了些什么呢？\\r\\n南都记者带您一起还原现场\\r\\n南都记者在龙岗大队坂田中队见到了辅警刘青（发现女生的辅警），一位外表高大帅气，说话略带些腼腆的90后青...</td>\n",
       "      <td>{\"type\":\"新闻\",\"site\":\"网易热门\",\"commentNum\":\"978\",\"joinNum\":\"16252\",\"clickNum\":\"0\",\"shareNum\":\"0\",\"url\":\"http://news.163.com/17/0618/00/CN617P3Q0001875P.html\",\"site_sign\":\"wangyi\",\"label\":\"[]\",\"summar...</td>\n",
       "      <td>44岁女子约网友被拒暴雨中裸奔 交警为其披衣相随</td>\n",
       "      <td>http://news.163.com/17/0618/00/CN617P3Q0001875P.html</td>\n",
       "      <td>原 标题 44 岁 女子 跑 深圳 约会 网友 被 拒 暴雨 中 裸身 奔走 深圳 交警 微博称 昨日 清晨 交警 发现 有 一 女子 赤裸 上身 行走 在 南坪 快速 上 期间 还 起 了 轻生 年头 一辅警 发现 后 赶紧 为 其 披上 黄衣 并 一路 劝说 她 那么 事发 时 到底 都 发生 了 些 什么 呢 南 都 记者 带 您 一起 还原 现场 南 都 记者 在 龙岗 大队 坂田...</td>\n",
       "      <td>1674</td>\n",
       "      <td>0</td>\n",
       "    </tr>\n",
       "  </tbody>\n",
       "</table>\n",
       "</div>"
      ],
      "text/plain": [
       "      id      author                  source  \\\n",
       "0  89617         NaN  快科技@http://www.kkj.cn/   \n",
       "1  89616         NaN  快科技@http://www.kkj.cn/   \n",
       "2  89615         NaN  快科技@http://www.kkj.cn/   \n",
       "3  89614         NaN                     新华社   \n",
       "4  89613  胡淑丽_MN7479                   深圳大件事   \n",
       "\n",
       "                                                                                                                                                                                                   content  \\\n",
       "0                  此外，自本周（6月12日）起，除小米手机6等15款机型外，其余机型已暂停更新发布（含开发版/体验版内测，稳定版暂不受影响），以确保工程师可以集中全部精力进行系统优化工作。有人猜测这也是将精力主要用到MIUI 9的研发之中。\\r\\nMIUI 8去年5月发布，距今已有一年有余，也是时候更新换代了。\\r\\n当然，关于MIUI 9的确切信息，我们还是等待官方消息。\\r\\n   \n",
       "1  骁龙835作为唯一通过Windows 10桌面平台认证的ARM处理器，高通强调，不会因为只考虑性能而去屏蔽掉小核心。相反，他们正联手微软，找到一种适合桌面平台的、兼顾性能和功耗的完美方案。\\r\\n报道称，微软已经拿到了一些新的源码，以便Windows 10更好地理解big.little架构。\\r\\n资料显示，骁龙835作为一款集成了CPU、GPU、基带、蓝牙/Wi-Fi的SoC，比传统的W...   \n",
       "2  此前的一加3T搭载的是3400mAh电池，DashCharge快充规格为5V/4A。\\r\\n至于电池缩水，可能与刘作虎所说，一加手机5要做市面最轻薄大屏旗舰的设定有关。\\r\\n按照目前掌握的资料，一加手机5拥有5.5寸1080P三星AMOLED显示屏、6G/8GB RAM，64GB/128GB ROM，双1600万摄像头，备货量“惊喜”。\\r\\n根据京东泄露的信息，一加5起售价是xx99元...   \n",
       "3                                                                                                                                                          这是6月18日在葡萄牙中部大佩德罗冈地区拍摄的被森林大火烧毁的汽车。新华社记者张立云摄\\r\\n   \n",
       "4  （原标题：44岁女子跑深圳约会网友被拒，暴雨中裸身奔走……）\\r\\n@深圳交警微博称：昨日清晨交警发现有一女子赤裸上身，行走在南坪快速上，期间还起了轻生年头，一辅警发现后赶紧为其披上黄衣，并一路劝说她。\\r\\n那么事发时\\r\\n到底都发生了些什么呢？\\r\\n南都记者带您一起还原现场\\r\\n南都记者在龙岗大队坂田中队见到了辅警刘青（发现女生的辅警），一位外表高大帅气，说话略带些腼腆的90后青...   \n",
       "\n",
       "                                                                                                                                                                                                   feature  \\\n",
       "0  {\"type\":\"科技\",\"site\":\"cnbeta\",\"commentNum\":\"37\",\"joinNum\":\"20007\",\"clickNum\":\"19920\",\"shareNum\":\"0\",\"url\":\"http://www.cnbeta.com/articles/tech/623597.htm\",\"site_sign\":\"cnbeta\",\"label\":\"\",\"summary\":...   \n",
       "1  {\"type\":\"科技\",\"site\":\"cnbeta\",\"commentNum\":\"15\",\"joinNum\":\"5522\",\"clickNum\":\"5493\",\"shareNum\":\"0\",\"url\":\"http://www.cnbeta.com/articles/tech/623599.htm\",\"site_sign\":\"cnbeta\",\"label\":\"\",\"summary\":\"尽...   \n",
       "2  {\"type\":\"科技\",\"site\":\"cnbeta\",\"commentNum\":\"18\",\"joinNum\":\"9445\",\"clickNum\":\"9425\",\"shareNum\":\"0\",\"url\":\"http://www.cnbeta.com/articles/tech/623601.htm\",\"site_sign\":\"cnbeta\",\"label\":\"\",\"summary\":\"本...   \n",
       "3  {\"type\":\"国际新闻\",\"site\":\"环球\",\"commentNum\":\"0\",\"joinNum\":\"0\",\"clickNum\":\"0\",\"shareNum\":\"0\",\"url\":\"http://world.huanqiu.com/hot/2017-06/10866126.html\",\"site_sign\":\"huanqiu\",\"label\":\"\",\"summary\":\"这是6月1...   \n",
       "4  {\"type\":\"新闻\",\"site\":\"网易热门\",\"commentNum\":\"978\",\"joinNum\":\"16252\",\"clickNum\":\"0\",\"shareNum\":\"0\",\"url\":\"http://news.163.com/17/0618/00/CN617P3Q0001875P.html\",\"site_sign\":\"wangyi\",\"label\":\"[]\",\"summar...   \n",
       "\n",
       "                           title  \\\n",
       "0           小米MIUI 9首批机型曝光：共计15款   \n",
       "1     骁龙835在Windows 10上的性能表现有望改善   \n",
       "2      一加手机5细节曝光：3300mAh、充半小时用1天   \n",
       "3  葡森林火灾造成至少62人死亡 政府宣布进入紧急状态（组图）   \n",
       "4       44岁女子约网友被拒暴雨中裸奔 交警为其披衣相随   \n",
       "\n",
       "                                                    url  \\\n",
       "0        http://www.cnbeta.com/articles/tech/623597.htm   \n",
       "1        http://www.cnbeta.com/articles/tech/623599.htm   \n",
       "2        http://www.cnbeta.com/articles/tech/623601.htm   \n",
       "3    http://world.huanqiu.com/hot/2017-06/10866126.html   \n",
       "4  http://news.163.com/17/0618/00/CN617P3Q0001875P.html   \n",
       "\n",
       "                                                                                                                                                                                       content_after_jieba  \\\n",
       "0  此外 自 本周 6 月 12 日起 除 小米 手机 6 等 15 款 机型 外 其余 机型 已 暂停 更新 发布 含 开发 版 体验版 内测 稳定版 暂不受 影响 以 确保 工程师 可以 集中 全部 精力 进行 系统优化 工作 有人 猜测 这 也 是 将 精力 主要 用到 MIUI9 的 研发 之中 MIUI8 去年 5 月 发布 距今已有 一年 有余 也 是 时候 更新换代 了 当然 关...   \n",
       "1  骁龙 835 作为 唯一 通过 Windows10 桌面 平台 认证 的 ARM 处理器 高通 强调 不会 因为 只 考虑 性能 而 去 屏蔽掉 小 核心 相反 他们 正 联手 微软 找到 一种 适合 桌面 平台 的 兼顾 性能 和 功耗 的 完美 方案 报道 称 微软 已经 拿到 了 一些 新 的 源码 以便 Windows10 更好 地 理解 biglittle 架构 资料 显示 骁龙...   \n",
       "2  此前 的 一加 3T 搭载 的 是 3400mAh 电池 DashCharge 快充 规格 为 5V4A 至于 电池 缩水 可能 与 刘作 虎 所说 一加 手机 5 要 做 市面 最 轻薄 大屏 旗舰 的 设定 有关 按照 目前 掌握 的 资料 一加 手机 5 拥有 55 寸 1080P 三星 AMOLED 显示屏 6G8GBRAM64GB128GBROM 双 1600 万 摄像头 备货 ...   \n",
       "3                                                                                                                                        这是 6 月 18 日 在 葡萄牙 中部 大 佩德罗 冈 地区 拍摄 的 被 森林 大火 烧毁 的 汽车 新华社 记者 张立 云摄   \n",
       "4  原 标题 44 岁 女子 跑 深圳 约会 网友 被 拒 暴雨 中 裸身 奔走 深圳 交警 微博称 昨日 清晨 交警 发现 有 一 女子 赤裸 上身 行走 在 南坪 快速 上 期间 还 起 了 轻生 年头 一辅警 发现 后 赶紧 为 其 披上 黄衣 并 一路 劝说 她 那么 事发 时 到底 都 发生 了 些 什么 呢 南 都 记者 带 您 一起 还原 现场 南 都 记者 在 龙岗 大队 坂田...   \n",
       "\n",
       "   article_length  label  \n",
       "0             177      0  \n",
       "1             329      0  \n",
       "2             216      0  \n",
       "3              45      1  \n",
       "4            1674      0  "
      ]
     },
     "execution_count": 11,
     "metadata": {},
     "output_type": "execute_result"
    }
   ],
   "source": [
    "data.head()"
   ]
  },
  {
   "cell_type": "code",
   "execution_count": 14,
   "metadata": {
    "scrolled": true
   },
   "outputs": [],
   "source": [
    "# 3.新建一个Dataframe并去除内容中的重复值和空值\n",
    "# DataFrame.dropna(self, axis=0, how='any', thresh=None, subset=None, inplace=False)\n",
    "new_corpus = data[['title', 'content_after_jieba', 'article_length', 'label']]\n",
    "new_corpus.describe(include = 'all')\n",
    "new_corpus = new_corpus.drop_duplicates(subset = ['content_after_jieba'])\n",
    "new_corpus = new_corpus.dropna(subset = ['content_after_jieba'])"
   ]
  },
  {
   "cell_type": "code",
   "execution_count": 21,
   "metadata": {},
   "outputs": [
    {
     "data": {
      "text/html": [
       "<div>\n",
       "<style scoped>\n",
       "    .dataframe tbody tr th:only-of-type {\n",
       "        vertical-align: middle;\n",
       "    }\n",
       "\n",
       "    .dataframe tbody tr th {\n",
       "        vertical-align: top;\n",
       "    }\n",
       "\n",
       "    .dataframe thead th {\n",
       "        text-align: right;\n",
       "    }\n",
       "</style>\n",
       "<table border=\"1\" class=\"dataframe\">\n",
       "  <thead>\n",
       "    <tr style=\"text-align: right;\">\n",
       "      <th></th>\n",
       "      <th>article_length</th>\n",
       "      <th>label</th>\n",
       "    </tr>\n",
       "  </thead>\n",
       "  <tbody>\n",
       "    <tr>\n",
       "      <td>count</td>\n",
       "      <td>74857.000000</td>\n",
       "      <td>74857.000000</td>\n",
       "    </tr>\n",
       "    <tr>\n",
       "      <td>mean</td>\n",
       "      <td>492.728616</td>\n",
       "      <td>0.891767</td>\n",
       "    </tr>\n",
       "    <tr>\n",
       "      <td>std</td>\n",
       "      <td>703.764718</td>\n",
       "      <td>0.310677</td>\n",
       "    </tr>\n",
       "    <tr>\n",
       "      <td>min</td>\n",
       "      <td>3.000000</td>\n",
       "      <td>0.000000</td>\n",
       "    </tr>\n",
       "    <tr>\n",
       "      <td>25%</td>\n",
       "      <td>139.000000</td>\n",
       "      <td>1.000000</td>\n",
       "    </tr>\n",
       "    <tr>\n",
       "      <td>50%</td>\n",
       "      <td>207.000000</td>\n",
       "      <td>1.000000</td>\n",
       "    </tr>\n",
       "    <tr>\n",
       "      <td>75%</td>\n",
       "      <td>570.000000</td>\n",
       "      <td>1.000000</td>\n",
       "    </tr>\n",
       "    <tr>\n",
       "      <td>max</td>\n",
       "      <td>22422.000000</td>\n",
       "      <td>1.000000</td>\n",
       "    </tr>\n",
       "  </tbody>\n",
       "</table>\n",
       "</div>"
      ],
      "text/plain": [
       "       article_length         label\n",
       "count    74857.000000  74857.000000\n",
       "mean       492.728616      0.891767\n",
       "std        703.764718      0.310677\n",
       "min          3.000000      0.000000\n",
       "25%        139.000000      1.000000\n",
       "50%        207.000000      1.000000\n",
       "75%        570.000000      1.000000\n",
       "max      22422.000000      1.000000"
      ]
     },
     "execution_count": 21,
     "metadata": {},
     "output_type": "execute_result"
    }
   ],
   "source": [
    "new_corpus.describe()"
   ]
  },
  {
   "cell_type": "code",
   "execution_count": 17,
   "metadata": {},
   "outputs": [
    {
     "data": {
      "text/html": [
       "<div>\n",
       "<style scoped>\n",
       "    .dataframe tbody tr th:only-of-type {\n",
       "        vertical-align: middle;\n",
       "    }\n",
       "\n",
       "    .dataframe tbody tr th {\n",
       "        vertical-align: top;\n",
       "    }\n",
       "\n",
       "    .dataframe thead th {\n",
       "        text-align: right;\n",
       "    }\n",
       "</style>\n",
       "<table border=\"1\" class=\"dataframe\">\n",
       "  <thead>\n",
       "    <tr style=\"text-align: right;\">\n",
       "      <th></th>\n",
       "      <th>title</th>\n",
       "      <th>content_after_jieba</th>\n",
       "      <th>article_length</th>\n",
       "      <th>label</th>\n",
       "    </tr>\n",
       "  </thead>\n",
       "  <tbody>\n",
       "    <tr>\n",
       "      <td>0</td>\n",
       "      <td>小米MIUI 9首批机型曝光：共计15款</td>\n",
       "      <td>此外 自 本周 6 月 12 日起 除 小米 手机 6 等 15 款 机型 外 其余 机型 已 暂停 更新 发布 含 开发 版 体验版 内测 稳定版 暂不受 影响 以 确保 工程师 可以 集中 全部 精力 进行 系统优化 工作 有人 猜测 这 也 是 将 精力 主要 用到 MIUI9 的 研发 之中 MIUI8 去年 5 月 发布 距今已有 一年 有余 也 是 时候 更新换代 了 当然 关...</td>\n",
       "      <td>177</td>\n",
       "      <td>0</td>\n",
       "    </tr>\n",
       "    <tr>\n",
       "      <td>1</td>\n",
       "      <td>骁龙835在Windows 10上的性能表现有望改善</td>\n",
       "      <td>骁龙 835 作为 唯一 通过 Windows10 桌面 平台 认证 的 ARM 处理器 高通 强调 不会 因为 只 考虑 性能 而 去 屏蔽掉 小 核心 相反 他们 正 联手 微软 找到 一种 适合 桌面 平台 的 兼顾 性能 和 功耗 的 完美 方案 报道 称 微软 已经 拿到 了 一些 新 的 源码 以便 Windows10 更好 地 理解 biglittle 架构 资料 显示 骁龙...</td>\n",
       "      <td>329</td>\n",
       "      <td>0</td>\n",
       "    </tr>\n",
       "    <tr>\n",
       "      <td>2</td>\n",
       "      <td>一加手机5细节曝光：3300mAh、充半小时用1天</td>\n",
       "      <td>此前 的 一加 3T 搭载 的 是 3400mAh 电池 DashCharge 快充 规格 为 5V4A 至于 电池 缩水 可能 与 刘作 虎 所说 一加 手机 5 要 做 市面 最 轻薄 大屏 旗舰 的 设定 有关 按照 目前 掌握 的 资料 一加 手机 5 拥有 55 寸 1080P 三星 AMOLED 显示屏 6G8GBRAM64GB128GBROM 双 1600 万 摄像头 备货 ...</td>\n",
       "      <td>216</td>\n",
       "      <td>0</td>\n",
       "    </tr>\n",
       "    <tr>\n",
       "      <td>3</td>\n",
       "      <td>葡森林火灾造成至少62人死亡 政府宣布进入紧急状态（组图）</td>\n",
       "      <td>这是 6 月 18 日 在 葡萄牙 中部 大 佩德罗 冈 地区 拍摄 的 被 森林 大火 烧毁 的 汽车 新华社 记者 张立 云摄</td>\n",
       "      <td>45</td>\n",
       "      <td>1</td>\n",
       "    </tr>\n",
       "    <tr>\n",
       "      <td>4</td>\n",
       "      <td>44岁女子约网友被拒暴雨中裸奔 交警为其披衣相随</td>\n",
       "      <td>原 标题 44 岁 女子 跑 深圳 约会 网友 被 拒 暴雨 中 裸身 奔走 深圳 交警 微博称 昨日 清晨 交警 发现 有 一 女子 赤裸 上身 行走 在 南坪 快速 上 期间 还 起 了 轻生 年头 一辅警 发现 后 赶紧 为 其 披上 黄衣 并 一路 劝说 她 那么 事发 时 到底 都 发生 了 些 什么 呢 南 都 记者 带 您 一起 还原 现场 南 都 记者 在 龙岗 大队 坂田...</td>\n",
       "      <td>1674</td>\n",
       "      <td>0</td>\n",
       "    </tr>\n",
       "  </tbody>\n",
       "</table>\n",
       "</div>"
      ],
      "text/plain": [
       "                           title  \\\n",
       "0           小米MIUI 9首批机型曝光：共计15款   \n",
       "1     骁龙835在Windows 10上的性能表现有望改善   \n",
       "2      一加手机5细节曝光：3300mAh、充半小时用1天   \n",
       "3  葡森林火灾造成至少62人死亡 政府宣布进入紧急状态（组图）   \n",
       "4       44岁女子约网友被拒暴雨中裸奔 交警为其披衣相随   \n",
       "\n",
       "                                                                                                                                                                                       content_after_jieba  \\\n",
       "0  此外 自 本周 6 月 12 日起 除 小米 手机 6 等 15 款 机型 外 其余 机型 已 暂停 更新 发布 含 开发 版 体验版 内测 稳定版 暂不受 影响 以 确保 工程师 可以 集中 全部 精力 进行 系统优化 工作 有人 猜测 这 也 是 将 精力 主要 用到 MIUI9 的 研发 之中 MIUI8 去年 5 月 发布 距今已有 一年 有余 也 是 时候 更新换代 了 当然 关...   \n",
       "1  骁龙 835 作为 唯一 通过 Windows10 桌面 平台 认证 的 ARM 处理器 高通 强调 不会 因为 只 考虑 性能 而 去 屏蔽掉 小 核心 相反 他们 正 联手 微软 找到 一种 适合 桌面 平台 的 兼顾 性能 和 功耗 的 完美 方案 报道 称 微软 已经 拿到 了 一些 新 的 源码 以便 Windows10 更好 地 理解 biglittle 架构 资料 显示 骁龙...   \n",
       "2  此前 的 一加 3T 搭载 的 是 3400mAh 电池 DashCharge 快充 规格 为 5V4A 至于 电池 缩水 可能 与 刘作 虎 所说 一加 手机 5 要 做 市面 最 轻薄 大屏 旗舰 的 设定 有关 按照 目前 掌握 的 资料 一加 手机 5 拥有 55 寸 1080P 三星 AMOLED 显示屏 6G8GBRAM64GB128GBROM 双 1600 万 摄像头 备货 ...   \n",
       "3                                                                                                                                        这是 6 月 18 日 在 葡萄牙 中部 大 佩德罗 冈 地区 拍摄 的 被 森林 大火 烧毁 的 汽车 新华社 记者 张立 云摄   \n",
       "4  原 标题 44 岁 女子 跑 深圳 约会 网友 被 拒 暴雨 中 裸身 奔走 深圳 交警 微博称 昨日 清晨 交警 发现 有 一 女子 赤裸 上身 行走 在 南坪 快速 上 期间 还 起 了 轻生 年头 一辅警 发现 后 赶紧 为 其 披上 黄衣 并 一路 劝说 她 那么 事发 时 到底 都 发生 了 些 什么 呢 南 都 记者 带 您 一起 还原 现场 南 都 记者 在 龙岗 大队 坂田...   \n",
       "\n",
       "   article_length  label  \n",
       "0             177      0  \n",
       "1             329      0  \n",
       "2             216      0  \n",
       "3              45      1  \n",
       "4            1674      0  "
      ]
     },
     "execution_count": 17,
     "metadata": {},
     "output_type": "execute_result"
    }
   ],
   "source": [
    "new_corpus.head()"
   ]
  },
  {
   "cell_type": "code",
   "execution_count": 18,
   "metadata": {
    "scrolled": false
   },
   "outputs": [
    {
     "data": {
      "text/plain": [
       "title                  object\n",
       "content_after_jieba    object\n",
       "article_length          int64\n",
       "label                   int64\n",
       "dtype: object"
      ]
     },
     "execution_count": 18,
     "metadata": {},
     "output_type": "execute_result"
    }
   ],
   "source": [
    "new_corpus.dtypes"
   ]
  },
  {
   "cell_type": "code",
   "execution_count": 32,
   "metadata": {},
   "outputs": [],
   "source": [
    "# new_corpus.to_csv('new_corpus.csv', index = False)"
   ]
  },
  {
   "cell_type": "markdown",
   "metadata": {},
   "source": [
    "#### TF-IDF  +  Random Forest"
   ]
  },
  {
   "cell_type": "code",
   "execution_count": 5,
   "metadata": {
    "scrolled": false
   },
   "outputs": [],
   "source": [
    "new_corpus = pd.read_csv('new_corpus.csv')\n",
    "content = new_corpus['content_after_jieba']\n",
    "# print(content)"
   ]
  },
  {
   "cell_type": "code",
   "execution_count": 6,
   "metadata": {},
   "outputs": [],
   "source": [
    "# np.sum(new_corpus.isnull())"
   ]
  },
  {
   "cell_type": "code",
   "execution_count": 7,
   "metadata": {
    "scrolled": true
   },
   "outputs": [
    {
     "name": "stdout",
     "output_type": "stream",
     "text": [
      "X.shape: (74855, 30)\n",
      "y.shape: (74855,)\n"
     ]
    }
   ],
   "source": [
    "# 1.根据TF-IDF，将每篇文档用30个单词表示\n",
    "from sklearn.feature_extraction.text import TfidfVectorizer\n",
    "\n",
    "tfidf = TfidfVectorizer(max_features = 30)\n",
    "X = tfidf.fit_transform(content)\n",
    "y = new_corpus['label']\n",
    "print('X.shape:', X.shape)\n",
    "print('y.shape:', y.shape)"
   ]
  },
  {
   "cell_type": "code",
   "execution_count": 8,
   "metadata": {
    "scrolled": true
   },
   "outputs": [
    {
     "name": "stdout",
     "output_type": "stream",
     "text": [
      "['2017', 'nn', '一个', '一带', '一路', '中国', '举行', '二线', '企业', '体育', '北京', '发展', '合作', '国家', '国际', '外代', '工作', '市场', '当日', '我们', '新华社', '日电', '比赛', '照片', '经济', '美国', '表示', '记者', '足球', '进行']\n",
      "  (0, 19)\t0.6289006801386274\n",
      "  (0, 16)\t0.6010298415131724\n",
      "  (0, 29)\t0.493200835493841\n"
     ]
    }
   ],
   "source": [
    "print(tfidf.get_feature_names())\n",
    "print(X[0])    # type(X) => scipy.sparse.csr.csr_matrix"
   ]
  },
  {
   "cell_type": "code",
   "execution_count": 9,
   "metadata": {},
   "outputs": [],
   "source": [
    "# 2.拆分训练集和测试集(分别占0.7、0.3)\n",
    "from sklearn.model_selection import train_test_split\n",
    "from sklearn.metrics import classification_report\n",
    "\n",
    "X_train, X_test, y_train, y_test = train_test_split(X, y, test_size=0.3, random_state=42)"
   ]
  },
  {
   "cell_type": "code",
   "execution_count": 134,
   "metadata": {
    "scrolled": false
   },
   "outputs": [
    {
     "name": "stdout",
     "output_type": "stream",
     "text": [
      "val mean accuracy: 0.9831678318564367\n",
      "              precision    recall  f1-score   support\n",
      "\n",
      "           0       0.93      0.92      0.92      2390\n",
      "           1       0.99      0.99      0.99     20067\n",
      "\n",
      "    accuracy                           0.98     22457\n",
      "   macro avg       0.96      0.95      0.96     22457\n",
      "weighted avg       0.98      0.98      0.98     22457\n",
      "\n"
     ]
    }
   ],
   "source": [
    "# 3.随机森林\n",
    "from sklearn.ensemble import RandomForestClassifier    \n",
    "rf_model = RandomForestClassifier(n_estimators=200, random_state=1080)\n",
    "rf_model.fit(X_train, y_train)\n",
    "print(\"val mean accuracy: {0}\".format(rf_model.score(X_test, y_test)))\n",
    "y_pred = rf_model.predict(X_test)\n",
    "print(classification_report(y_test, y_pred))"
   ]
  },
  {
   "cell_type": "code",
   "execution_count": 135,
   "metadata": {},
   "outputs": [
    {
     "data": {
      "text/plain": [
       "array([[ 2188,   202],\n",
       "       [  176, 19891]])"
      ]
     },
     "execution_count": 135,
     "metadata": {},
     "output_type": "execute_result"
    }
   ],
   "source": [
    "from sklearn.metrics import confusion_matrix\n",
    "rf_matrix = confusion_matrix(y_test, y_pred)        # rows: actual, col: predicted\n",
    "rf_matrix"
   ]
  },
  {
   "cell_type": "code",
   "execution_count": 136,
   "metadata": {
    "scrolled": true
   },
   "outputs": [
    {
     "data": {
      "image/png": "[encoded data removed]",
      "text/plain": [
       "<Figure size 432x288 with 1 Axes>"
      ]
     },
     "metadata": {
      "needs_background": "light"
     },
     "output_type": "display_data"
    },
    {
     "name": "stdout",
     "output_type": "stream",
     "text": [
      "AUC: 0.953355276559926\n"
     ]
    }
   ],
   "source": [
    "from sklearn.metrics import roc_curve, auc\n",
    "import matplotlib.pyplot as plt\n",
    "\n",
    "fpr, tpr, thresholds = roc_curve(y_test, y_pred)\n",
    "\n",
    "fig, ax = plt.subplots()\n",
    "ax.plot(fpr, tpr)\n",
    "ax.plot([0, 1], [0, 1], transform=ax.transAxes, ls=\"--\", c=\".3\")\n",
    "plt.xlim([0.0, 1.0])\n",
    "plt.ylim([0.0, 1.0])\n",
    "plt.rcParams['font.size'] = 12\n",
    "plt.title('ROC')\n",
    "plt.xlabel('False Positive Rate (1 - Specificity)')\n",
    "plt.ylabel('True Positive Rate (Sensitivity)')\n",
    "plt.grid(True)\n",
    "plt.show()\n",
    "\n",
    "print('AUC:', auc(fpr, tpr))"
   ]
  },
  {
   "cell_type": "markdown",
   "metadata": {},
   "source": [
    "#### LDA  +  Randaom Forest\n",
    "\n",
    "https://scikit-learn.org/stable/modules/generated/sklearn.decomposition.LatentDirichletAllocation.html"
   ]
  },
  {
   "cell_type": "code",
   "execution_count": 78,
   "metadata": {},
   "outputs": [],
   "source": [
    "# 1.根据LDA，用30个主题来表示文档\n",
    "from sklearn.feature_extraction.text import CountVectorizer\n",
    "from sklearn.decomposition import LatentDirichletAllocation\n",
    "cntVector = CountVectorizer()\n",
    "cntTf = cntVector.fit_transform(content)\n",
    "\n",
    "lda = LatentDirichletAllocation(n_components = 30,\n",
    "                                learning_offset = 20.,\n",
    "                                random_state = 0)\n",
    "docres = lda.fit_transform(cntTf)"
   ]
  },
  {
   "cell_type": "code",
   "execution_count": 88,
   "metadata": {
    "scrolled": true
   },
   "outputs": [
    {
     "data": {
      "text/plain": [
       "(74855, 30)"
      ]
     },
     "execution_count": 88,
     "metadata": {},
     "output_type": "execute_result"
    }
   ],
   "source": [
    "docres.shape"
   ]
  },
  {
   "cell_type": "code",
   "execution_count": 120,
   "metadata": {},
   "outputs": [
    {
     "data": {
      "text/plain": [
       "array([0.00208333, 0.00208333, 0.00208333, 0.00208333, 0.00208333,\n",
       "       0.00208333, 0.00208333, 0.00208333, 0.00208333, 0.00208333,\n",
       "       0.00208333, 0.00208333, 0.00208333, 0.00208333, 0.00208333,\n",
       "       0.00208333, 0.00208333, 0.00208333, 0.31788375, 0.00208333,\n",
       "       0.00208333, 0.00208333, 0.00208333, 0.00208333, 0.00208333,\n",
       "       0.00208333, 0.62378292, 0.00208333, 0.00208333, 0.00208333])"
      ]
     },
     "execution_count": 120,
     "metadata": {},
     "output_type": "execute_result"
    }
   ],
   "source": [
    "# 训练结果显示第四篇文章与第26个主题相关度很高，但实际上并没有\n",
    "docres[3]"
   ]
  },
  {
   "cell_type": "code",
   "execution_count": 91,
   "metadata": {
    "scrolled": true
   },
   "outputs": [
    {
     "name": "stdout",
     "output_type": "stream",
     "text": [
      "Topic 0: 研究 城市 房地产 发现 价格 垃圾 住房 北京 人员 显示 影响 数据 记者 出现 增加 调控 可能 市场 患者 nnn\n",
      "Topic 1: 我们 一个 自己 他们 没有 这个 孩子 可以 就是 这样 现在 已经 很多 因为 还是 生活 希望 开始 一些 需要\n",
      "Topic 2: 美国 总统 报道 表示 韩国 叙利亚 问题 法国 政府 选举 新华社 俄罗斯 国家 媒体 事件 组织 特朗普 记者 朝鲜 举行\n",
      "Topic 3: 香港 公司 信息 通过 网络 平台 共享 记者 单车 相关 进行 服务 支付 表示 犯罪 万元 可以 提供 用户 使用\n",
      "Topic 4: 新华社 2017 选手 照片 体育 比赛 当日 中国 记者 举行 乒乓球 锦标赛 决赛 晋级 战胜 n4 羽毛球 世界 n5 江苏\n",
      "Topic 5: 台湾 大陆 两岸 一个 中国 表示 人工智能 民进党 收报 台北 英文 港元 两岸关系 当局 我们 巴拿马 图片 内容 可以 方面\n",
      "Topic 6: 学生 体育 中国 学校 教育 参加 运动 北京 记者 赛事 专业 大学 比赛 进行 学院 活动 项目 校园 来自 孩子\n",
      "Topic 7: 合作 中国 一带 一路 发展 国际 主席 新华社 国家 双方 倡议 共同 习近平 世界 记者 高峰论坛 关系 表示 北京 中方\n",
      "Topic 8: 中国 nnn 记者 无人机 新华社 铁路 肯尼亚 编辑 工作 蒙内 列车 视频 nnnnnn 内罗毕 一个 他们 地铁 北京 医生 项目\n",
      "Topic 9: 中国 新华社 海军 北京 记者 武术 维和 减持 国际 苏丹 编队 斯里兰卡 2017 太极拳 照片 国家 训练 进行 官兵 当地\n",
      "Topic 10: 乘客 班列 机场 中欧 希腊 集装箱 中远 新华社 码头 航班 msci 飞机 海运 港口 萨德 捐献 以色列 记者 韩国 航空公司\n",
      "Topic 11: 新华社 2017 比赛 球员 足球 照片 当日 赛季 联赛 体育 主场 20162017 n4 战胜 n5 记者 路透 北京 球队 客场\n",
      "Topic 12: 外代 二线 足球 联赛 新华社 晋级 2017 nn1 nn2 nn3 nn4 欧新 nn5 网球 欧冠 照片 时装周 nn6 法新 英超\n",
      "Topic 13: 中国 一带 一路 国家 国际 合作 经济 建设 项目 沿线 发展 全球 地区 贸易 重要 世界 企业 投资 新华社 非洲\n",
      "Topic 14: 工作 问题 企业 部门 服务 管理 改革 要求 规定 进行 记者 相关 情况 政府 制度 监管 单位 开展 有关 实施\n",
      "Topic 15: 新华社 项目 记者 村民 农业 种植 2017 农民 扶贫 产业 照片 农村 贫困户 合作社 建设 生产 工程 当地 发展 公司\n",
      "Topic 16: 新疆 中国 新华社 我国 脱贫 技术 广东 飞机 扶贫 记者 卫星 一号 航天 东莞 发射 太空 任务 成功 天舟 系统\n",
      "Topic 17: nn 国际 图表 社会 体育 播发 新华 新闻 经济 中国 稿件 财经 新华社 一带 一路 新华社摄影部 文化 科技 发稿 漫画\n",
      "Topic 18: 新华社 2017 照片 戛纳 记者 国际 电影节 影片 法国 n5 广西 这是 机器人 拍摄 美国 70 举行 亮相 当日 智能\n",
      "Topic 19: 企业 市场 公司 中国 增长 经济 投资 数据 亿元 产品 人民币 行业 表示 显示 今年 全球 发展 目前 技术 同比\n",
      "Topic 20: nba 新华社 篮球 电影 季后赛 球员 常规赛 比赛 凯尔特人 成都 赛季 20162017 战胜 照片 2017 当日 西部 骑士队 勇士队 美联\n",
      "Topic 21: 美国 特朗普 英国 药品 协定 白宫 医院 新华社 脱欧 南极 记者 谈判 华盛顿 巴黎 科米 总统 政府 调查 患者 气候变化\n",
      "Topic 22: 日本 美元 新华社 上涨 下跌 交易日 新闻 东京 涨幅 用户 当天 跌幅 指数 收于 股市 安倍 记者 纽约 黄金 新华\n",
      "Topic 23: 选手 新华社 比赛 网球 2017 晋级 公开赛 照片 当日 法国 法网 冠军 战胜 体育 决赛 巴黎 举行 记者 中国 第三轮\n",
      "Topic 24: 发展 创新 建设 国家 中国 经济 推进 工作 推动 改革 产业 社会 科技 服务 重要 实现 人才 城市 企业 创业\n",
      "Topic 25: 新华社 2017 文化 记者 活动 照片 旅游 游客 举行 传统 中国 n4 n5 当日 博物馆 北京 展示 国际 艺术 举办\n",
      "Topic 26: 新华社 发生 死亡 记者 照片 造成 受伤 2017 一名 爆炸 警方 游客 当地 袭击 大熊猫 附近 目前 现场 首都 埃及\n",
      "Topic 27: 食品 板块 量子 病毒 公司 个股 成品油 加油站 万达 记者 食盐 勒索 被告人 跌幅 两市 价格 出现 创业板 涨幅 计算机\n",
      "Topic 28: 记者 新华社 新区 工作 进行 北京 城市 日电 环保 环境 地区 雄安 污染 河北 全国 建设 交通 天气 生态 目前\n",
      "Topic 29: 银行 蛟龙 债券 贷款 利率 亿元 央行 海洋 金融 发行 南海 进行 新华社 记者 海底 资产 资金 海沟 下潜 流动性\n"
     ]
    }
   ],
   "source": [
    "n_top_words = 20\n",
    "vocab = cntVector.get_feature_names()\n",
    "for i, topic_dist in enumerate(lda.components_):\n",
    "    topic_words = np.array(vocab)[np.argsort(topic_dist)][:-(n_top_words + 1):-1]\n",
    "    print('Topic {}: {}'.format(i, ' '.join(topic_words)))"
   ]
  },
  {
   "cell_type": "code",
   "execution_count": 96,
   "metadata": {},
   "outputs": [
    {
     "name": "stdout",
     "output_type": "stream",
     "text": [
      "val mean accuracy: 0.9209155274524647\n",
      "              precision    recall  f1-score   support\n",
      "\n",
      "           0       0.77      0.37      0.50      2390\n",
      "           1       0.93      0.99      0.96     20067\n",
      "\n",
      "    accuracy                           0.92     22457\n",
      "   macro avg       0.85      0.68      0.73     22457\n",
      "weighted avg       0.91      0.92      0.91     22457\n",
      "\n",
      "[[  880  1510]\n",
      " [  266 19801]]\n"
     ]
    }
   ],
   "source": [
    "# 2.训练集验证\n",
    "X1_train, X1_test, y1_train, y1_test = train_test_split(docres, y, test_size=0.3, random_state=42)\n",
    "rf_model1 = RandomForestClassifier(n_estimators=200, random_state=1080)\n",
    "rf_model1.fit(X1_train, y1_train)\n",
    "print(\"val mean accuracy: {0}\".format(rf_model1.score(X1_test, y1_test)))\n",
    "y1_pred = rf_model1.predict(X1_test)\n",
    "print(classification_report(y1_test, y1_pred))\n",
    "rf_matrix1 = confusion_matrix(y1_test, y1_pred)        \n",
    "print(rf_matrix1)"
   ]
  },
  {
   "cell_type": "markdown",
   "metadata": {},
   "source": [
    "不足：\n",
    "\n",
    "抽取出的主题不清晰，可能影响了最终的分类效果。\n",
    "\n",
    "在用TF-IDF和LDA提取特征时，都是用所有文本（训练集、验证集），导致生成的模型同时受到了训练集和验证集数据的影响。"
   ]
  },
  {
   "cell_type": "markdown",
   "metadata": {},
   "source": [
    "### Congratulations! You have completed all assignments in this week. The question below is optional. If you still have time, why don't try it out."
   ]
  },
  {
   "cell_type": "markdown",
   "metadata": {},
   "source": [
    "## Option:"
   ]
  },
  {
   "cell_type": "markdown",
   "metadata": {},
   "source": [
    "#### Try differnt machine learning algorithms with different combinations of parameters in the practical part, and compare their performances (Better use some visualization techiniques)."
   ]
  },
  {
   "cell_type": "markdown",
   "metadata": {},
   "source": [
    "继续用逻辑回归、决策树、支持向量机、朴素贝叶斯和XGboost，XGboost和决策树的分类准确度都较高，决策树的训练速度更快。"
   ]
  },
  {
   "cell_type": "code",
   "execution_count": 137,
   "metadata": {
    "scrolled": false
   },
   "outputs": [
    {
     "name": "stderr",
     "output_type": "stream",
     "text": [
      "/Applications/anaconda3/lib/python3.7/site-packages/sklearn/linear_model/logistic.py:432: FutureWarning: Default solver will be changed to 'lbfgs' in 0.22. Specify a solver to silence this warning.\n",
      "  FutureWarning)\n"
     ]
    },
    {
     "name": "stdout",
     "output_type": "stream",
     "text": [
      "val mean accuracy: 0.9708776773389144\n"
     ]
    }
   ],
   "source": [
    "pd.options.mode.chained_assignment = None\n",
    "\n",
    "# 1.逻辑回归\n",
    "from sklearn.linear_model import LogisticRegression\n",
    "\n",
    "lr_model = LogisticRegression()\n",
    "lr_model.fit(X_train, y_train)\n",
    "print(\"val mean accuracy: {0}\".format(lr_model.score(X_test, y_test)))\n",
    "y_pred = lr_model.predict(X_test)\n",
    "# print(classification_report(y_test, y_pred))"
   ]
  },
  {
   "cell_type": "code",
   "execution_count": 138,
   "metadata": {},
   "outputs": [
    {
     "name": "stdout",
     "output_type": "stream",
     "text": [
      "最优 : 0.9736249475170808 使用 {'C': 15}\n"
     ]
    }
   ],
   "source": [
    "# 交叉验证找最佳参数\n",
    "from sklearn.model_selection import KFold\n",
    "from sklearn.model_selection import GridSearchCV\n",
    "num_folds = 10\n",
    "seed = 7\n",
    "scoring = 'accuracy'\n",
    "\n",
    "param_grid = {}\n",
    "param_grid['C'] = [0.1,5,13,15]\n",
    "model = LogisticRegression()\n",
    "kfold = KFold(n_splits=num_folds,random_state=seed)\n",
    "grid = GridSearchCV(estimator=model, param_grid=param_grid, scoring=scoring, cv=kfold)\n",
    "grid_result = grid.fit(X_train, y_train)\n",
    "print('最优 : %s 使用 %s' % (grid_result.best_score_, grid_result.best_params_))"
   ]
  },
  {
   "cell_type": "code",
   "execution_count": 139,
   "metadata": {
    "scrolled": false
   },
   "outputs": [
    {
     "name": "stdout",
     "output_type": "stream",
     "text": [
      "val mean accuracy: 0.9763548114173755\n"
     ]
    }
   ],
   "source": [
    "# 2.决策树\n",
    "from sklearn.tree import DecisionTreeClassifier\n",
    "tree_model = DecisionTreeClassifier(max_features = 30)\n",
    "tree_model.fit(X_train, y_train)\n",
    "print(\"val mean accuracy: {0}\".format(tree_model.score(X_test, y_test)))\n",
    "y_pred = tree_model.predict(X_test)\n",
    "# print(classification_report(y_test, y_pred))"
   ]
  },
  {
   "cell_type": "code",
   "execution_count": 131,
   "metadata": {
    "scrolled": true
   },
   "outputs": [
    {
     "name": "stderr",
     "output_type": "stream",
     "text": [
      "/Applications/anaconda3/lib/python3.7/site-packages/sklearn/svm/base.py:193: FutureWarning: The default value of gamma will change from 'auto' to 'scale' in version 0.22 to account better for unscaled features. Set gamma explicitly to 'auto' or 'scale' to avoid this warning.\n",
      "  \"avoid this warning.\", FutureWarning)\n"
     ]
    },
    {
     "name": "stdout",
     "output_type": "stream",
     "text": [
      "val mean accuracy: 0.9624615932671328\n"
     ]
    }
   ],
   "source": [
    "# 3.SVM\n",
    "from sklearn.svm import SVC\n",
    "svm_model = SVC()\n",
    "svm_model.fit(X_train, y_train)\n",
    "print(\"val mean accuracy: {0}\".format(svm_model.score(X_test, y_test)))\n",
    "y_pred = svm_model.predict(X_test)\n",
    "# print(classification_report(y_test, y_pred))"
   ]
  },
  {
   "cell_type": "code",
   "execution_count": 127,
   "metadata": {
    "scrolled": true
   },
   "outputs": [
    {
     "name": "stdout",
     "output_type": "stream",
     "text": [
      "val mean accuracy: 0.9653114841697467\n"
     ]
    }
   ],
   "source": [
    "# 4.LinearSVC\n",
    "from sklearn.svm import LinearSVC\n",
    "lsvm_model = LinearSVC()\n",
    "lsvm_model.fit(X_train, y_train)\n",
    "print(\"val mean accuracy: {0}\".format(lsvm_model.score(X_test, y_test)))\n",
    "y_pred = lsvm_model.predict(X_test)\n",
    "# print(classification_report(y_test, y_pred))"
   ]
  },
  {
   "cell_type": "markdown",
   "metadata": {},
   "source": [
    "虽然准确度相差不大，但LinearSVC的训练速度明显比SVC要快"
   ]
  },
  {
   "cell_type": "code",
   "execution_count": 128,
   "metadata": {
    "scrolled": false
   },
   "outputs": [
    {
     "name": "stdout",
     "output_type": "stream",
     "text": [
      "val mean accuracy: 0.9046177138531416\n"
     ]
    }
   ],
   "source": [
    "# 5.贝叶斯\n",
    "from sklearn.naive_bayes import MultinomialNB\n",
    "nb_model = MultinomialNB()\n",
    "nb_model.fit(X_train, y_train)\n",
    "print(\"val mean accuracy: {0}\".format(nb_model.score(X_test, y_test)))\n",
    "y_pred = nb_model.predict(X_test)\n",
    "# print(classification_report(y_test, y_pred))"
   ]
  },
  {
   "cell_type": "code",
   "execution_count": 11,
   "metadata": {},
   "outputs": [
    {
     "name": "stdout",
     "output_type": "stream",
     "text": [
      "val mean accuracy: 0.9820545932226032\n"
     ]
    }
   ],
   "source": [
    "# 6.XGboost\n",
    "xg_model = XGBClassifier()\n",
    "xg_model.fit(X_train, y_train)\n",
    "print(\"val mean accuracy: {0}\".format(xg_model.score(X_test, y_test)))\n",
    "y_pred = xg_model.predict(X_test)\n",
    "# print(classification_report(y_test, y_pred))"
   ]
  },
  {
   "cell_type": "code",
   "execution_count": 168,
   "metadata": {},
   "outputs": [
    {
     "data": {
      "text/plain": [
       "Text(0.5, 1.0, 'DecisionTreeClassifier Decision Region Boundary')"
      ]
     },
     "execution_count": 168,
     "metadata": {},
     "output_type": "execute_result"
    },
    {
     "data": {
      "image/png": "[encoded data removed]",
      "text/plain": [
       "<Figure size 432x288 with 1 Axes>"
      ]
     },
     "metadata": {
      "needs_background": "light"
     },
     "output_type": "display_data"
    }
   ],
   "source": [
    "from sklearn.decomposition import PCA\n",
    "from mlxtend.plotting import plot_decision_regions\n",
    "\n",
    "clf =  LinearSVC()\n",
    "pca = PCA(n_components = 2)\n",
    "X_train2 = pca.fit_transform(X.toarray())\n",
    "clf.fit(X_train2, y.values)\n",
    "plot_decision_regions(X_train2,  y.values, clf=clf, legend=2)\n",
    "\n",
    "plt.title('DecisionTreeClassifier Decision Region Boundary', size=16)"
   ]
  },
  {
   "cell_type": "code",
   "execution_count": null,
   "metadata": {},
   "outputs": [],
   "source": []
  }
 ],
 "metadata": {
  "kernelspec": {
   "display_name": "Python 3",
   "language": "python",
   "name": "python3"
  },
  "language_info": {
   "codemirror_mode": {
    "name": "ipython",
    "version": 3
   },
   "file_extension": ".py",
   "mimetype": "text/x-python",
   "name": "python",
   "nbconvert_exporter": "python",
   "pygments_lexer": "ipython3",
   "version": "3.7.4"
  }
 },
 "nbformat": 4,
 "nbformat_minor": 2
}
