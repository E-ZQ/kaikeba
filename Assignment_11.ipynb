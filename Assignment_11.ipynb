{
 "cells": [
  {
   "cell_type": "markdown",
   "metadata": {},
   "source": [
    "# Assignment_11"
   ]
  },
  {
   "cell_type": "code",
   "execution_count": 215,
   "metadata": {},
   "outputs": [
    {
     "data": {
      "text/plain": [
       "'/Users/zq/File/NLP_Learning'"
      ]
     },
     "execution_count": 215,
     "metadata": {},
     "output_type": "execute_result"
    }
   ],
   "source": [
    "pwd"
   ]
  },
  {
   "cell_type": "code",
   "execution_count": 1,
   "metadata": {},
   "outputs": [
    {
     "data": {
      "text/plain": [
       "35"
      ]
     },
     "execution_count": 1,
     "metadata": {},
     "output_type": "execute_result"
    }
   ],
   "source": [
    "from collections import defaultdict\n",
    "price = defaultdict(int)\n",
    "original_price = [1, 5, 8, 9, 10, 17, 17, 20, 24, 30, 35]\n",
    "\n",
    "for i,p in enumerate(original_price):\n",
    "    price[i+1] = p\n",
    "\n",
    "price[11]"
   ]
  },
  {
   "cell_type": "markdown",
   "metadata": {},
   "source": [
    "## Get the max splitting by enumerate"
   ]
  },
  {
   "cell_type": "code",
   "execution_count": 2,
   "metadata": {},
   "outputs": [],
   "source": [
    "# 不切一刀和在第i米处切一刀比较大小\n",
    "def r(n):  \n",
    "    return max(\n",
    "        [price[n]] + [r(i) + r(n-i) for i in range(1,n)]\n",
    "    )"
   ]
  },
  {
   "cell_type": "code",
   "execution_count": 3,
   "metadata": {},
   "outputs": [
    {
     "data": {
      "text/plain": [
       "30"
      ]
     },
     "execution_count": 3,
     "metadata": {},
     "output_type": "execute_result"
    }
   ],
   "source": [
    "r(10)"
   ]
  },
  {
   "cell_type": "code",
   "execution_count": 4,
   "metadata": {},
   "outputs": [
    {
     "data": {
      "text/plain": [
       "45"
      ]
     },
     "execution_count": 4,
     "metadata": {},
     "output_type": "execute_result"
    }
   ],
   "source": [
    "r(15)"
   ]
  },
  {
   "cell_type": "code",
   "execution_count": 5,
   "metadata": {},
   "outputs": [],
   "source": [
    "import time"
   ]
  },
  {
   "cell_type": "code",
   "execution_count": 6,
   "metadata": {},
   "outputs": [],
   "source": [
    "# @get_time\n",
    "def fibonacci(n):\n",
    "    if n  <= 2:\n",
    "        return 1\n",
    "    else:\n",
    "        return fibonacci(n-1) + fibonacci(n-2)"
   ]
  },
  {
   "cell_type": "code",
   "execution_count": 7,
   "metadata": {},
   "outputs": [
    {
     "name": "stdout",
     "output_type": "stream",
     "text": [
      "5702887\n",
      "1.5577630996704102\n"
     ]
    }
   ],
   "source": [
    "start = time.time()\n",
    "print(fibonacci(34))\n",
    "end = time.time()\n",
    "print(end-start)"
   ]
  },
  {
   "cell_type": "code",
   "execution_count": 8,
   "metadata": {},
   "outputs": [],
   "source": [
    "# 用mem存储已经计算过的值\n",
    "mem = defaultdict()\n",
    "def fibonacci_op(n):\n",
    "    if n in mem:\n",
    "        return mem[n]\n",
    "    else: \n",
    "        if n <= 2:\n",
    "            mem[n] = 1\n",
    "            return n\n",
    "        else:\n",
    "            result = fibonacci_op(n-1) + fibonacci_op(n-2)\n",
    "            mem[n] = result\n",
    "            return result"
   ]
  },
  {
   "cell_type": "code",
   "execution_count": 9,
   "metadata": {
    "scrolled": true
   },
   "outputs": [
    {
     "name": "stdout",
     "output_type": "stream",
     "text": [
      "14662949395604\n",
      "0.00031495094299316406\n"
     ]
    }
   ],
   "source": [
    "start = time.time()\n",
    "print(fibonacci_op(64))\n",
    "end = time.time()\n",
    "print(end-start)"
   ]
  },
  {
   "cell_type": "markdown",
   "metadata": {},
   "source": [
    "# Analysis: How to optimize"
   ]
  },
  {
   "cell_type": "markdown",
   "metadata": {},
   "source": [
    "## A Simpler Problem"
   ]
  },
  {
   "cell_type": "markdown",
   "metadata": {},
   "source": [
    "### Decorator"
   ]
  },
  {
   "cell_type": "code",
   "execution_count": 10,
   "metadata": {},
   "outputs": [],
   "source": [
    "def get_time(func):\n",
    "    def wrapper(*args):\n",
    "        start = time.time()\n",
    "        func(*args)\n",
    "        end = time.time()\n",
    "        print('used time : {}'.format(end-start))\n",
    "    return wrapper"
   ]
  },
  {
   "cell_type": "code",
   "execution_count": 11,
   "metadata": {},
   "outputs": [],
   "source": [
    "def f1(func):\n",
    "    def wrapper(*args,**kwargs):\n",
    "        print('Started')\n",
    "        func(*args,**kwargs)\n",
    "        print('Ended')\n",
    "    return wrapper"
   ]
  },
  {
   "cell_type": "code",
   "execution_count": 12,
   "metadata": {},
   "outputs": [],
   "source": [
    "def f():\n",
    "    print('HELLO')"
   ]
  },
  {
   "cell_type": "code",
   "execution_count": 13,
   "metadata": {},
   "outputs": [],
   "source": [
    "f = f1(f)"
   ]
  },
  {
   "cell_type": "code",
   "execution_count": 14,
   "metadata": {},
   "outputs": [
    {
     "name": "stdout",
     "output_type": "stream",
     "text": [
      "wrapper\n"
     ]
    }
   ],
   "source": [
    "print(f.__name__)"
   ]
  },
  {
   "cell_type": "code",
   "execution_count": 15,
   "metadata": {},
   "outputs": [],
   "source": [
    "@f1\n",
    "def g(a):\n",
    "    print(a)"
   ]
  },
  {
   "cell_type": "code",
   "execution_count": 16,
   "metadata": {},
   "outputs": [
    {
     "name": "stdout",
     "output_type": "stream",
     "text": [
      "Started\n",
      "hello\n",
      "Ended\n"
     ]
    }
   ],
   "source": [
    "g('hello')"
   ]
  },
  {
   "cell_type": "code",
   "execution_count": 17,
   "metadata": {},
   "outputs": [],
   "source": [
    "def k(*arg,**kwargs):\n",
    "    print(kwargs)"
   ]
  },
  {
   "cell_type": "code",
   "execution_count": 18,
   "metadata": {},
   "outputs": [
    {
     "name": "stdout",
     "output_type": "stream",
     "text": [
      "{'b': 5}\n"
     ]
    }
   ],
   "source": [
    "k(6, b=5)"
   ]
  },
  {
   "cell_type": "code",
   "execution_count": 19,
   "metadata": {},
   "outputs": [],
   "source": [
    "from functools import wraps"
   ]
  },
  {
   "cell_type": "code",
   "execution_count": 20,
   "metadata": {},
   "outputs": [],
   "source": [
    "def memo(f):\n",
    "    memo.already_computed = {}\n",
    "    @wraps(f)\n",
    "    def _wrap(arg):\n",
    "        if arg in memo.already_computed:\n",
    "            result = memo.already_computed[arg]\n",
    "        else:\n",
    "            result = f(arg)\n",
    "            memo.already_computed[arg] = result\n",
    "        return result\n",
    "    return _wrap"
   ]
  },
  {
   "cell_type": "markdown",
   "metadata": {},
   "source": [
    "# We use this method to solve Cut Rod probelm¶"
   ]
  },
  {
   "cell_type": "code",
   "execution_count": 21,
   "metadata": {},
   "outputs": [],
   "source": [
    "solution = {}"
   ]
  },
  {
   "cell_type": "code",
   "execution_count": 22,
   "metadata": {},
   "outputs": [],
   "source": [
    "@memo\n",
    "def r(n):\n",
    "    \"\"\"\n",
    "    Args: n is the iron length\n",
    "    Return: the max revenue \n",
    "    \"\"\"\n",
    "    max_price, max_split = max(\n",
    "        [(price[n], 0)] + [(r(i) + r(n-i), i) for i in range(1, n)], key=lambda x: x[0]\n",
    "    )\n",
    "\n",
    "    solution[n] = (n - max_split, max_split)\n",
    "    \n",
    "    return max_price"
   ]
  },
  {
   "cell_type": "code",
   "execution_count": 23,
   "metadata": {
    "scrolled": false
   },
   "outputs": [
    {
     "data": {
      "text/plain": [
       "60"
      ]
     },
     "execution_count": 23,
     "metadata": {},
     "output_type": "execute_result"
    }
   ],
   "source": [
    "r(20)"
   ]
  },
  {
   "cell_type": "code",
   "execution_count": 24,
   "metadata": {},
   "outputs": [
    {
     "data": {
      "text/plain": [
       "'r'"
      ]
     },
     "execution_count": 24,
     "metadata": {},
     "output_type": "execute_result"
    }
   ],
   "source": [
    "r.__name__"
   ]
  },
  {
   "cell_type": "code",
   "execution_count": 25,
   "metadata": {},
   "outputs": [
    {
     "data": {
      "text/plain": [
       "{1: 1,\n",
       " 2: 5,\n",
       " 3: 8,\n",
       " 4: 10,\n",
       " 5: 13,\n",
       " 6: 17,\n",
       " 7: 18,\n",
       " 8: 22,\n",
       " 9: 25,\n",
       " 10: 30,\n",
       " 11: 35,\n",
       " 12: 36,\n",
       " 13: 40,\n",
       " 14: 43,\n",
       " 15: 45,\n",
       " 16: 48,\n",
       " 17: 52,\n",
       " 18: 53,\n",
       " 19: 57,\n",
       " 20: 60}"
      ]
     },
     "execution_count": 25,
     "metadata": {},
     "output_type": "execute_result"
    }
   ],
   "source": [
    "memo.already_computed"
   ]
  },
  {
   "cell_type": "code",
   "execution_count": 26,
   "metadata": {},
   "outputs": [
    {
     "data": {
      "text/plain": [
       "defaultdict(int,\n",
       "            {1: 1,\n",
       "             2: 5,\n",
       "             3: 8,\n",
       "             4: 9,\n",
       "             5: 10,\n",
       "             6: 17,\n",
       "             7: 17,\n",
       "             8: 20,\n",
       "             9: 24,\n",
       "             10: 30,\n",
       "             11: 35,\n",
       "             15: 0,\n",
       "             14: 0,\n",
       "             13: 0,\n",
       "             12: 0,\n",
       "             20: 0,\n",
       "             19: 0,\n",
       "             18: 0,\n",
       "             17: 0,\n",
       "             16: 0})"
      ]
     },
     "execution_count": 26,
     "metadata": {},
     "output_type": "execute_result"
    }
   ],
   "source": [
    "price"
   ]
  },
  {
   "cell_type": "code",
   "execution_count": 27,
   "metadata": {
    "scrolled": false
   },
   "outputs": [
    {
     "data": {
      "text/plain": [
       "{1: (1, 0),\n",
       " 2: (2, 0),\n",
       " 3: (3, 0),\n",
       " 4: (2, 2),\n",
       " 5: (3, 2),\n",
       " 6: (6, 0),\n",
       " 7: (6, 1),\n",
       " 8: (6, 2),\n",
       " 9: (6, 3),\n",
       " 10: (10, 0),\n",
       " 11: (11, 0),\n",
       " 12: (11, 1),\n",
       " 13: (11, 2),\n",
       " 14: (11, 3),\n",
       " 15: (13, 2),\n",
       " 16: (14, 2),\n",
       " 17: (11, 6),\n",
       " 18: (17, 1),\n",
       " 19: (17, 2),\n",
       " 20: (17, 3)}"
      ]
     },
     "execution_count": 27,
     "metadata": {},
     "output_type": "execute_result"
    }
   ],
   "source": [
    "solution"
   ]
  },
  {
   "cell_type": "code",
   "execution_count": 28,
   "metadata": {},
   "outputs": [],
   "source": [
    "def memo(f):\n",
    "    memo.already_computed = {}\n",
    "#     @wraps(f)\n",
    "    def _wrap(arg):\n",
    "        if arg in memo.already_computed:\n",
    "            result = memo.already_computed[arg]\n",
    "        else:\n",
    "            result = f(arg)\n",
    "            memo.already_computed[arg] = result\n",
    "        return result\n",
    "    return _wrap\n",
    "\n",
    "solution = {}\n",
    "@memo\n",
    "def r(n):\n",
    "    \"\"\"\n",
    "    Args: n is the iron length\n",
    "    Return: the max revenue \n",
    "    \"\"\"\n",
    "    max_price, max_split = max(\n",
    "        [(price[n], 0)] + [(r(i) + r(n-i), i) for i in range(1, n)], key=lambda x: x[0]\n",
    "    )\n",
    "\n",
    "    solution[n] = (n - max_split, max_split)\n",
    "    \n",
    "    return max_price"
   ]
  },
  {
   "cell_type": "code",
   "execution_count": 29,
   "metadata": {},
   "outputs": [
    {
     "data": {
      "text/plain": [
       "92"
      ]
     },
     "execution_count": 29,
     "metadata": {},
     "output_type": "execute_result"
    }
   ],
   "source": [
    "r(30)"
   ]
  },
  {
   "cell_type": "code",
   "execution_count": 30,
   "metadata": {
    "scrolled": true
   },
   "outputs": [
    {
     "data": {
      "text/plain": [
       "'_wrap'"
      ]
     },
     "execution_count": 30,
     "metadata": {},
     "output_type": "execute_result"
    }
   ],
   "source": [
    "# 注释掉wrap(f)之后，直接调用r(n)的函数发生了变化\n",
    "r.__name__"
   ]
  },
  {
   "cell_type": "code",
   "execution_count": 31,
   "metadata": {},
   "outputs": [
    {
     "data": {
      "text/plain": [
       "45"
      ]
     },
     "execution_count": 31,
     "metadata": {},
     "output_type": "execute_result"
    }
   ],
   "source": [
    "r(15)"
   ]
  },
  {
   "cell_type": "code",
   "execution_count": 32,
   "metadata": {},
   "outputs": [
    {
     "data": {
      "text/plain": [
       "{1: (1, 0),\n",
       " 2: (2, 0),\n",
       " 3: (3, 0),\n",
       " 4: (2, 2),\n",
       " 5: (3, 2),\n",
       " 6: (6, 0),\n",
       " 7: (6, 1),\n",
       " 8: (6, 2),\n",
       " 9: (6, 3),\n",
       " 10: (10, 0),\n",
       " 11: (11, 0),\n",
       " 12: (11, 1),\n",
       " 13: (11, 2),\n",
       " 14: (11, 3),\n",
       " 15: (13, 2),\n",
       " 16: (14, 2),\n",
       " 17: (11, 6),\n",
       " 18: (17, 1),\n",
       " 19: (17, 2),\n",
       " 20: (17, 3),\n",
       " 21: (11, 10),\n",
       " 22: (11, 11),\n",
       " 23: (22, 1),\n",
       " 24: (22, 2),\n",
       " 25: (22, 3),\n",
       " 26: (24, 2),\n",
       " 27: (25, 2),\n",
       " 28: (22, 6),\n",
       " 29: (28, 1),\n",
       " 30: (28, 2)}"
      ]
     },
     "execution_count": 32,
     "metadata": {},
     "output_type": "execute_result"
    }
   ],
   "source": [
    "solution"
   ]
  },
  {
   "cell_type": "markdown",
   "metadata": {},
   "source": [
    "# How do we parse solution?¶"
   ]
  },
  {
   "cell_type": "code",
   "execution_count": 33,
   "metadata": {},
   "outputs": [],
   "source": [
    "def parse_solution(n):\n",
    "    left_split, right_split = solution[n]\n",
    "    \n",
    "    if right_split == 0: return [left_split]\n",
    "    \n",
    "    return parse_solution(left_split) + parse_solution(right_split)"
   ]
  },
  {
   "cell_type": "code",
   "execution_count": 34,
   "metadata": {},
   "outputs": [
    {
     "data": {
      "text/plain": [
       "75"
      ]
     },
     "execution_count": 34,
     "metadata": {},
     "output_type": "execute_result"
    }
   ],
   "source": [
    "r(24)"
   ]
  },
  {
   "cell_type": "code",
   "execution_count": 35,
   "metadata": {},
   "outputs": [
    {
     "data": {
      "text/plain": [
       "[11, 11, 2]"
      ]
     },
     "execution_count": 35,
     "metadata": {},
     "output_type": "execute_result"
    }
   ],
   "source": [
    "parse_solution(24)"
   ]
  },
  {
   "cell_type": "markdown",
   "metadata": {},
   "source": [
    "# Edit Distance"
   ]
  },
  {
   "cell_type": "code",
   "execution_count": 36,
   "metadata": {},
   "outputs": [],
   "source": [
    "solution = {}"
   ]
  },
  {
   "cell_type": "code",
   "execution_count": 37,
   "metadata": {},
   "outputs": [],
   "source": [
    "from functools import lru_cache"
   ]
  },
  {
   "cell_type": "code",
   "execution_count": 38,
   "metadata": {},
   "outputs": [],
   "source": [
    "@lru_cache(maxsize=2**10)\n",
    "def edit_distance(string1, string2):\n",
    "    \n",
    "    if len(string1) == 0: return len(string2)\n",
    "    if len(string2) == 0: return len(string1)\n",
    "    \n",
    "    tail_s1 = string1[-1]\n",
    "    tail_s2 = string2[-1]\n",
    "    \n",
    "    candidates = [\n",
    "        (edit_distance(string1[:-1], string2) + 1, 'DEL {}'.format(tail_s1)),  \n",
    "        # string 1 delete tail\n",
    "        (edit_distance(string1, string2[:-1]) + 1, 'ADD {}'.format(tail_s2)),  \n",
    "        # string 1 add tail of string2\n",
    "    ]\n",
    "    \n",
    "    if tail_s1 == tail_s2:\n",
    "        both_forward = (edit_distance(string1[:-1], string2[:-1]) + 0, '')\n",
    "    else:\n",
    "        both_forward = (edit_distance(string1[:-1], string2[:-1]) + 1, 'SUB {} => {}'.format(tail_s1, tail_s2))\n",
    "\n",
    "    candidates.append(both_forward)\n",
    "    \n",
    "    min_distance, operation = min(candidates, key=lambda x: x[0])\n",
    "    \n",
    "    solution[(string1, string2)] = operation \n",
    "    \n",
    "    return min_distance"
   ]
  },
  {
   "cell_type": "code",
   "execution_count": 39,
   "metadata": {},
   "outputs": [
    {
     "data": {
      "text/plain": [
       "3"
      ]
     },
     "execution_count": 39,
     "metadata": {},
     "output_type": "execute_result"
    }
   ],
   "source": [
    "edit_distance('ABCDECG','ABCCEF')"
   ]
  },
  {
   "cell_type": "code",
   "execution_count": 40,
   "metadata": {
    "scrolled": true
   },
   "outputs": [
    {
     "data": {
      "text/plain": [
       "{('A', 'A'): '',\n",
       " ('A', 'AB'): 'ADD B',\n",
       " ('A', 'ABC'): 'ADD C',\n",
       " ('A', 'ABCC'): 'ADD C',\n",
       " ('A', 'ABCCE'): 'ADD E',\n",
       " ('A', 'ABCCEF'): 'ADD F',\n",
       " ('AB', 'A'): 'DEL B',\n",
       " ('AB', 'AB'): '',\n",
       " ('AB', 'ABC'): 'ADD C',\n",
       " ('AB', 'ABCC'): 'ADD C',\n",
       " ('AB', 'ABCCE'): 'ADD E',\n",
       " ('AB', 'ABCCEF'): 'ADD F',\n",
       " ('ABC', 'A'): 'DEL C',\n",
       " ('ABC', 'AB'): 'DEL C',\n",
       " ('ABC', 'ABC'): '',\n",
       " ('ABC', 'ABCC'): 'ADD C',\n",
       " ('ABC', 'ABCCE'): 'ADD E',\n",
       " ('ABC', 'ABCCEF'): 'ADD F',\n",
       " ('ABCD', 'A'): 'DEL D',\n",
       " ('ABCD', 'AB'): 'DEL D',\n",
       " ('ABCD', 'ABC'): 'DEL D',\n",
       " ('ABCD', 'ABCC'): 'SUB D => C',\n",
       " ('ABCD', 'ABCCE'): 'ADD E',\n",
       " ('ABCD', 'ABCCEF'): 'ADD F',\n",
       " ('ABCDE', 'A'): 'DEL E',\n",
       " ('ABCDE', 'AB'): 'DEL E',\n",
       " ('ABCDE', 'ABC'): 'DEL E',\n",
       " ('ABCDE', 'ABCC'): 'DEL E',\n",
       " ('ABCDE', 'ABCCE'): '',\n",
       " ('ABCDE', 'ABCCEF'): 'ADD F',\n",
       " ('ABCDEC', 'A'): 'DEL C',\n",
       " ('ABCDEC', 'AB'): 'DEL C',\n",
       " ('ABCDEC', 'ABC'): 'DEL C',\n",
       " ('ABCDEC', 'ABCC'): '',\n",
       " ('ABCDEC', 'ABCCE'): 'DEL C',\n",
       " ('ABCDEC', 'ABCCEF'): 'SUB C => F',\n",
       " ('ABCDECG', 'A'): 'DEL G',\n",
       " ('ABCDECG', 'AB'): 'DEL G',\n",
       " ('ABCDECG', 'ABC'): 'DEL G',\n",
       " ('ABCDECG', 'ABCC'): 'DEL G',\n",
       " ('ABCDECG', 'ABCCE'): 'DEL G',\n",
       " ('ABCDECG', 'ABCCEF'): 'DEL G'}"
      ]
     },
     "execution_count": 40,
     "metadata": {},
     "output_type": "execute_result"
    }
   ],
   "source": [
    "solution"
   ]
  },
  {
   "cell_type": "code",
   "execution_count": 41,
   "metadata": {
    "scrolled": true
   },
   "outputs": [
    {
     "data": {
      "text/plain": [
       "CacheInfo(hits=71, misses=56, maxsize=1024, currsize=56)"
      ]
     },
     "execution_count": 41,
     "metadata": {},
     "output_type": "execute_result"
    }
   ],
   "source": [
    "edit_distance.cache_info()"
   ]
  },
  {
   "cell_type": "code",
   "execution_count": 42,
   "metadata": {
    "scrolled": true
   },
   "outputs": [
    {
     "data": {
      "text/plain": [
       "CacheInfo(hits=72, misses=56, maxsize=1024, currsize=56)"
      ]
     },
     "execution_count": 42,
     "metadata": {},
     "output_type": "execute_result"
    }
   ],
   "source": [
    "edit_distance('ABCDECG','ABCCE')\n",
    "edit_distance.cache_info()"
   ]
  },
  {
   "cell_type": "code",
   "execution_count": 43,
   "metadata": {},
   "outputs": [
    {
     "data": {
      "text/plain": [
       "CacheInfo(hits=136, misses=98, maxsize=1024, currsize=98)"
      ]
     },
     "execution_count": 43,
     "metadata": {},
     "output_type": "execute_result"
    }
   ],
   "source": [
    "# 到目前为止一共访问缓存136次，38次查到，98次没查到\n",
    "edit_distance('FBCDECG','ABCCE')\n",
    "edit_distance.cache_info()"
   ]
  },
  {
   "cell_type": "code",
   "execution_count": 44,
   "metadata": {},
   "outputs": [],
   "source": [
    "# solution"
   ]
  },
  {
   "cell_type": "markdown",
   "metadata": {},
   "source": [
    "## Todo: Parse Solution is our homework"
   ]
  },
  {
   "cell_type": "code",
   "execution_count": 45,
   "metadata": {},
   "outputs": [],
   "source": [
    "def parse_edit_solution(str1, str2):\n",
    "    \n",
    "    if len(str1) > len(str2):\n",
    "        return [((str1, str2), solution[(str1, str2)])] + parse_edit_solution(str1[:-1], str2)\n",
    "    elif len(str1) < len(str2):\n",
    "        return [((str1, str2), solution[(str1, str2)])] + parse_edit_solution(str1, str2[:-1])\n",
    "    elif str1 != str2:\n",
    "        return [((str1, str2), solution[(str1, str2)])] + parse_edit_solution(str1[:-1], str2[:-1])\n",
    "    else:\n",
    "        return [((str1, str2), solution[(str1, str2)])]"
   ]
  },
  {
   "cell_type": "code",
   "execution_count": 46,
   "metadata": {},
   "outputs": [
    {
     "name": "stdout",
     "output_type": "stream",
     "text": [
      "[(('ABCDECG', 'ABCCEF'), 'DEL G'), (('ABCDEC', 'ABCCEF'), 'SUB C => F'), (('ABCDE', 'ABCCE'), ''), (('ABCD', 'ABCC'), 'SUB D => C'), (('ABC', 'ABC'), '')]\n"
     ]
    }
   ],
   "source": [
    "str1 = 'ABCDECG'\n",
    "str2 = 'ABCCEF'\n",
    "print(parse_edit_solution(str1, str2))"
   ]
  },
  {
   "cell_type": "code",
   "execution_count": 48,
   "metadata": {},
   "outputs": [
    {
     "name": "stdout",
     "output_type": "stream",
     "text": [
      "[(('ABCD', 'ABCCEF'), 'ADD F'), (('ABCD', 'ABCCE'), 'ADD E'), (('ABCD', 'ABCC'), 'SUB D => C'), (('ABC', 'ABC'), '')]\n"
     ]
    }
   ],
   "source": [
    "# solution可以找到下面字符串的编辑距离，但是顺序和实际刚好反过来了\n",
    "str1 = 'ABCD'\n",
    "str2 = 'ABCCEF'\n",
    "# edit_distance(str3, str2))\n",
    "print(parse_edit_solution(str1, str2))"
   ]
  },
  {
   "cell_type": "markdown",
   "metadata": {},
   "source": [
    "# Problem Case 3: Pinyin Auto Correction Problem"
   ]
  },
  {
   "cell_type": "code",
   "execution_count": 49,
   "metadata": {},
   "outputs": [
    {
     "data": {
      "text/plain": [
       "'此外自本周6月12日起除小米手机6等15款机型外其余机型已暂停更新发布含开发版体'"
      ]
     },
     "execution_count": 49,
     "metadata": {},
     "output_type": "execute_result"
    }
   ],
   "source": [
    "# 读取\n",
    "chinese_dataset = 'article_9k.txt'\n",
    "CHINESE_CHARATERS = open(chinese_dataset).read()\n",
    "CHINESE_CHARATERS[:40]"
   ]
  },
  {
   "cell_type": "code",
   "execution_count": 50,
   "metadata": {},
   "outputs": [
    {
     "data": {
      "text/plain": [
       "129433034"
      ]
     },
     "execution_count": 50,
     "metadata": {},
     "output_type": "execute_result"
    }
   ],
   "source": [
    "import pinyin\n",
    "def chinese_to_pinyin(character):\n",
    "    return pinyin.get(character, format='strip', delimiter=' ')\n",
    "\n",
    "# 转换为拼音\n",
    "CHINESE_CHARATERS_COPYS = chinese_to_pinyin(CHINESE_CHARATERS)\n",
    "len(CHINESE_CHARATERS_COPYS)"
   ]
  },
  {
   "cell_type": "code",
   "execution_count": 51,
   "metadata": {},
   "outputs": [
    {
     "data": {
      "text/plain": [
       "420"
      ]
     },
     "execution_count": 51,
     "metadata": {},
     "output_type": "execute_result"
    }
   ],
   "source": [
    "import re\n",
    "from collections import Counter, defaultdict\n",
    "\n",
    "# 去掉没有转成拼音的中文\n",
    "def tokens(text):\n",
    "    \"List all the pinyin characters\"\n",
    "    return re.findall('[a-z]+',text.lower())\n",
    "\n",
    "PINYIN_COUNT = Counter(tokens(CHINESE_CHARATERS_COPYS))\n",
    "len(PINYIN_COUNT)"
   ]
  },
  {
   "cell_type": "code",
   "execution_count": 52,
   "metadata": {},
   "outputs": [],
   "source": [
    "# PINYIN_COUNT"
   ]
  },
  {
   "cell_type": "code",
   "execution_count": 53,
   "metadata": {},
   "outputs": [],
   "source": [
    "def correct(word):\n",
    "    'Find the most possible pinyin based on edit distance'\n",
    "    # Prefer edit distance 0, then 1, then 2; otherwist default to word itself\n",
    "    candidates = (known(edits0(word)) or\n",
    "                  known(edits1(word)) or\n",
    "                  known(edits2(word)) or\n",
    "                  [word])\n",
    "    return max(candidates,key=PINYIN_COUNT.get)\n",
    "\n",
    "def known(words):\n",
    "    'Return the pinyin in our data'\n",
    "    return {w for w in words if w in PINYIN_COUNT}\n",
    "\n",
    "def edits0(word):\n",
    "    'Return all strings that are zero edits away from word (i.e., just word itself).'\n",
    "    return {word}\n",
    "\n",
    "def edits2(word):\n",
    "    'Return all strings that are two edits away from this pinyin.'\n",
    "    return {e2 for e1 in edits1(word) for e2 in edits1(e1)}\n",
    "\n",
    "alphabet = 'abcdefghijklmnopqrstuvwxyz'\n",
    "\n",
    "def splits(word):\n",
    "    'Return a list of all possible (first, rest) pairs that comprise pinyin.'\n",
    "    return [(word[:i], word[i:])\n",
    "           for i in range(len(word)+1)]\n",
    "\n",
    "def edits1(word):\n",
    "    'Return all strings that are one edit away from this pinyin.'\n",
    "    pairs = splits(word)\n",
    "    deletes = [a+b[1:] for (a,b) in pairs if b]\n",
    "    transposes = [a+b[1]+b[0]+b[2:] for (a,b) in pairs if len(b) > 1]\n",
    "    replaces = [a+c+b[1:] for (a,b) in pairs for c in alphabet if b]\n",
    "    inserts = [a+c+b for (a,b) in pairs for c in alphabet]\n",
    "    return set(deletes + transposes + replaces + inserts)"
   ]
  },
  {
   "cell_type": "code",
   "execution_count": 54,
   "metadata": {},
   "outputs": [
    {
     "data": {
      "text/plain": [
       "[('', 'pinyin'),\n",
       " ('p', 'inyin'),\n",
       " ('pi', 'nyin'),\n",
       " ('pin', 'yin'),\n",
       " ('piny', 'in'),\n",
       " ('pinyi', 'n'),\n",
       " ('pinyin', '')]"
      ]
     },
     "execution_count": 54,
     "metadata": {},
     "output_type": "execute_result"
    }
   ],
   "source": [
    "splits('pinyin')"
   ]
  },
  {
   "cell_type": "code",
   "execution_count": 55,
   "metadata": {},
   "outputs": [
    {
     "name": "stdout",
     "output_type": "stream",
     "text": [
      "set()\n"
     ]
    }
   ],
   "source": [
    "print(known(edits0('pinyin')))"
   ]
  },
  {
   "cell_type": "code",
   "execution_count": 56,
   "metadata": {},
   "outputs": [
    {
     "name": "stdout",
     "output_type": "stream",
     "text": [
      "{'ptnyin', 'zinyin', 'pinfyin', 'pirnyin', 'piayin', 'pityin', 'pinyun', 'pinyjn', 'prnyin', 'pinynn', 'pinyvin', 'pinyyin', 'pinypin', 'pinbyin', 'apinyin', 'pinyiny', 'pinykin', 'pinyein', 'pinyig', 'pinhin', 'pinyinu', 'piniyn', 'pinyhin', 'punyin', 'pynyin', 'cpinyin', 'pinyia', 'pjinyin', 'pinybin', 'pinrin', 'pinpyin', 'pinyij', 'pinzyin', 'pinqin', 'pinyik', 'penyin', 'pinymn', 'pinyirn', 'pisnyin', 'pinyfn', 'pnnyin', 'pinyyn', 'pinyis', 'pixnyin', 'spinyin', 'pinnin', 'pinbin', 'pinyitn', 'piznyin', 'piiyin', 'pinyid', 'ninyin', 'pinlin', 'pinyln', 'pinyifn', 'vpinyin', 'pinryin', 'pxinyin', 'pninyin', 'pbnyin', 'pinyinh', 'pinyiy', 'pinoyin', 'xinyin', 'pinycn', 'pinyinx', 'bpinyin', 'pinycin', 'pinyvn', 'pinyixn', 'pimnyin', 'ppinyin', 'poinyin', 'yinyin', 'pinayin', 'pineyin', 'pinyinf', 'pijyin', 'pintyin', 'pwinyin', 'pifyin', 'pinyip', 'pinyimn', 'pdinyin', 'pinyfin', 'pinyoin', 'piqyin', 'pinzin', 'peinyin', 'pvinyin', 'rpinyin', 'minyin', 'pidyin', 'ppnyin', 'pinpin', 'wpinyin', 'pinywin', 'pindin', 'pqinyin', 'ipnyin', 'pinjin', 'pinyinr', 'kinyin', 'pigyin', 'pilyin', 'pinydn', 'dpinyin', 'pipyin', 'piuyin', 'psnyin', 'pmnyin', 'piknyin', 'pinyni', 'winyin', 'pknyin', 'pkinyin', 'pinmyin', 'plnyin', 'jpinyin', 'pinyinn', 'phnyin', 'puinyin', 'pinain', 'pinwyin', 'pinnyin', 'pimyin', 'pinyrin', 'pinsin', 'pinyisn', 'pminyin', 'pinuyin', 'pioyin', 'psinyin', 'pinyiqn', 'pcnyin', 'pinyinc', 'piynin', 'pwnyin', 'hinyin', 'pinyiin', 'piyyin', 'cinyin', 'pjnyin', 'pinyinv', 'plinyin', 'pniyin', 'painyin', 'piqnyin', 'pinyon', 'piyin', 'pinvyin', 'pinyiln', 'pinytin', 'pbinyin', 'pinyidn', 'pinyink', 'pibyin', 'pinyikn', 'pisyin', 'pibnyin', 'pinyih', 'pinyim', 'picyin', 'pinmin', 'ptinyin', 'piynyin', 'pinysn', 'pinein', 'pinyain', 'sinyin', 'pinyinp', 'pvnyin', 'pianyin', 'qinyin', 'pinkin', 'pinyit', 'qpinyin', 'pivyin', 'pignyin', 'pzinyin', 'pinqyin', 'pfnyin', 'pinyix', 'pinyiwn', 'pinyinl', 'pinvin', 'prinyin', 'pinyiw', 'pinyiz', 'pinyn', 'pinyinm', 'rinyin', 'ainyin', 'pinyins', 'pinysin', 'pinyihn', 'pinyinj', 'phinyin', 'pinyi', 'pionyin', 'vinyin', 'pieyin', 'piniyin', 'pinymin', 'pxnyin', 'pinsyin', 'ginyin', 'pinying', 'pinin', 'pinyzn', 'pinyien', 'linyin', 'pinyzin', 'pinyiyn', 'pinuin', 'pinygn', 'pinyinb', 'pnyin', 'piryin', 'pinyinw', 'pinyini', 'opinyin', 'pinyqin', 'pinyine', 'epinyin', 'iinyin', 'pinylin', 'pitnyin', 'pinybn', 'pihyin', 'pintin', 'piniin', 'pinyizn', 'pinyiun', 'pinyir', 'mpinyin', 'pinydin', 'pinyinq', 'pinyxn', 'fpinyin', 'pinywn', 'pinyign', 'pdnyin', 'pinoin', 'inyin', 'pinyil', 'tinyin', 'pinyrn', 'pifnyin', 'pincin', 'pinyion', 'panyin', 'pinyif', 'pinyiq', 'pinynin', 'tpinyin', 'pinyijn', 'pizyin', 'pqnyin', 'pinyint', 'pinyuin', 'pindyin', 'npinyin', 'einyin', 'picnyin', 'pznyin', 'piwnyin', 'pcinyin', 'lpinyin', 'dinyin', 'pfinyin', 'pinyii', 'pinyjin', 'pinyivn', 'pijnyin', 'pinyiu', 'ponyin', 'pinyib', 'jinyin', 'pinyqn', 'pikyin', 'pinyie', 'pinyipn', 'pinlyin', 'ypinyin', 'pincyin', 'pinypn', 'pinykn', 'pinygin', 'oinyin', 'pinxin', 'zpinyin', 'pyinyin', 'pienyin', 'pinwin', 'pinkyin', 'pinyiv', 'upinyin', 'piwyin', 'pinyxin', 'pinyan', 'piinyin', 'pipnyin', 'hpinyin', 'pivnyin', 'ipinyin', 'pinxyin', 'pingyin', 'pinyian', 'finyin', 'pinhyin', 'xpinyin', 'pinyina', 'pinjyin', 'pinyicn', 'pihnyin', 'pinytn', 'uinyin', 'pinyino', 'pinyind', 'pginyin', 'pingin', 'kpinyin', 'pinyinz', 'pinyio', 'binyin', 'pinyin', 'pinyibn', 'pinyic', 'pinfin', 'pilnyin', 'pixyin', 'gpinyin', 'pidnyin', 'pinyen', 'piunyin', 'pinyhn', 'pgnyin'}\n"
     ]
    }
   ],
   "source": [
    "print(edits1('pinyin'))"
   ]
  },
  {
   "cell_type": "markdown",
   "metadata": {},
   "source": [
    "# Test"
   ]
  },
  {
   "cell_type": "code",
   "execution_count": 57,
   "metadata": {},
   "outputs": [
    {
     "name": "stdout",
     "output_type": "stream",
     "text": [
      "yin\n",
      "ying\n",
      "ying\n"
     ]
    }
   ],
   "source": [
    "print(correct('yin'))\n",
    "print(correct('yign'))\n",
    "print(correct('yinn'))"
   ]
  },
  {
   "cell_type": "code",
   "execution_count": 58,
   "metadata": {
    "scrolled": false
   },
   "outputs": [
    {
     "name": "stdout",
     "output_type": "stream",
     "text": [
      "zhe shi yi ge ce shi\n",
      "wo xiang shang qing hua da xue\n"
     ]
    }
   ],
   "source": [
    "def correct_sequence_pinyin(text_pinyin):\n",
    "    return ' '.join(map(correct, text_pinyin.split()))\n",
    "\n",
    "test1 = 'zhe sih yi ge ce sho'\n",
    "test2 = 'wo xiang shagn qinng hua da xue'\n",
    "print(correct_sequence_pinyin(test1))\n",
    "print(correct_sequence_pinyin(test2))"
   ]
  },
  {
   "cell_type": "markdown",
   "metadata": {},
   "source": [
    "# 思考题-homework？    \n",
    "#### 如何在不带空格的时候完成自动修整？--> 如何完成拼音的自动分割？   \n",
    "###### 提示：使用第一节课提到的语言模型!"
   ]
  },
  {
   "cell_type": "markdown",
   "metadata": {},
   "source": [
    "woyaoshangqinghua\n",
    "w yaoshangqinghua\n",
    "wo yaoshangqinghua\n",
    "woyao shangqinghua\n",
    "\n",
    "-> DP"
   ]
  },
  {
   "cell_type": "markdown",
   "metadata": {},
   "source": [
    "拼音分割 + 分割后修正"
   ]
  },
  {
   "cell_type": "markdown",
   "metadata": {},
   "source": [
    "#### 构造词典"
   ]
  },
  {
   "cell_type": "code",
   "execution_count": 59,
   "metadata": {},
   "outputs": [],
   "source": [
    "import re\n",
    "import pinyin\n",
    "from collections import Counter, defaultdict\n",
    "from functools import lru_cache"
   ]
  },
  {
   "cell_type": "code",
   "execution_count": 61,
   "metadata": {
    "scrolled": true
   },
   "outputs": [
    {
     "data": {
      "text/plain": [
       "397"
      ]
     },
     "execution_count": 61,
     "metadata": {},
     "output_type": "execute_result"
    }
   ],
   "source": [
    "# 把数字、标点及英文从中文中过滤掉，但是这些也都可以转成中文后再转成拼音\n",
    "def chinese_filter(sentence):\n",
    "    \"List all the pinyin characters\"\n",
    "    return re.findall('[\\u4e00-\\u9fa5]+', sentence)\n",
    "\n",
    "# 把无法转为拼音的中文过滤掉\n",
    "def pinyin_filter(sentence):\n",
    "    return re.findall('[a-z]+', sentence.lower())\n",
    "\n",
    "# 生成一元的拼音词典,相较代码复现中少了23个拼音\n",
    "CHINESE_CHARATERS = open('article_9k.txt').read()\n",
    "TOKEN_ONE_GRAM = pinyin.get(''.join(chinese_filter(CHINESE_CHARATERS)), format='strip', delimiter=' ')\n",
    "TOKEN_ONE_GRAM = pinyin_filter(TOKEN_ONE_GRAM)\n",
    "one_gram_counter = Counter(TOKEN_ONE_GRAM)\n",
    "len(one_gram_counter)"
   ]
  },
  {
   "cell_type": "code",
   "execution_count": 62,
   "metadata": {},
   "outputs": [
    {
     "data": {
      "text/plain": [
       "121498"
      ]
     },
     "execution_count": 62,
     "metadata": {},
     "output_type": "execute_result"
    }
   ],
   "source": [
    "# 生成二元的拼音词典\n",
    "two_gram_dict = {}\n",
    "for i in range(len(TOKEN_ONE_GRAM[:-2])):\n",
    "    two_gram_dict[TOKEN_ONE_GRAM[i] + TOKEN_ONE_GRAM[i + 1]] = [TOKEN_ONE_GRAM[i], TOKEN_ONE_GRAM[i + 1]]\n",
    "    \n",
    "TOKEN_TWO_GRAM = [''.join(TOKEN_ONE_GRAM[i:i+2]) for i in range(len(TOKEN_ONE_GRAM[:-2]))]\n",
    "two_gram_counter = Counter(TOKEN_TWO_GRAM)\n",
    "len(two_gram_counter)"
   ]
  },
  {
   "cell_type": "code",
   "execution_count": 63,
   "metadata": {},
   "outputs": [],
   "source": [
    "# two_gram_counter.keys()"
   ]
  },
  {
   "cell_type": "markdown",
   "metadata": {},
   "source": [
    "#### 用切钢条的方法切分拼音"
   ]
  },
  {
   "cell_type": "code",
   "execution_count": 64,
   "metadata": {},
   "outputs": [],
   "source": [
    "TOTAL_ONE_GRAM = sum(one_gram_counter.values())"
   ]
  },
  {
   "cell_type": "code",
   "execution_count": 71,
   "metadata": {},
   "outputs": [],
   "source": [
    "# TOTAL_ONE_GRAM  # 30365392"
   ]
  },
  {
   "cell_type": "code",
   "execution_count": 202,
   "metadata": {},
   "outputs": [],
   "source": [
    "def get_probability(word):\n",
    "    prob0 = one_gram_counter[word] / TOTAL_ONE_GRAM\n",
    "    \n",
    "    if known_1(edits1(word)):\n",
    "        corrrect_word  = max(known_1(edits1(word)), key=one_gram_counter.get)\n",
    "        prob_1 = 1.0 / 2**15 * one_gram_counter[corrrect_word] / TOTAL_ONE_GRAM\n",
    "        return max(prob0,prob_1)\n",
    "    \n",
    "    return prob0\n",
    "\n",
    "cuts = {}\n",
    "@lru_cache(maxsize=2**10)\n",
    "def cut_pinyin(inputs):\n",
    "    inputs = inputs.strip()\n",
    "    max_prob, best_cut = max(\n",
    "        [(get_probability(inputs), len(inputs))] + [(cut_pinyin(inputs[:i]) * cut_pinyin(inputs[i:]), i) for i in range(1, len(inputs))], \n",
    "        key=lambda x: x[0]\n",
    "    )\n",
    "\n",
    "    cuts[inputs] = best_cut\n",
    "    \n",
    "    return max_prob\n",
    "\n",
    "def cut_results(inputs):\n",
    "    loc = cuts[inputs]\n",
    "    left_cut, right_cut = inputs[:loc], inputs[loc:]\n",
    "    if len(right_cut) == 0: return [left_cut]    \n",
    "#     if len(left_cut) == 0: return [right_cut]\n",
    "    return cut_results(left_cut) + cut_results(right_cut)\n",
    "\n",
    "def known_1(words):\n",
    "    'Return the pinyin in our data'\n",
    "    return {w for w in words if w in one_gram_counter}\n",
    "\n",
    "def correct_1(word):\n",
    "    'Find the most possible pinyin based on edit distance'\n",
    "    # Prefer edit distance 0, then 1, then 2; otherwist default to word itself\n",
    "    candidates = (known_1(edits0(word)) or\n",
    "                  known_1(edits1(word)) or\n",
    "                  [word])\n",
    "    return max(candidates,key=one_gram_counter.get)\n",
    "\n",
    "def correct_pinyin_1(text_pinyin):\n",
    "    return list(map(correct_1, text_pinyin))"
   ]
  },
  {
   "cell_type": "markdown",
   "metadata": {},
   "source": [
    "#### 验证"
   ]
  },
  {
   "cell_type": "code",
   "execution_count": 209,
   "metadata": {
    "scrolled": false
   },
   "outputs": [],
   "source": [
    "string1 = 'woyaoshangqinghua'\n",
    "string2 = 'wyaoshangqinghua'\n",
    "string3 = 'woyaoshangqinnhua'\n",
    "string4 = 'qinhuadaxue'"
   ]
  },
  {
   "cell_type": "code",
   "execution_count": 210,
   "metadata": {
    "scrolled": false
   },
   "outputs": [
    {
     "name": "stdout",
     "output_type": "stream",
     "text": [
      "woyaoshangqinghua ['wo', 'yao', 'shang', 'qing', 'hua']\n",
      "wyaoshangqinghua ['yao', 'shang', 'qing', 'hua']\n",
      "woyaoshangqinnhua ['wo', 'yao', 'shang', 'qian', 'hua']\n",
      "qinhuadaxue ['qin', 'hua', 'da', 'xue']\n"
     ]
    }
   ],
   "source": [
    "strings = [string1, string2, string3, string4]\n",
    "for string in strings:\n",
    "    cut_pinyin(string)\n",
    "    after_cut = cut_results(string)\n",
    "    after_correct = correct_pinyin_1(after_cut)\n",
    "    print(string,after_correct)"
   ]
  },
  {
   "cell_type": "code",
   "execution_count": 211,
   "metadata": {
    "scrolled": false
   },
   "outputs": [
    {
     "name": "stdout",
     "output_type": "stream",
     "text": [
      "qing 95699\n",
      "qian 107612\n",
      "qin 18027\n"
     ]
    }
   ],
   "source": [
    "for word in known_1(edits1('qign')):\n",
    "    print(word, one_gram_counter[word])"
   ]
  },
  {
   "cell_type": "markdown",
   "metadata": {},
   "source": [
    "如果采用二元拼音，有可能改善验证结果中对  qinghua  、wyao 拆分和修正时出现的问题。"
   ]
  },
  {
   "cell_type": "code",
   "execution_count": 213,
   "metadata": {},
   "outputs": [
    {
     "name": "stdout",
     "output_type": "stream",
     "text": [
      "qinghua 1634\n",
      "qinhua 244\n",
      "qianhua 134\n",
      "\n",
      "\n",
      "wuao 27\n",
      "wayao 11\n",
      "eyao 19\n",
      "waao 63\n",
      "wuyao 229\n",
      "ayao 15\n",
      "woyao 418\n",
      "woao 6\n"
     ]
    }
   ],
   "source": [
    "def known_2(words):\n",
    "    'Return the pinyin in our data'\n",
    "    return {w for w in words if w in two_gram_counter}\n",
    "\n",
    "for word in known_2(edits1('qignhua')):\n",
    "    print(word, two_gram_counter[word])\n",
    "\n",
    "print('\\n')    \n",
    "for word in sorted(known_2(edits1('wyao')):\n",
    "    print(word, two_gram_counter[word])"
   ]
  },
  {
   "cell_type": "markdown",
   "metadata": {},
   "source": []
  }
 ],
 "metadata": {
  "kernelspec": {
   "display_name": "Python 3",
   "language": "python",
   "name": "python3"
  },
  "language_info": {
   "codemirror_mode": {
    "name": "ipython",
    "version": 3
   },
   "file_extension": ".py",
   "mimetype": "text/x-python",
   "name": "python",
   "nbconvert_exporter": "python",
   "pygments_lexer": "ipython3",
   "version": "3.7.4"
  }
 },
 "nbformat": 4,
 "nbformat_minor": 2
}
