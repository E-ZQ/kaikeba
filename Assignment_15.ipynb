{
 "cells": [
  {
   "cell_type": "markdown",
   "metadata": {},
   "source": [
    "# Assignment 15"
   ]
  },
  {
   "cell_type": "markdown",
   "metadata": {},
   "source": [
    "#### 1. What’s the relationship of  word embedding and multi-task learning?   词嵌入和多任务学习有什么关联？"
   ]
  },
  {
   "cell_type": "markdown",
   "metadata": {},
   "source": [
    "Multi-Task Learning是指不同的任务之间通过共享全部或者部分模型参数，相互辅助，相互迁移，共同提高的机器学习方法，一定程度上缓解了数据量的需求。Word embedding提取文本特征，使不同任务之间可以共享参数。"
   ]
  },
  {
   "cell_type": "markdown",
   "metadata": {},
   "source": [
    "#### 2. Why do we need some super tasks  to make multi-task learning possible?   为什么实现多任务学习需要超级问题？"
   ]
  },
  {
   "cell_type": "markdown",
   "metadata": {},
   "source": [
    "NLP领域的三个超级问题是语言模型(给出一句话、计算这句话生成的概率)、问答和对话。如果一个模型可以很好地解决这三个问题中的任意一个，那这个模型也可以判断语义、语法、逻辑是否正确。"
   ]
  },
  {
   "cell_type": "markdown",
   "metadata": {},
   "source": [
    "#### 3. Why is transfer learning in NLP harder than Computer Vision?   为什么在NLP中进行迁移学习比在CV中困难？"
   ]
  },
  {
   "cell_type": "markdown",
   "metadata": {},
   "source": [
    "文字表达具有逻辑性、语义性和情感性，同一句话可能在不同的语序和语法下含义相差大，造成迁移困难。"
   ]
  },
  {
   "cell_type": "markdown",
   "metadata": {},
   "source": [
    "#### 4. What’s the reinforcement learning, and the differences compared to Supervised learning?   什么是强化学习，它与监督学习有哪些区别？"
   ]
  },
  {
   "cell_type": "markdown",
   "metadata": {},
   "source": [
    "强化学习以“试错”的方式进行学习，通过与环境交互获得的反馈指导行为，训练样本是不带标记的；而监督学习在学习过程中需要使用带标记的训练样本，但不需要与环境交互。\n",
    "\n",
    "此外，强化学习的目标是在某个环境下的特殊任务中依据回报信号学习到最优的动作选取策略，即使复杂的任务会被拆成多个子问题，这些子问题的最终目的也是为了获取最优策略；而监督学习追求在给定训练集和校验集上有比较好的表现，争取得到泛化能力比较强的模型。"
   ]
  },
  {
   "cell_type": "markdown",
   "metadata": {},
   "source": [
    "#### 5. What’s Graph Neural Network? Note the similarity of word-2-vec.  什么是图神经网络？注意它与word2vec的相似性。"
   ]
  },
  {
   "cell_type": "markdown",
   "metadata": {},
   "source": [
    "GNN是用来解决图问题(如社交网络、知识图谱等)的神经网络，图即代表实体及实体之间的联系。通过CNN特征提取、graph embedding等提取图的特征，进而实现分类、回归等任务。"
   ]
  },
  {
   "cell_type": "markdown",
   "metadata": {},
   "source": [
    "#### 6. What’s the semi-supervised learning and activate learning?   什么是半监督学习和主动学习？"
   ]
  },
  {
   "cell_type": "markdown",
   "metadata": {},
   "source": [
    "两者的目的都是充分利用有标签的样本，用较少的有标签样本提高整个分类器的精确度。\n",
    "\n",
    "半监督学习假设相特征相似的样本具有相同的标签，通过用有标签数据训练的、具有一定分类精度的基准分类器标注无标签样本。\n",
    "\n",
    "主动学习引入了专家系统，模型主动抛出价值高的无标签的数据，让专家系统标注，模型根据标注结果fine-tuning。"
   ]
  },
  {
   "cell_type": "markdown",
   "metadata": {},
   "source": [
    "#### 7. What’s the problems when AI models became bigger and bigger? 哪些问题会随着AI模型增大产生？"
   ]
  },
  {
   "cell_type": "markdown",
   "metadata": {},
   "source": [
    "需要更多的计算资源，增加了学术研究的壁垒；\n",
    "\n",
    "限制生产应用，容易脱离实际；\n",
    "\n",
    "代码复现难度大，导致论文错误被隐藏；\n",
    "\n",
    "消耗能源，破坏环境。"
   ]
  },
  {
   "cell_type": "markdown",
   "metadata": {},
   "source": [
    "#### 8. Please give some scenarios about Adversarial Attacking Examples.请给出对抗攻击样本的应用场景。"
   ]
  },
  {
   "cell_type": "markdown",
   "metadata": {},
   "source": [
    "深度学习具有不可解释性，通过向原始样本中添加一些微小的噪声观察对结果对影响可以发现模型的弱点，有助于提高神经网络的鲁棒性和可解释性。如在文本分类将文本的某个词语删除或替换成其它词语，人脸识别中在图像中增加噪点干扰。"
   ]
  },
  {
   "cell_type": "markdown",
   "metadata": {},
   "source": [
    "#### 9. Why is common sense reasoning  so hard? 为什么通识学习如此困难？"
   ]
  },
  {
   "cell_type": "markdown",
   "metadata": {},
   "source": [
    "日常对话中常识被默认为环境的一部分，常识通常不用文字写明；\n",
    "\n",
    "语言表达有时不够清晰；\n",
    "\n",
    "命名实体的细节不易处理。"
   ]
  },
  {
   "cell_type": "markdown",
   "metadata": {},
   "source": [
    "#### 10. 如果你要选择一个细分进行持续研究，你对哪个方面感兴趣？为什么？"
   ]
  },
  {
   "cell_type": "markdown",
   "metadata": {},
   "source": [
    "对本节的GNN比较感兴趣，主要因为它比其它神经网络更具有可解释性。可解释性与模型的应用广度和深度都有很大关系，很多领域都不接受“黑盒子”。可解释的模型应该会比不可解释的模型更有生命力吧。"
   ]
  },
  {
   "cell_type": "markdown",
   "metadata": {},
   "source": []
  }
 ],
 "metadata": {
  "kernelspec": {
   "display_name": "Python 3",
   "language": "python",
   "name": "python3"
  },
  "language_info": {
   "codemirror_mode": {
    "name": "ipython",
    "version": 3
   },
   "file_extension": ".py",
   "mimetype": "text/x-python",
   "name": "python",
   "nbconvert_exporter": "python",
   "pygments_lexer": "ipython3",
   "version": "3.7.4"
  }
 },
 "nbformat": 4,
 "nbformat_minor": 2
}
