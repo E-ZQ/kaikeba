{
 "cells": [
  {
   "cell_type": "markdown",
   "metadata": {},
   "source": [
    "# Assignment 12"
   ]
  },
  {
   "cell_type": "markdown",
   "metadata": {},
   "source": [
    "### 1.复习上课内容"
   ]
  },
  {
   "cell_type": "markdown",
   "metadata": {},
   "source": [
    "### 2.回答以下理论问题"
   ]
  },
  {
   "cell_type": "markdown",
   "metadata": {},
   "source": [
    "#### 1. 请写一下TF-IDF的计算公式"
   ]
  },
  {
   "cell_type": "markdown",
   "metadata": {},
   "source": [
    "$tf_{x,j}=\\frac{n_{x}}{N_{j}}$"
   ]
  },
  {
   "cell_type": "markdown",
   "metadata": {},
   "source": [
    "$idf_{x}=\\log{\\frac{N}{N_{x}}}$"
   ]
  },
  {
   "cell_type": "markdown",
   "metadata": {},
   "source": [
    "$TF-IDF_{x,j}=tf_{x,j}*idf_{x}$"
   ]
  },
  {
   "cell_type": "markdown",
   "metadata": {},
   "source": [
    "x为单词，j为第j个文档，N为文档总数量，$N_{x}$为包含单词x的文档总数量"
   ]
  },
  {
   "cell_type": "markdown",
   "metadata": {},
   "source": [
    "#### 2. LDA算法的基本假设是什么？"
   ]
  },
  {
   "cell_type": "markdown",
   "metadata": {},
   "source": [
    "假设语料库中包含K个主题，每个主题对应一个主题-词分布；每篇文档对应一个文档-主题分布。"
   ]
  },
  {
   "cell_type": "markdown",
   "metadata": {},
   "source": [
    "#### 3. 在TextRank算法中构建图的权重是如何得到的？"
   ]
  },
  {
   "cell_type": "markdown",
   "metadata": {},
   "source": [
    "如果以词为节点，权重为边两端词的共现次数；如果以句子为节点，权重为边两端句子的相似度。"
   ]
  },
  {
   "cell_type": "markdown",
   "metadata": {},
   "source": [
    "#### 4. 什么是命名实体识别？ 有什么应用场景？"
   ]
  },
  {
   "cell_type": "markdown",
   "metadata": {},
   "source": [
    "别文本中具有特定意义的实体，主要包括人名、地名、机构名、专有名词等，是关系抽取、事件抽取、知识图谱、信息提取、问答系统、句法分析、机器翻译等诸多NLP任务的基础。"
   ]
  },
  {
   "cell_type": "markdown",
   "metadata": {},
   "source": [
    "#### 5.NLP主要有哪几类任务 ？"
   ]
  },
  {
   "cell_type": "markdown",
   "metadata": {},
   "source": [
    "分类任务，如文本分类、情感分类；生成任务，如机器翻译、问答系统。"
   ]
  },
  {
   "cell_type": "markdown",
   "metadata": {},
   "source": [
    "### 3.实践题"
   ]
  },
  {
   "cell_type": "markdown",
   "metadata": {},
   "source": [
    "#### 3.1 手动实现TextRank算法 (在新闻数据中随机提取100条新闻训练词向量和做做法测试）"
   ]
  },
  {
   "cell_type": "markdown",
   "metadata": {},
   "source": [
    " 提示：\n",
    " 1. 确定窗口，建立图链接。   \n",
    " 2. 通过词向量相似度确定图上边的权重\n",
    " 3. 根据公式实现算法迭代(d=0.85)"
   ]
  },
  {
   "cell_type": "markdown",
   "metadata": {},
   "source": [
    "####  抽取关键字"
   ]
  },
  {
   "cell_type": "code",
   "execution_count": 1,
   "metadata": {},
   "outputs": [],
   "source": [
    "import jieba\n",
    "import numpy as np"
   ]
  },
  {
   "cell_type": "code",
   "execution_count": 2,
   "metadata": {},
   "outputs": [],
   "source": [
    "# 1.导入数据\n",
    "with open('sample.txt') as f1:\n",
    "    data = f1.read()\n",
    "data = data.replace('\\n', '')\n",
    "data = data.replace(' ', '')"
   ]
  },
  {
   "cell_type": "code",
   "execution_count": 3,
   "metadata": {},
   "outputs": [],
   "source": [
    "with open('stopwords.txt') as f2:\n",
    "    stopwords = f2.read().split('\\n')\n",
    "# stopwords"
   ]
  },
  {
   "cell_type": "code",
   "execution_count": 18,
   "metadata": {},
   "outputs": [],
   "source": [
    "import jieba.posseg as psg\n",
    "\n",
    "def textrank2(document, niters = 10, span=5, topK=20, d=0.85, allowPOS=('ns', 'n', 'vn', 'v')):\n",
    "    after_cut = [x.word for x in jieba.posseg.cut(document) if x.flag in allowPOS and len(x.word) > 1 and x.word not in stopwords]\n",
    "    words = list(set(after_cut))\n",
    "    co_matrix = np.zeros((len(words), len(words))) + 1.0 / len(words)\n",
    "    ws = np.ones((len(words)))\n",
    "    \n",
    "#     共现矩阵\n",
    "    for i in range(len(after_cut)):\n",
    "        m = words.index(after_cut[i])\n",
    "            \n",
    "        for j in range(i + 1, i + span):\n",
    "            if j >= len(words):\n",
    "                break                \n",
    "            n = words.index(after_cut[j])\n",
    "            co_matrix[m, n] += 1\n",
    "                \n",
    "    for k in range(niters):\n",
    "        ws = (1 - d) + d * np.dot(ws, 1. / np.sum(co_matrix, axis = 1).reshape(-1, 1) * co_matrix)\n",
    "\n",
    "    min_size = min(ws)\n",
    "    max_size = max(ws)\n",
    "#     print(ws)\n",
    "    \n",
    "    results = [(words[i], (ws[i] - min_size) / (max_size - min_size)) for i in range(len(ws))]\n",
    "    results = sorted(results, key = lambda x : x[1], reverse = True)\n",
    "    \n",
    "    return results[:topK]"
   ]
  },
  {
   "cell_type": "code",
   "execution_count": 20,
   "metadata": {
    "scrolled": false
   },
   "outputs": [
    {
     "data": {
      "text/plain": [
       "[('疫情', 1.0),\n",
       " ('病例', 0.9898187538042862),\n",
       " ('复工', 0.9809954486401348),\n",
       " ('感染者', 0.9707254097205869),\n",
       " ('复学', 0.8716243910533553),\n",
       " ('风险', 0.8679387085357313),\n",
       " ('没有', 0.6332799048226386),\n",
       " ('聚集', 0.6160697166496125),\n",
       " ('上海', 0.6138955033626536),\n",
       " ('武汉', 0.5739088401316976),\n",
       " ('控制', 0.4943744861864815),\n",
       " ('复产', 0.4943660423194757),\n",
       " ('可能', 0.49204223313232165),\n",
       " ('中国', 0.48528937406399797),\n",
       " ('口罩', 0.4836738714320965),\n",
       " ('核酸', 0.3856901276420387),\n",
       " ('传播', 0.3730395839583451),\n",
       " ('环节', 0.3723143915395561),\n",
       " ('需要', 0.3704240153499902),\n",
       " ('保持', 0.36614429671213966)]"
      ]
     },
     "execution_count": 20,
     "metadata": {},
     "output_type": "execute_result"
    }
   ],
   "source": [
    "textrank2(data)"
   ]
  },
  {
   "cell_type": "code",
   "execution_count": 16,
   "metadata": {
    "scrolled": false
   },
   "outputs": [
    {
     "data": {
      "text/plain": [
       "[('疫情', 1.0),\n",
       " ('病例', 0.6057541971353849),\n",
       " ('没有', 0.6041099614918801),\n",
       " ('感染者', 0.5321139769217231),\n",
       " ('复工', 0.5146290559377263),\n",
       " ('风险', 0.5051330146452009),\n",
       " ('疫苗', 0.4887178555535026),\n",
       " ('新冠', 0.47717365987422805),\n",
       " ('聚集', 0.4672679646935086),\n",
       " ('复学', 0.4666314228793633),\n",
       " ('可能', 0.38000092540078684),\n",
       " ('群体', 0.3614637932326081),\n",
       " ('防控', 0.35666470662798394),\n",
       " ('需要', 0.3423462224818712),\n",
       " ('免疫', 0.33351942219242287),\n",
       " ('病毒', 0.3264158957330911),\n",
       " ('武汉', 0.2858046972767431),\n",
       " ('控制', 0.2804712528125678),\n",
       " ('吃饭', 0.2739091641044968),\n",
       " ('中国', 0.26842355750653746)]"
      ]
     },
     "execution_count": 16,
     "metadata": {},
     "output_type": "execute_result"
    }
   ],
   "source": [
    "from jieba.analyse import *\n",
    "textrank(data, withWeight = True)"
   ]
  },
  {
   "cell_type": "markdown",
   "metadata": {},
   "source": [
    "#### 提取关键句"
   ]
  },
  {
   "cell_type": "code",
   "execution_count": 23,
   "metadata": {},
   "outputs": [],
   "source": [
    "import re\n",
    "from gensim.models import Word2Vec\n",
    "from sklearn.metrics.pairwise import cosine_similarity\n",
    "from scipy.spatial.distance import cosine"
   ]
  },
  {
   "cell_type": "code",
   "execution_count": 24,
   "metadata": {},
   "outputs": [],
   "source": [
    "def cut(document):\n",
    "    sents = []\n",
    "    marks = '[。！；？]'\n",
    "    sentences = re.split(marks, document)[:-1]\n",
    "    \n",
    "    for sentence in sentences:\n",
    "        sentence = ''.join(re.findall(r'[\\u4e00-\\u9fa5]+', sentence))\n",
    "        sents.append([x for x in jieba.cut(sentence) if x not in stopwords])\n",
    "    \n",
    "    return sents, sentences"
   ]
  },
  {
   "cell_type": "code",
   "execution_count": 25,
   "metadata": {},
   "outputs": [],
   "source": [
    "sentences_seg, sentences = cut(data)\n",
    "wordmodel = Word2Vec(sentences_seg, size = 20, min_count=1)"
   ]
  },
  {
   "cell_type": "code",
   "execution_count": 32,
   "metadata": {},
   "outputs": [],
   "source": [
    "def textrank3(sents, sentences):\n",
    "    sentences_vector=[]\n",
    "    n = len(sents)\n",
    "    \n",
    "    # 生成平均句向量\n",
    "    for sen in sents:\n",
    "        sum_vec = np.zeros((20,))\n",
    "        for word in sen:\n",
    "            if word in wordmodel:\n",
    "                sum_vec += wordmodel.wv[word]\n",
    "            else:\n",
    "                print(word, \"not in wordmodel.\")\n",
    "\n",
    "        sentences_vector.append(sum_vec/(len(sen) + 1e-5))\n",
    "    \n",
    "#     print(sentences_vector)\n",
    "    \n",
    "    # 生成句向量的相似度矩阵\n",
    "    sim_matrix = np.zeros((n, n)) + 1.0 / n\n",
    "    for i in range(n):\n",
    "        for j in range(n):\n",
    "            if i != j:\n",
    "                sim_matrix[i, j] = cosine_similarity(sentences_vector[i].reshape(1,-1), sentences_vector[j].reshape(1,-1))[0,0]\n",
    "#                 sim_matrix[i, j] = cosine(sentences_vector[i], sentences_vector[j])\n",
    "#     print(sim_matrix)\n",
    "    \n",
    "    # 手写\n",
    "    scores = np.ones(n)\n",
    "    for k in range(100):\n",
    "        scores = 0.15 + 0.85 * np.dot(scores, 1. / np.sum(sim_matrix, axis = 1).reshape(-1, 1) * sim_matrix)\n",
    "    \n",
    "    ranked_sentences = sorted(((scores[i], s) for i, s in enumerate(sentences)), key = lambda x:x[0], reverse=True)\n",
    "    \n",
    "    return ranked_sentences\n",
    "\n",
    "def print_abstract(ranked_sentences, topn = 5):\n",
    "    abstract = ''\n",
    "    num_sentences = min(topn, len(ranked_sentences))\n",
    "    for i in range(num_sentences):\n",
    "        abstract += ranked_sentences[i][1]\n",
    "        abstract += '。'\n",
    "#     print(abstract)\n",
    "    \n",
    "    return abstract"
   ]
  },
  {
   "cell_type": "code",
   "execution_count": 33,
   "metadata": {},
   "outputs": [
    {
     "name": "stderr",
     "output_type": "stream",
     "text": [
      "/Applications/anaconda3/lib/python3.7/site-packages/ipykernel_launcher.py:9: DeprecationWarning: Call to deprecated `__contains__` (Method will be removed in 4.0.0, use self.wv.__contains__() instead).\n",
      "  if __name__ == '__main__':\n"
     ]
    },
    {
     "data": {
      "text/plain": [
       "'流感是每年全球都会大流行的疾病，但从来没有说流感成了群体免疫，第二年依然要接种流感疫苗。但我的预测也有错误，因为最糟糕的情况也发生了，疫情正在全世界蔓延，而且没有得到控制。学生开学之后可能会带来聚集性疫情吗。复学是极其重要的事情，一旦复学有人传播，就是校内传播。第一要充分评估风险，第二要做好预防措施，第三不要太耽搁学业，分批精准地进行复工复学。'"
      ]
     },
     "execution_count": 33,
     "metadata": {},
     "output_type": "execute_result"
    }
   ],
   "source": [
    "results = textrank3(sentences_seg, sentences)\n",
    "print_abstract(results)"
   ]
  },
  {
   "cell_type": "markdown",
   "metadata": {},
   "source": [
    "抽取句子经过100轮迭代之后仍未收敛。"
   ]
  },
  {
   "cell_type": "markdown",
   "metadata": {},
   "source": [
    "#### 选做 1.  提取新闻语料里的对话。(使用以上提取小数据即可）"
   ]
  },
  {
   "cell_type": "markdown",
   "metadata": {},
   "source": [
    "提示：    \n",
    "1.寻找预料里具有表示说的意思。    \n",
    "2.使用语法分析提取句子结构。    \n",
    "3.检测谓语是否有表示说的意思。"
   ]
  },
  {
   "cell_type": "markdown",
   "metadata": {},
   "source": [
    "#### 选择2. ： 电影评论分类。"
   ]
  },
  {
   "cell_type": "markdown",
   "metadata": {},
   "source": [
    "在这个作业中你要完成一个电影评论分类任务。"
   ]
  },
  {
   "cell_type": "markdown",
   "metadata": {},
   "source": [
    "1.数据获取。（采用爬虫技术爬取相关网页上的电影评论数据，例如猫眼电影评论，豆瓣电影评论）"
   ]
  },
  {
   "cell_type": "markdown",
   "metadata": {},
   "source": [
    "2.把所获得数据分解为训练集，验证集和测试集。"
   ]
  },
  {
   "cell_type": "markdown",
   "metadata": {},
   "source": [
    "3.选用相应算法构建模型，并测试。"
   ]
  },
  {
   "cell_type": "markdown",
   "metadata": {},
   "source": [
    "#### 选择3：文章自动续写"
   ]
  },
  {
   "cell_type": "markdown",
   "metadata": {},
   "source": [
    "在这个作业中你要完成一个文章自动续写的模型。"
   ]
  },
  {
   "cell_type": "markdown",
   "metadata": {},
   "source": [
    "1.数据获取。（根据你的兴趣采用爬虫技术爬去相关网站上的文本数据内容：比如故事网站，小说网站等）"
   ]
  },
  {
   "cell_type": "markdown",
   "metadata": {},
   "source": [
    "2.选取模型，并训练。"
   ]
  },
  {
   "cell_type": "markdown",
   "metadata": {},
   "source": [
    "3.展示一些你模型的输出例子。"
   ]
  }
 ],
 "metadata": {
  "kernelspec": {
   "display_name": "Python 3",
   "language": "python",
   "name": "python3"
  },
  "language_info": {
   "codemirror_mode": {
    "name": "ipython",
    "version": 3
   },
   "file_extension": ".py",
   "mimetype": "text/x-python",
   "name": "python",
   "nbconvert_exporter": "python",
   "pygments_lexer": "ipython3",
   "version": "3.7.4"
  }
 },
 "nbformat": 4,
 "nbformat_minor": 2
}
